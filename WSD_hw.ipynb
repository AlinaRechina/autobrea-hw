{
  "cells": [
    {
      "cell_type": "markdown",
      "source": [
        "### Установка библиотек"
      ],
      "metadata": {
        "id": "9YVS6Jw7uKMI"
      }
    },
    {
      "cell_type": "code",
      "source": [
        "!wget http://vectors.nlpl.eu/repository/20/196.zip"
      ],
      "metadata": {
        "colab": {
          "base_uri": "https://localhost:8080/"
        },
        "id": "Uk4eyeNqXvEV",
        "outputId": "d510c661-95da-4d37-c4e6-abe05f611762"
      },
      "execution_count": 1,
      "outputs": [
        {
          "output_type": "stream",
          "name": "stdout",
          "text": [
            "--2023-12-07 20:12:40--  http://vectors.nlpl.eu/repository/20/196.zip\n",
            "Resolving vectors.nlpl.eu (vectors.nlpl.eu)... 129.240.189.181\n",
            "Connecting to vectors.nlpl.eu (vectors.nlpl.eu)|129.240.189.181|:80... connected.\n",
            "HTTP request sent, awaiting response... 200 OK\n",
            "Length: 206986351 (197M) [application/zip]\n",
            "Saving to: ‘196.zip’\n",
            "\n",
            "196.zip             100%[===================>] 197.40M  23.3MB/s    in 9.3s    \n",
            "\n",
            "2023-12-07 20:12:50 (21.2 MB/s) - ‘196.zip’ saved [206986351/206986351]\n",
            "\n"
          ]
        }
      ]
    },
    {
      "cell_type": "code",
      "source": [
        "!unzip /content/196.zip -d '196'"
      ],
      "metadata": {
        "colab": {
          "base_uri": "https://localhost:8080/"
        },
        "id": "MJ5oXYOMYEVM",
        "outputId": "c96b6517-b89a-4f13-bad9-417e382ea3a1"
      },
      "execution_count": 2,
      "outputs": [
        {
          "output_type": "stream",
          "name": "stdout",
          "text": [
            "Archive:  /content/196.zip\n",
            "  inflating: 196/meta.json           \n",
            "  inflating: 196/model.hdf5          \n",
            "  inflating: 196/options.json        \n",
            "  inflating: 196/README              \n",
            "  inflating: 196/vocab.txt           \n"
          ]
        }
      ]
    },
    {
      "cell_type": "code",
      "source": [
        "!pip install simple-elmo"
      ],
      "metadata": {
        "colab": {
          "base_uri": "https://localhost:8080/"
        },
        "id": "tlLb9GZnRNBz",
        "outputId": "95f468e1-966f-4aff-9141-349a00eff75e"
      },
      "execution_count": 3,
      "outputs": [
        {
          "output_type": "stream",
          "name": "stdout",
          "text": [
            "Collecting simple-elmo\n",
            "  Downloading simple_elmo-0.9.2-py3-none-any.whl (46 kB)\n",
            "\u001b[2K     \u001b[90m━━━━━━━━━━━━━━━━━━━━━━━━━━━━━━━━━━━━━━━━\u001b[0m \u001b[32m46.2/46.2 kB\u001b[0m \u001b[31m784.6 kB/s\u001b[0m eta \u001b[36m0:00:00\u001b[0m\n",
            "\u001b[?25hRequirement already satisfied: h5py in /usr/local/lib/python3.10/dist-packages (from simple-elmo) (3.9.0)\n",
            "Requirement already satisfied: numpy in /usr/local/lib/python3.10/dist-packages (from simple-elmo) (1.23.5)\n",
            "Requirement already satisfied: smart-open>1.8.1 in /usr/local/lib/python3.10/dist-packages (from simple-elmo) (6.4.0)\n",
            "Requirement already satisfied: pandas in /usr/local/lib/python3.10/dist-packages (from simple-elmo) (1.5.3)\n",
            "Requirement already satisfied: scipy in /usr/local/lib/python3.10/dist-packages (from simple-elmo) (1.11.4)\n",
            "Requirement already satisfied: python-dateutil>=2.8.1 in /usr/local/lib/python3.10/dist-packages (from pandas->simple-elmo) (2.8.2)\n",
            "Requirement already satisfied: pytz>=2020.1 in /usr/local/lib/python3.10/dist-packages (from pandas->simple-elmo) (2023.3.post1)\n",
            "Requirement already satisfied: six>=1.5 in /usr/local/lib/python3.10/dist-packages (from python-dateutil>=2.8.1->pandas->simple-elmo) (1.16.0)\n",
            "Installing collected packages: simple-elmo\n",
            "Successfully installed simple-elmo-0.9.2\n"
          ]
        }
      ]
    },
    {
      "cell_type": "code",
      "source": [
        "!pip install pymorphy2"
      ],
      "metadata": {
        "id": "4p5GlcjPuJK0",
        "colab": {
          "base_uri": "https://localhost:8080/"
        },
        "outputId": "8f3ee887-e2f5-4eb0-aa8a-b14512cf7ebd"
      },
      "execution_count": 4,
      "outputs": [
        {
          "output_type": "stream",
          "name": "stdout",
          "text": [
            "Collecting pymorphy2\n",
            "  Downloading pymorphy2-0.9.1-py3-none-any.whl (55 kB)\n",
            "\u001b[2K     \u001b[90m━━━━━━━━━━━━━━━━━━━━━━━━━━━━━━━━━━━━━━━━\u001b[0m \u001b[32m55.5/55.5 kB\u001b[0m \u001b[31m1.8 MB/s\u001b[0m eta \u001b[36m0:00:00\u001b[0m\n",
            "\u001b[?25hCollecting dawg-python>=0.7.1 (from pymorphy2)\n",
            "  Downloading DAWG_Python-0.7.2-py2.py3-none-any.whl (11 kB)\n",
            "Collecting pymorphy2-dicts-ru<3.0,>=2.4 (from pymorphy2)\n",
            "  Downloading pymorphy2_dicts_ru-2.4.417127.4579844-py2.py3-none-any.whl (8.2 MB)\n",
            "\u001b[2K     \u001b[90m━━━━━━━━━━━━━━━━━━━━━━━━━━━━━━━━━━━━━━━━\u001b[0m \u001b[32m8.2/8.2 MB\u001b[0m \u001b[31m60.7 MB/s\u001b[0m eta \u001b[36m0:00:00\u001b[0m\n",
            "\u001b[?25hCollecting docopt>=0.6 (from pymorphy2)\n",
            "  Downloading docopt-0.6.2.tar.gz (25 kB)\n",
            "  Preparing metadata (setup.py) ... \u001b[?25l\u001b[?25hdone\n",
            "Building wheels for collected packages: docopt\n",
            "  Building wheel for docopt (setup.py) ... \u001b[?25l\u001b[?25hdone\n",
            "  Created wheel for docopt: filename=docopt-0.6.2-py2.py3-none-any.whl size=13706 sha256=237b9f53e1d2d645ea87eee93be8a024fab617188cf029d90f5916d5ea87b727\n",
            "  Stored in directory: /root/.cache/pip/wheels/fc/ab/d4/5da2067ac95b36618c629a5f93f809425700506f72c9732fac\n",
            "Successfully built docopt\n",
            "Installing collected packages: pymorphy2-dicts-ru, docopt, dawg-python, pymorphy2\n",
            "Successfully installed dawg-python-0.7.2 docopt-0.6.2 pymorphy2-0.9.1 pymorphy2-dicts-ru-2.4.417127.4579844\n"
          ]
        }
      ]
    },
    {
      "cell_type": "code",
      "source": [
        "!pip install datasets"
      ],
      "metadata": {
        "id": "XTEY6GV-uOna",
        "colab": {
          "base_uri": "https://localhost:8080/"
        },
        "outputId": "9a403b73-7c64-4e1f-cdde-b15125be9ca8"
      },
      "execution_count": 5,
      "outputs": [
        {
          "output_type": "stream",
          "name": "stdout",
          "text": [
            "Collecting datasets\n",
            "  Downloading datasets-2.15.0-py3-none-any.whl (521 kB)\n",
            "\u001b[2K     \u001b[90m━━━━━━━━━━━━━━━━━━━━━━━━━━━━━━━━━━━━━━━━\u001b[0m \u001b[32m521.2/521.2 kB\u001b[0m \u001b[31m9.0 MB/s\u001b[0m eta \u001b[36m0:00:00\u001b[0m\n",
            "\u001b[?25hRequirement already satisfied: numpy>=1.17 in /usr/local/lib/python3.10/dist-packages (from datasets) (1.23.5)\n",
            "Requirement already satisfied: pyarrow>=8.0.0 in /usr/local/lib/python3.10/dist-packages (from datasets) (9.0.0)\n",
            "Collecting pyarrow-hotfix (from datasets)\n",
            "  Downloading pyarrow_hotfix-0.6-py3-none-any.whl (7.9 kB)\n",
            "Collecting dill<0.3.8,>=0.3.0 (from datasets)\n",
            "  Downloading dill-0.3.7-py3-none-any.whl (115 kB)\n",
            "\u001b[2K     \u001b[90m━━━━━━━━━━━━━━━━━━━━━━━━━━━━━━━━━━━━━━━━\u001b[0m \u001b[32m115.3/115.3 kB\u001b[0m \u001b[31m16.5 MB/s\u001b[0m eta \u001b[36m0:00:00\u001b[0m\n",
            "\u001b[?25hRequirement already satisfied: pandas in /usr/local/lib/python3.10/dist-packages (from datasets) (1.5.3)\n",
            "Requirement already satisfied: requests>=2.19.0 in /usr/local/lib/python3.10/dist-packages (from datasets) (2.31.0)\n",
            "Requirement already satisfied: tqdm>=4.62.1 in /usr/local/lib/python3.10/dist-packages (from datasets) (4.66.1)\n",
            "Requirement already satisfied: xxhash in /usr/local/lib/python3.10/dist-packages (from datasets) (3.4.1)\n",
            "Collecting multiprocess (from datasets)\n",
            "  Downloading multiprocess-0.70.15-py310-none-any.whl (134 kB)\n",
            "\u001b[2K     \u001b[90m━━━━━━━━━━━━━━━━━━━━━━━━━━━━━━━━━━━━━━━━\u001b[0m \u001b[32m134.8/134.8 kB\u001b[0m \u001b[31m18.6 MB/s\u001b[0m eta \u001b[36m0:00:00\u001b[0m\n",
            "\u001b[?25hRequirement already satisfied: fsspec[http]<=2023.10.0,>=2023.1.0 in /usr/local/lib/python3.10/dist-packages (from datasets) (2023.6.0)\n",
            "Requirement already satisfied: aiohttp in /usr/local/lib/python3.10/dist-packages (from datasets) (3.9.1)\n",
            "Requirement already satisfied: huggingface-hub>=0.18.0 in /usr/local/lib/python3.10/dist-packages (from datasets) (0.19.4)\n",
            "Requirement already satisfied: packaging in /usr/local/lib/python3.10/dist-packages (from datasets) (23.2)\n",
            "Requirement already satisfied: pyyaml>=5.1 in /usr/local/lib/python3.10/dist-packages (from datasets) (6.0.1)\n",
            "Requirement already satisfied: attrs>=17.3.0 in /usr/local/lib/python3.10/dist-packages (from aiohttp->datasets) (23.1.0)\n",
            "Requirement already satisfied: multidict<7.0,>=4.5 in /usr/local/lib/python3.10/dist-packages (from aiohttp->datasets) (6.0.4)\n",
            "Requirement already satisfied: yarl<2.0,>=1.0 in /usr/local/lib/python3.10/dist-packages (from aiohttp->datasets) (1.9.3)\n",
            "Requirement already satisfied: frozenlist>=1.1.1 in /usr/local/lib/python3.10/dist-packages (from aiohttp->datasets) (1.4.0)\n",
            "Requirement already satisfied: aiosignal>=1.1.2 in /usr/local/lib/python3.10/dist-packages (from aiohttp->datasets) (1.3.1)\n",
            "Requirement already satisfied: async-timeout<5.0,>=4.0 in /usr/local/lib/python3.10/dist-packages (from aiohttp->datasets) (4.0.3)\n",
            "Requirement already satisfied: filelock in /usr/local/lib/python3.10/dist-packages (from huggingface-hub>=0.18.0->datasets) (3.13.1)\n",
            "Requirement already satisfied: typing-extensions>=3.7.4.3 in /usr/local/lib/python3.10/dist-packages (from huggingface-hub>=0.18.0->datasets) (4.5.0)\n",
            "Requirement already satisfied: charset-normalizer<4,>=2 in /usr/local/lib/python3.10/dist-packages (from requests>=2.19.0->datasets) (3.3.2)\n",
            "Requirement already satisfied: idna<4,>=2.5 in /usr/local/lib/python3.10/dist-packages (from requests>=2.19.0->datasets) (3.6)\n",
            "Requirement already satisfied: urllib3<3,>=1.21.1 in /usr/local/lib/python3.10/dist-packages (from requests>=2.19.0->datasets) (2.0.7)\n",
            "Requirement already satisfied: certifi>=2017.4.17 in /usr/local/lib/python3.10/dist-packages (from requests>=2.19.0->datasets) (2023.11.17)\n",
            "Requirement already satisfied: python-dateutil>=2.8.1 in /usr/local/lib/python3.10/dist-packages (from pandas->datasets) (2.8.2)\n",
            "Requirement already satisfied: pytz>=2020.1 in /usr/local/lib/python3.10/dist-packages (from pandas->datasets) (2023.3.post1)\n",
            "Requirement already satisfied: six>=1.5 in /usr/local/lib/python3.10/dist-packages (from python-dateutil>=2.8.1->pandas->datasets) (1.16.0)\n",
            "Installing collected packages: pyarrow-hotfix, dill, multiprocess, datasets\n",
            "Successfully installed datasets-2.15.0 dill-0.3.7 multiprocess-0.70.15 pyarrow-hotfix-0.6\n"
          ]
        }
      ]
    },
    {
      "cell_type": "code",
      "source": [
        "from google.colab import drive\n",
        "drive.mount('/content/drive')"
      ],
      "metadata": {
        "colab": {
          "base_uri": "https://localhost:8080/"
        },
        "id": "rz5_k6Ezv8hO",
        "outputId": "e6bf7040-6b90-400d-dc38-09b5e7da5bff"
      },
      "execution_count": 6,
      "outputs": [
        {
          "output_type": "stream",
          "name": "stdout",
          "text": [
            "Mounted at /content/drive\n"
          ]
        }
      ]
    },
    {
      "cell_type": "code",
      "source": [
        "!pip install Cython\n",
        "!pip install git+https://github.com/lopuhin/python-adagram.git"
      ],
      "metadata": {
        "id": "zev4gMa5wCUa",
        "colab": {
          "base_uri": "https://localhost:8080/"
        },
        "outputId": "6fa239da-ac85-4690-c31c-d78d643f360d"
      },
      "execution_count": 7,
      "outputs": [
        {
          "output_type": "stream",
          "name": "stdout",
          "text": [
            "Requirement already satisfied: Cython in /usr/local/lib/python3.10/dist-packages (3.0.6)\n",
            "Collecting git+https://github.com/lopuhin/python-adagram.git\n",
            "  Cloning https://github.com/lopuhin/python-adagram.git to /tmp/pip-req-build-zvrgqgd6\n",
            "  Running command git clone --filter=blob:none --quiet https://github.com/lopuhin/python-adagram.git /tmp/pip-req-build-zvrgqgd6\n",
            "  Resolved https://github.com/lopuhin/python-adagram.git to commit cf3639f10d6a1efbcb602f45a1da89ef55ce5794\n",
            "  Preparing metadata (setup.py) ... \u001b[?25l\u001b[?25hdone\n",
            "Requirement already satisfied: cython in /usr/local/lib/python3.10/dist-packages (from adagram==0.0.1) (3.0.6)\n",
            "Requirement already satisfied: joblib in /usr/local/lib/python3.10/dist-packages (from adagram==0.0.1) (1.3.2)\n",
            "Requirement already satisfied: numpy>=1.9 in /usr/local/lib/python3.10/dist-packages (from adagram==0.0.1) (1.23.5)\n",
            "Requirement already satisfied: six in /usr/local/lib/python3.10/dist-packages (from adagram==0.0.1) (1.16.0)\n",
            "Building wheels for collected packages: adagram\n",
            "  Building wheel for adagram (setup.py) ... \u001b[?25l\u001b[?25hdone\n",
            "  Created wheel for adagram: filename=adagram-0.0.1-cp310-cp310-linux_x86_64.whl size=686346 sha256=8bdbae9e786cb5f7ecd88899e87f4f749ffc24fad9ff762c3dc6ae814b35f6e1\n",
            "  Stored in directory: /tmp/pip-ephem-wheel-cache-u9g3ru6a/wheels/88/8b/fc/291709600177e98c9bba397433476b87d894ca506e78302432\n",
            "Successfully built adagram\n",
            "Installing collected packages: adagram\n",
            "Successfully installed adagram-0.0.1\n"
          ]
        }
      ]
    },
    {
      "cell_type": "code",
      "source": [
        "#!curl \"https://s3.amazonaws.com/kostia.lopuhin/all.a010.p10.d300.w5.m100.nonorm.slim.joblib\" > /content/drive/MyDrive/Конспекты/автобрея/all.a010.p10.d300.w5.m100.nonorm.slim.joblib"
      ],
      "metadata": {
        "id": "rr8x_fvzuXDL"
      },
      "execution_count": 8,
      "outputs": []
    },
    {
      "cell_type": "markdown",
      "metadata": {
        "id": "ki64-oRPtcoC"
      },
      "source": [
        "# Homework 1 - WSD\n",
        "Гитхаб с заданием: https://github.com/named-entity/hse-nlp/blob/master/4th_year/hw/hw1.md"
      ]
    },
    {
      "cell_type": "markdown",
      "source": [
        "## Задание 1\n",
        "Выберите 5 неоднозначных лексем и соберите для них словарные значения (толкования). Можно использовать МАС или любой другой толковый словарь. Обязательно укажите, каким словарем вы пользовались. - 1 балл за ручной сбор данных, 1 балл за краулинг\n",
        "\n",
        "Пусть это будут лексемы: **замок, взгляд, охота, предлог и приложение.**\n",
        "\n",
        "Позволю себе объединить подпункты одного значения слова вместе. Определения взяты из МАС."
      ],
      "metadata": {
        "id": "Zr5eh67oRaKT"
      }
    },
    {
      "cell_type": "code",
      "execution_count": 9,
      "metadata": {
        "id": "HeyovJgCtcoR"
      },
      "outputs": [],
      "source": [
        "zamok1 = 'Дворец и крепость феодала. 2. Большой помещичий дом затейливой архитектуры.'\n",
        "zamok2 = '1. Устройство для запирания чего-л. ключом. 2. Приспособление для смыкания, соединения концов чего-л. (цепочки, браслета и пр.).'\n",
        "\n",
        "vzglyad1 = '1. Направленность, устремленность глаз, зрения на кого-, что-л.; взор. 2. Выражение глаз.'\n",
        "vzglyad2 = '1. Мнение, суждение по поводу кого-, чего-л. 2. Образ мыслей; убеждения, воззрения.'\n",
        "\n",
        "ohota1 = 'Поиски и преследование зверя или птицы с целью добычи или истребления.'\n",
        "ohota2 = 'Собаки, ловчие птицы и т. п., необходимые для поисков, преследования и поимки зверя или птиц, а также люди, участвующие в поисках, преследовании и поимке зверя или птицы.'\n",
        "# мне кажется, ohota2 не встретится, буду игнорировать\n",
        "ohota3 = 'Желание чего-л., склонность к чему-л. Есть желание, хочется.'\n",
        "\n",
        "predlojenie1 = 'Действие по знач. глаг. предложить. То, что предложено, предлагается.' # мне это кажется одним значением, в МАС их два\n",
        "predlojenie2 = 'Просьба мужчины, обращенная к женщине, вступить с ним в брак.'\n",
        "predlojenie3 = 'Поступление товаров на рынок.'\n",
        "predlojenie4 = 'Высказывание, являющееся сообщением о чем-л.'\n",
        "\n",
        "prilojenie1 = 'Действие по знач. глаг. приложить. (Приложение силы)'\n",
        "prilojenie2 = 'То, что является добавлением к чему-л., что придано, приложено.'\n",
        "prilojenie3 = 'Определение, выраженное именем существительным, согласованным с определяемым словом.'\n",
        "prilojenie4 = 'Программа, имеющая пользовательский интерфейс.' # А это от меня"
      ]
    },
    {
      "cell_type": "markdown",
      "metadata": {
        "id": "tELS3ASNtcoW"
      },
      "source": [
        "## Задание 2\n",
        "\n",
        "Выберите один или несколько корпусов коллекции Corus, извлеките оттуда все предложения, где содержатся ваши неоднозначные слова. - 1 балл\n",
        "\n",
        "У меня не пожелала работать библиотека Corpus, так что я возьму два датасета с хаггинг фейса."
      ]
    },
    {
      "cell_type": "code",
      "execution_count": 10,
      "metadata": {
        "id": "qtyZd6bhtcoY",
        "colab": {
          "base_uri": "https://localhost:8080/",
          "height": 0,
          "referenced_widgets": [
            "35555fdde0e64eaba6ccb2dc43707134",
            "186cabc6379041fdb0afdee07c48d4e7",
            "841b797307e8435091f1bc409a95f6b3",
            "6474acb63e0046b996ae11df9bf22d27",
            "0f06183c47604aba8bf478913d2f22ad",
            "6aca1d688f454cac88473805de76c8d4",
            "20e4a160f8ad4c67af5620e01875a77e",
            "30ffb328913846e0b2ae75c10636d870",
            "86508886d2ab46c5a1f4bf2e4c127a94",
            "b4fef63bcc064bcfa5da40f36488bcf6",
            "2600839e4944453ea00fbf54fad38fb5",
            "07c14b7b1b2d40bda437d36e892e5aac",
            "25da85ffd0bd4acc8986597b8dbee10b",
            "361031aaf76c4ca3b5483a8e9f0fc232",
            "02101b1730e344aba399cff4f31ee1dc",
            "ede0978784014496a0de3631711c868e",
            "c0aa4b6fb0d24cecb22b9a655d337eed",
            "4aa388f9604a4b6cb71c3035059f3339",
            "9a2c58196abc4cffa24fe4da0971d3cb",
            "9c8b7da659234dff8168099bba8c6ec8",
            "2bcc8db137be4381a819248e9c195e15",
            "91cbe40c97f541e7a72d438802e80497",
            "2e7de924b68a4224a529b769abc18dc8",
            "6552193663d040078a104a9d3d1b719d",
            "4f14b7f3eb274e81873d688de589abc2",
            "5dd05209531d4ec088482b381a05c80e",
            "6252eee6542c40c99510fbe8197b253c",
            "9a9215422b4b459ebbf1d6f8366809c6",
            "d6f02c2ca4864fbc943e078bd72a5ac7",
            "57f1131e2d8f4ecda4f80e1f7c9edea6",
            "3ef67c12faf04a5e824ae0be578ae14c",
            "30709d47538d4ce9af87ffe21e4af8d0",
            "db0f8afbf7bc4af49e717a8d06eb98c2",
            "4c4b17e3dfc14e759b186921413afd69",
            "bf380d3dfd2e40d8a378c5db94e11c2d",
            "63f2d672f8f14673b0ae9979e378306c",
            "f3b90112a60e4ae9a2fcec560d760a5f",
            "7aecb0094ff149e09e5fabcaa72c2999",
            "4dc28b155bda4b1395b0004f82042195",
            "5c3d420dc0134e79a8872e7fa0b6064b",
            "9da87be567f640ee951999e18cad6e0a",
            "251136d3a2664b369a972646a32fd129",
            "19432957c3f24135be3a248df0d8e27d",
            "d6b5e27e5dab4f4aabfe1fb924a23803",
            "eb3f8c46b5bf439c90f3ed868425bd68",
            "0aa9368921454eaa984a796490661fb0",
            "b5d00da32358424f9e5839c325b66c1f",
            "17bdc377956b455a82d6859b8533aba6",
            "e8b56d9b8c9445bfbf2ff8504fdf1953",
            "3f63d03b8e624e969e134c8694d1613c",
            "2d6b7eb7ff234e5fb78e8bcbad045cb1",
            "621909b7d8994f57b41e9185c5b52be8",
            "f48eb0b27b6c48e5bff96a412c320109",
            "82936aacbcc447a8ad064814fc9871be",
            "1d84aaab939444ce9d95ea15c1404eff",
            "c95f95cdeb8d4517bbb1efe4aa1a2bdc",
            "291ab3cfcc75436ab9300fc6d5e00eaf",
            "577fab99af2445e9be72d8fd9742c8fe",
            "b3f8b10a6f9248a388dd3ec2375f9fa3",
            "83951b6b8d2745a385163ce9c116db0d",
            "3aada8eb71514680b3fa1a3e0a45531b",
            "01f0bc395db74a298a326c4a8d9555cc",
            "ea4f4b64ee9a44a2a13e686e9bdb7e63",
            "d1b18a93097d4bcb8f19d651312bbb4f",
            "d959d93a4a8c41fd9ea9d27b913e2a78",
            "65dc334f7d00424ea7beb592113915c9",
            "09c3e1fb57d546f9bb13c134fdc18258",
            "41b7dd4b64ef483d9d72cf4bc8427c36",
            "f5e6c68bd081438383d5b091b108f09e",
            "3693a4e2eddb4acbbdc760b89682e539",
            "c7a1b487556b4a6aa2f07ae20288fa9d",
            "f4696ad1bf4f4a30b29f4a5f769c75ff",
            "ba2e7fae0f454e6599031d152539628a",
            "ebe7b148540f4ac08b2cdd274325b999",
            "8052c10d9cec49a4a6ebf7928b69d9b4",
            "76a1ff6abd2b44bb80ce72dd06a2feaa",
            "931ae926e3d54378b4cb5d106ed726d6",
            "916873485e764f2693abfba9622bd70b",
            "d949464e582c4bbca356b589ac509a69",
            "151f6b3dda56490a9ddcdc6b87a22cad",
            "3bccf2cabd634f7e9ac18776be506a6d",
            "77f42e9083184b9e9c13d801012883da",
            "672fc75551f84ef4af9a2acd00458333",
            "c6932d82c89b4dbb86c5cb58951f0809",
            "3eb49f186f8242abbe92ccb06091c471",
            "dff624e7f12d47e2867753286fcc3e78",
            "5562f144d4b94ff082f65f495c5c5c69",
            "f0ebc995ef2840d3b9473dc3853ef1a9",
            "2a59a7bc7afc4362889e0c14f3b7a303",
            "e3f9836acaa64894b9e77859f0f66f51",
            "f08ab716f54241afa0fdba1e42c28bb1",
            "1a48129fb9e747cb9b0aaf7e0418fdc6",
            "6b7ea388d6674f939b1cd7a44be09068",
            "30159a3675b04f73b7f38ad80678321b",
            "9b4a53a6f9e6478c8cd0666c3118e323",
            "246014aa3e0e473fb24c60ad74213aec",
            "a5d4a41c647e4a64936f1f262bf41276",
            "e70cb26b0fc4414c8977f3ff772d0160",
            "45418baceac9481a9f662968421a49f0",
            "cc66fce53f2844c38022d1321fd99966",
            "43f538a4451948849554986c694d7267",
            "ca3378f404bf4c10bf5963379939021f",
            "1c4bb9b9147641acb4d087f9828ec183",
            "837be322646d4270bb44009ee7fb38eb",
            "d5dd90de1fa24a73a06cf886f0ecfae7",
            "8dc0b97274e24d84a458cd896a888fb8",
            "145b6b86ea2244b0961e6557136cd02a",
            "a49f14dd7126475693aa0fe7fa4eece9",
            "47a87b1ddeec450d884df5d923f44dc9",
            "323155de59f04a50abfc2e3c3a1f2f3a",
            "4a762b7427f14ff5a22a727649965e20",
            "8881b887e7f04827a30504c227d8703f",
            "081d87ac2fba4178a936b549846f067e",
            "2adb2299ff51445f9c384493a23cf5a9",
            "b73f3948fdad4c67b04709b492ce975a",
            "e184566184784b139fbd9262324b21ba",
            "c80da22a8d6f4e94bcebaf3d4a2cfc1f",
            "1dac6c194d48479ea4863854017b682f",
            "dc588262c3da48e8930a2310595eedd2",
            "aba626f0e31f44dbb8cf9202d2d4f90a",
            "4f2a264b28f947329af2e5c954e2257b",
            "38a0891f2ee74429a20eeb8290e5ed63",
            "4d759488b1ab4701a04ec91929d6f75b",
            "d6e43acd016d40188a6a2fdffebd12bc",
            "0abbe8f3f1d2416cad38bfc29ef5f6a7",
            "efd18f3d66bd4eda936792437faf817c",
            "cfb8291a69214d66848f8fc5f75ce60c",
            "72ad2cad3f484583b386241a0c0c9b65",
            "c6bcabf319cd4738b30871ecc7cecc2b",
            "2f4d3e9696f641908d73dec3f487b319",
            "025c040dca044ce88d74df7f65df982e",
            "0972f62d7e22487783f950a8d5c9d07e",
            "68a9296ac7e04fb48f5ab9e355a4780a",
            "62b83100b2c84b30b82d27d533f7a230",
            "f475934b17fb45ac86ef43e78c52e796",
            "f1278640a23040fb946d596fc9f0a3bd",
            "fc000e87f3534fe39824a3b57d5b839a",
            "3e70933e104e4ace9d5fe2748ecd3299",
            "18899dddd1e74436b6224db41b5e19b6",
            "f3f26c58624b4c2596215d64ffbc327e",
            "1b4ab73c9f1c4c35be8da23f1a4bfd86",
            "597cb747ddba42bf9b4a30887d5aaf48",
            "3156aa336e864cfaac928fb9f28c738e",
            "2614940f3e8c48e5bbf5d96dd9a918a4",
            "dcb8a2aded6b47679e76336358cb98a2",
            "65f92a078e1743dc92bf3d24c4577250",
            "570f2eed2aa8496e9b8afd3d3394c308",
            "cf9533c24eeb493399f62b2cf120326d",
            "c103f92f647941d4a7f3008b27428c1e",
            "683e082cfb1f4b25875564e2f96a107a",
            "6e166d26e679425fb4133183d25f66bf",
            "1cf5f353d813416ebc58a4a97e07dc48",
            "b68b5bbbfccc4362ad234aac370745d9",
            "3ac123b88bfe4d5a8a6b421ebc9719ce",
            "60dc7ed282a74cae84a7f4f5b67b00df",
            "4971a0157b4d48edb3967707f610b03e",
            "ecdbc14396e84f9db5105142cdeee304",
            "e293cc934f9744d9b1c1c28534d9ebab",
            "c98a1829c4454f46965d843519bb6b79",
            "f052dae930b64878806f65088d9bb91a",
            "f1f82432d3924133be2a5a94f1019e2f",
            "6d9a582c92a94a238d3ee69721d44c2f",
            "89c82d05ff804882824814bf4e57fc50",
            "f6f462183183436984e61aea8ab2095a",
            "fc4f5e7c07764840b930e366e6ecdfc3",
            "888a5677ddd74fac9de9b96a272dcf62",
            "14b2284803d64e57acddad837662c084",
            "56e5bde64f1d414a8c8c2ecdd5c86401",
            "f5cb63f2590947e59c168ed75a026778",
            "663d382df1a14d8db448225706ad907e",
            "2a63835232a74fe88898b662db2093ed",
            "f1139e85ce6d4136ba29dd7400f1ca80",
            "5c1ddb612bd24deaae6352783da1845c",
            "7f76542aabe4446da5673a52463f1892",
            "54369718486a45f185be5283666932d1",
            "209b27da1a72433aa376eb7cf23bf5c0"
          ]
        },
        "outputId": "4df3b6b0-94d5-489b-d655-741d27caf9f5"
      },
      "outputs": [
        {
          "output_type": "display_data",
          "data": {
            "text/plain": [
              "Downloading builder script:   0%|          | 0.00/5.10k [00:00<?, ?B/s]"
            ],
            "application/vnd.jupyter.widget-view+json": {
              "version_major": 2,
              "version_minor": 0,
              "model_id": "35555fdde0e64eaba6ccb2dc43707134"
            }
          },
          "metadata": {}
        },
        {
          "output_type": "display_data",
          "data": {
            "text/plain": [
              "Downloading readme:   0%|          | 0.00/16.3k [00:00<?, ?B/s]"
            ],
            "application/vnd.jupyter.widget-view+json": {
              "version_major": 2,
              "version_minor": 0,
              "model_id": "07c14b7b1b2d40bda437d36e892e5aac"
            }
          },
          "metadata": {}
        },
        {
          "output_type": "display_data",
          "data": {
            "text/plain": [
              "Downloading data files:   0%|          | 0/3 [00:00<?, ?it/s]"
            ],
            "application/vnd.jupyter.widget-view+json": {
              "version_major": 2,
              "version_minor": 0,
              "model_id": "2e7de924b68a4224a529b769abc18dc8"
            }
          },
          "metadata": {}
        },
        {
          "output_type": "display_data",
          "data": {
            "text/plain": [
              "Downloading data:   0%|          | 0.00/979k [00:00<?, ?B/s]"
            ],
            "application/vnd.jupyter.widget-view+json": {
              "version_major": 2,
              "version_minor": 0,
              "model_id": "4c4b17e3dfc14e759b186921413afd69"
            }
          },
          "metadata": {}
        },
        {
          "output_type": "display_data",
          "data": {
            "text/plain": [
              "Downloading data:   0%|          | 0.00/478k [00:00<?, ?B/s]"
            ],
            "application/vnd.jupyter.widget-view+json": {
              "version_major": 2,
              "version_minor": 0,
              "model_id": "eb3f8c46b5bf439c90f3ed868425bd68"
            }
          },
          "metadata": {}
        },
        {
          "output_type": "display_data",
          "data": {
            "text/plain": [
              "Downloading data:   0%|          | 0.00/370k [00:00<?, ?B/s]"
            ],
            "application/vnd.jupyter.widget-view+json": {
              "version_major": 2,
              "version_minor": 0,
              "model_id": "c95f95cdeb8d4517bbb1efe4aa1a2bdc"
            }
          },
          "metadata": {}
        },
        {
          "output_type": "display_data",
          "data": {
            "text/plain": [
              "Extracting data files:   0%|          | 0/3 [00:00<?, ?it/s]"
            ],
            "application/vnd.jupyter.widget-view+json": {
              "version_major": 2,
              "version_minor": 0,
              "model_id": "09c3e1fb57d546f9bb13c134fdc18258"
            }
          },
          "metadata": {}
        },
        {
          "output_type": "display_data",
          "data": {
            "text/plain": [
              "Generating train split: 0 examples [00:00, ? examples/s]"
            ],
            "application/vnd.jupyter.widget-view+json": {
              "version_major": 2,
              "version_minor": 0,
              "model_id": "916873485e764f2693abfba9622bd70b"
            }
          },
          "metadata": {}
        },
        {
          "output_type": "display_data",
          "data": {
            "text/plain": [
              "Generating validation split: 0 examples [00:00, ? examples/s]"
            ],
            "application/vnd.jupyter.widget-view+json": {
              "version_major": 2,
              "version_minor": 0,
              "model_id": "2a59a7bc7afc4362889e0c14f3b7a303"
            }
          },
          "metadata": {}
        },
        {
          "output_type": "display_data",
          "data": {
            "text/plain": [
              "Generating test split: 0 examples [00:00, ? examples/s]"
            ],
            "application/vnd.jupyter.widget-view+json": {
              "version_major": 2,
              "version_minor": 0,
              "model_id": "cc66fce53f2844c38022d1321fd99966"
            }
          },
          "metadata": {}
        },
        {
          "output_type": "display_data",
          "data": {
            "text/plain": [
              "Downloading data files:   0%|          | 0/2 [00:00<?, ?it/s]"
            ],
            "application/vnd.jupyter.widget-view+json": {
              "version_major": 2,
              "version_minor": 0,
              "model_id": "4a762b7427f14ff5a22a727649965e20"
            }
          },
          "metadata": {}
        },
        {
          "output_type": "display_data",
          "data": {
            "text/plain": [
              "Downloading data:   0%|          | 0.00/240M [00:00<?, ?B/s]"
            ],
            "application/vnd.jupyter.widget-view+json": {
              "version_major": 2,
              "version_minor": 0,
              "model_id": "38a0891f2ee74429a20eeb8290e5ed63"
            }
          },
          "metadata": {}
        },
        {
          "output_type": "display_data",
          "data": {
            "text/plain": [
              "Downloading data:   0%|          | 0.00/26.7M [00:00<?, ?B/s]"
            ],
            "application/vnd.jupyter.widget-view+json": {
              "version_major": 2,
              "version_minor": 0,
              "model_id": "68a9296ac7e04fb48f5ab9e355a4780a"
            }
          },
          "metadata": {}
        },
        {
          "output_type": "display_data",
          "data": {
            "text/plain": [
              "Extracting data files:   0%|          | 0/2 [00:00<?, ?it/s]"
            ],
            "application/vnd.jupyter.widget-view+json": {
              "version_major": 2,
              "version_minor": 0,
              "model_id": "2614940f3e8c48e5bbf5d96dd9a918a4"
            }
          },
          "metadata": {}
        },
        {
          "output_type": "display_data",
          "data": {
            "text/plain": [
              "Generating train split: 0 examples [00:00, ? examples/s]"
            ],
            "application/vnd.jupyter.widget-view+json": {
              "version_major": 2,
              "version_minor": 0,
              "model_id": "60dc7ed282a74cae84a7f4f5b67b00df"
            }
          },
          "metadata": {}
        },
        {
          "output_type": "display_data",
          "data": {
            "text/plain": [
              "Generating test split: 0 examples [00:00, ? examples/s]"
            ],
            "application/vnd.jupyter.widget-view+json": {
              "version_major": 2,
              "version_minor": 0,
              "model_id": "888a5677ddd74fac9de9b96a272dcf62"
            }
          },
          "metadata": {}
        }
      ],
      "source": [
        "from datasets import load_dataset\n",
        "dataset1 = load_dataset(\"RussianNLP/rucola\") # художественные тексты, проза\n",
        "dataset2 = load_dataset(\"zloelias/lenta-ru\") # и конечно новости"
      ]
    },
    {
      "cell_type": "code",
      "execution_count": 11,
      "metadata": {
        "id": "y4HrWDi9tcoa"
      },
      "outputs": [],
      "source": [
        "all_sentences = []\n",
        "all_sentences.extend(dataset1['train']['sentence'])\n",
        "all_sentences.extend(dataset1['test']['sentence'])\n",
        "all_sentences.extend(dataset1['validation']['sentence'])\n",
        "\n",
        "all_texts = []\n",
        "all_texts.extend(dataset2['train']['text'])\n",
        "all_texts.extend(dataset2['test']['text'])\n",
        "for text in all_texts:\n",
        "    ss = text.split('. ') # это новости, так что хватит\n",
        "    all_sentences.extend(ss)"
      ]
    },
    {
      "cell_type": "code",
      "execution_count": 12,
      "metadata": {
        "colab": {
          "base_uri": "https://localhost:8080/"
        },
        "id": "aurOT-pktcoc",
        "outputId": "cc92d2aa-8542-46e8-dcb5-b262a07b858a"
      },
      "outputs": [
        {
          "output_type": "execute_result",
          "data": {
            "text/plain": [
              "2345889"
            ]
          },
          "metadata": {},
          "execution_count": 12
        }
      ],
      "source": [
        "len(all_sentences)"
      ]
    },
    {
      "cell_type": "code",
      "execution_count": 13,
      "metadata": {
        "colab": {
          "base_uri": "https://localhost:8080/"
        },
        "id": "UOqQ7OrQtcoh",
        "outputId": "cdf0f9b1-76e7-4f9c-e257-d4b49ecd4514"
      },
      "outputs": [
        {
          "output_type": "stream",
          "name": "stderr",
          "text": [
            "100%|██████████| 2345889/2345889 [04:49<00:00, 8099.23it/s] \n"
          ]
        }
      ],
      "source": [
        "# теперь лемматизируем тексты и достанем предложения с нужными нам словами\n",
        "from tqdm import tqdm\n",
        "import pymorphy2\n",
        "morph = pymorphy2.MorphAnalyzer()\n",
        "\n",
        "words = ['взгляд', 'замок', 'охота', 'предложение', 'приложение']\n",
        "good_sents = [set(), set(), set(), set(), set()]\n",
        "\n",
        "ana_dict = dict()\n",
        "\n",
        "for sent in tqdm(all_sentences):\n",
        "    cleaned_sent = []\n",
        "    sents_to_add = [False, False, False, False, False]\n",
        "    for token in sent.split(' '):\n",
        "        bare = token.strip(',./?(*&^:;!\\\"\\'[]%)')\n",
        "        # сохраняем разборы, чтобы ускорить процесс\n",
        "        if bare in ana_dict.keys():\n",
        "            ana = ana_dict[bare]\n",
        "        else:\n",
        "            ana = morph.parse(bare.lower())[0].normal_form\n",
        "            ana_dict[bare] = ana\n",
        "\n",
        "        cleaned_sent.append(ana)\n",
        "\n",
        "        if ana in words:\n",
        "            sents_to_add[words.index(ana)] = True\n",
        "    for i, psta in enumerate(sents_to_add):\n",
        "        if psta:\n",
        "            good_sents[i].add(tuple(cleaned_sent))"
      ]
    },
    {
      "cell_type": "code",
      "source": [
        "good_sents = [list(good_sents[0]), list(good_sents[1]), list(good_sents[2]),\n",
        "              list(good_sents[3]), list(good_sents[4])]"
      ],
      "metadata": {
        "id": "cxSvp9rD0BCt"
      },
      "execution_count": 14,
      "outputs": []
    },
    {
      "cell_type": "code",
      "source": [
        "print(len(good_sents[0]))\n",
        "print(len(good_sents[1]))\n",
        "print(len(good_sents[2]))\n",
        "print(len(good_sents[3]))\n",
        "print(len(good_sents[4]))"
      ],
      "metadata": {
        "colab": {
          "base_uri": "https://localhost:8080/"
        },
        "id": "muiGmdR-x-4K",
        "outputId": "81cd56d7-e3af-42a9-d1ea-05036a2cae7c"
      },
      "execution_count": 15,
      "outputs": [
        {
          "output_type": "stream",
          "name": "stdout",
          "text": [
            "1274\n",
            "496\n",
            "437\n",
            "10507\n",
            "3858\n"
          ]
        }
      ]
    },
    {
      "cell_type": "markdown",
      "metadata": {
        "id": "GP7NBbJatcoj"
      },
      "source": [
        "## Задания 3 и 4\n",
        "\n",
        "3. Разбейте полученные контексты по значениям двумя любыми способами (вы можете использовать способы с семинара, заменить там эмбеддинги, реализовать какой-то свой способ). Напоминалка: в случае с AdaGram вы сразу получаете какой-то номер значения, с ELMo и другими контекстуальными эмбеддингами — нужно кластеризовать. - 2 балла\n",
        "\n",
        "4. Возьмите словарные толкования для каждого значения и припишите им значение автоматически теми же способами, что и в п.3. - 1 балл"
      ]
    },
    {
      "cell_type": "markdown",
      "source": [
        "### Adagram"
      ],
      "metadata": {
        "id": "z8EYuJDjRqMM"
      }
    },
    {
      "cell_type": "code",
      "source": [
        "# начнём с AdaGram\n",
        "import adagram\n",
        "vm = adagram.VectorModel.load('/content/drive/MyDrive/Конспекты/автобрея/all.a010.p10.d300.w5.m100.nonorm.slim.joblib')"
      ],
      "metadata": {
        "id": "FbKVMZ3ctsPc"
      },
      "execution_count": 16,
      "outputs": []
    },
    {
      "cell_type": "markdown",
      "source": [
        "Поскольку у adagram своё понимание многозначности, а у меня своё, надо эти понимания сопоставить друг с другом."
      ],
      "metadata": {
        "id": "6ybjeizfIdqV"
      }
    },
    {
      "cell_type": "code",
      "source": [
        "word = 'взгляд'\n",
        "print(f'Значений у слова {word} ' + str(len(vm.word_sense_probs(word))))\n",
        "print('0 - ', vm.sense_neighbors(word, 0)) # смотрение\n",
        "print('1 - ', vm.sense_neighbors(word, 1)) # смотрение\n",
        "print('2 - ', vm.sense_neighbors(word, 2)) # смотрение\n",
        "print('3 - ', vm.sense_neighbors(word, 3)) # точка зрения\n",
        "print('4 - ', vm.sense_neighbors(word, 4)) # какой-то бардак\n",
        "print('5 - ', vm.sense_neighbors(word, 5)) # смотрение\n",
        "print('6 - ', vm.sense_neighbors(word, 6))"
      ],
      "metadata": {
        "colab": {
          "base_uri": "https://localhost:8080/"
        },
        "id": "Y_brYoWHJXSd",
        "outputId": "9a6b003c-11b8-4ac7-bc76-2a18303e66e2"
      },
      "execution_count": 17,
      "outputs": [
        {
          "output_type": "stream",
          "name": "stdout",
          "text": [
            "Значений у слова взгляд 6\n"
          ]
        },
        {
          "output_type": "stream",
          "name": "stderr",
          "text": [
            "/usr/local/lib/python3.10/dist-packages/adagram/model.py:124: RuntimeWarning: invalid value encountered in divide\n",
            "  sim_matrix = np.dot(self.In, s_v) / self.InNorms\n"
          ]
        },
        {
          "output_type": "stream",
          "name": "stdout",
          "text": [
            "0 -  [('бросать', 0, 0.70043886), ('взор', 0, 0.68552977), ('взгляд', 5, 0.59607106), ('вопросительный', 0, 0.58261997), ('посмотреть', 2, 0.5793935), ('окидывать', 0, 0.5768779), ('устремлять', 0, 0.55202293), ('взглядывать', 0, 0.54957664), ('глядеть', 3, 0.5477397), ('замечать', 0, 0.54666233)]\n",
            "1 -  [('взгяд', 0, 0.59061426), ('взляд', 0, 0.5527036), ('вгляд', 0, 0.54815936), ('взгляд', 4, 0.48872742), ('показываться', 4, 0.4543422), ('свидание', 3, 0.43419328), ('казаться', 3, 0.41102916), ('реакция', 2, 0.39349255), ('поверхностный', 3, 0.38111374), ('очередь', 2, 0.37499902)]\n",
            "2 -  [('взор', 0, 0.759121), ('взгляд', 5, 0.61890113), ('настороженный', 0, 0.6164644), ('пристальный', 0, 0.6087549), ('взор', 3, 0.5865225), ('проницательный', 0, 0.5747631), ('оценивающий', 0, 0.5623292), ('внимательный', 2, 0.5586747), ('блуждать', 0, 0.554848), ('насмешливый', 0, 0.5524661)]\n",
            "3 -  [('воззрение', 1, 0.7285238), ('воззрение', 0, 0.67514217), ('мировоззрение', 1, 0.67057544), ('концепция', 1, 0.6050334), ('позиция', 3, 0.60496813), ('мировоззрение', 2, 0.59920883), ('мировоззренческий', 0, 0.5854681), ('умонастроение', 0, 0.5831476), ('миропонимание', 0, 0.5761538), ('ориентация', 3, 0.57316154)]\n",
            "4 -  [('взгяд', 0, 0.5465583), ('взляд', 0, 0.54142505), ('вгляд', 0, 0.49868846), ('взгляд', 1, 0.48872745), ('любимая', 0, 0.4670797), ('знакомая', 0, 0.45593247), ('любимый', 3, 0.43954977), ('субъективный', 1, 0.42820042), ('субьективный', 0, 0.4275389), ('имха', 0, 0.41774023)]\n",
            "5 -  [('взор', 0, 0.63937396), ('взгляд', 2, 0.6189011), ('пристальный', 0, 0.5966816), ('взгляд', 0, 0.5960712), ('глаз', 2, 0.54465663), ('лицо', 4, 0.53563386), ('собеседник', 1, 0.49529663), ('взор', 3, 0.49241847), ('глаз', 3, 0.49095526), ('окидывать', 0, 0.48841867)]\n",
            "6 -  []\n"
          ]
        }
      ]
    },
    {
      "cell_type": "code",
      "source": [
        "word = 'замок'\n",
        "print(f'Значений у слова {word} ' + str(len(vm.word_sense_probs(word))))\n",
        "print('0 - ', vm.sense_neighbors(word, 0)) # замОк\n",
        "print('1 - ', vm.sense_neighbors(word, 1)) # зАмок\n",
        "print('2 - ', vm.sense_neighbors(word, 2)) # зАмок\n",
        "print('3 - ', vm.sense_neighbors(word, 3)) # зАмок"
      ],
      "metadata": {
        "colab": {
          "base_uri": "https://localhost:8080/"
        },
        "id": "sTGiONmhw3-m",
        "outputId": "2c001768-ac4c-4e77-f850-8216c9d5a959"
      },
      "execution_count": 18,
      "outputs": [
        {
          "output_type": "stream",
          "name": "stdout",
          "text": [
            "Значений у слова замок 4\n",
            "0 -  [('орденский', 0, 0.6297175), ('монсегюр', 0, 0.615526), ('аббатство', 0, 0.6004314), ('дворец', 2, 0.5968682), ('сеньория', 0, 0.59168553), ('герцог', 2, 0.5900553), ('инстербург', 0, 0.57428056), ('каркассон', 0, 0.57125235), ('резиденция', 0, 0.5694655), ('амбуаз', 0, 0.56807244)]\n",
            "1 -  [('задвижка', 0, 0.7730665), ('запор', 1, 0.74998415), ('засов', 1, 0.73436505), ('ключ', 0, 0.7206449), ('отмыкать', 0, 0.7102439), ('шпингалет', 0, 0.7052061), ('щеколда', 0, 0.70305103), ('защелка', 1, 0.70179313), ('запираться', 0, 0.696132), ('дверь', 6, 0.69068426)]\n",
            "2 -  [('крепость', 1, 0.70243007), ('башня', 1, 0.6900965), ('бастион', 2, 0.66138613), ('средневековый', 1, 0.6602798), ('величественный', 1, 0.66022444), ('донжон', 0, 0.62887174), ('цитадель', 0, 0.62760615), ('башня', 3, 0.60489523), ('здание', 3, 0.6001993), ('крепостной', 0, 0.596294)]\n",
            "3 -  [('крепость', 3, 0.60584474), ('дворец', 1, 0.5704742), ('башня', 5, 0.5693793), ('пещера', 0, 0.5673409), ('форт', 2, 0.5618624), ('холд', 1, 0.56155473), ('дом', 2, 0.5479651), ('подземелье', 0, 0.5378049), ('королевский', 2, 0.5256898), ('ругна', 0, 0.5172116)]\n"
          ]
        }
      ]
    },
    {
      "cell_type": "code",
      "source": [
        "word = 'охота'\n",
        "print(f'Значений у слова {word} ' + str(len(vm.word_sense_probs(word))))\n",
        "print('0 - ', vm.sense_neighbors(word, 0)) # на животных\n",
        "print('1 - ', vm.sense_neighbors(word, 1)) # на животных"
      ],
      "metadata": {
        "colab": {
          "base_uri": "https://localhost:8080/"
        },
        "id": "CPCgQp03JeFL",
        "outputId": "55a627f8-9c1b-4fae-a975-c544e2a22a01"
      },
      "execution_count": 19,
      "outputs": [
        {
          "output_type": "stream",
          "name": "stdout",
          "text": [
            "Значений у слова охота 2\n",
            "0 -  [('загонный', 0, 0.63817436), ('охотничий', 1, 0.6204616), ('пушной', 0, 0.6157331), ('охотник', 1, 0.601037), ('охотиться', 0, 0.58578384), ('собирательство', 0, 0.5749109), ('копытное', 0, 0.5673274), ('промысел', 1, 0.56108147), ('рыболовство', 0, 0.55538875), ('браконьерство', 0, 0.5547202)]\n",
            "1 -  [('охотник', 2, 0.57340044), ('охота', 0, 0.5049499), ('рыбалка', 1, 0.49211478), ('поохотиться', 0, 0.48738122), ('охотиться', 0, 0.467009), ('дичь', 1, 0.4646094), ('охотиться', 1, 0.46459758), ('дичь', 2, 0.4640428), ('зверь', 1, 0.45960948), ('медведь', 3, 0.4517055)]\n"
          ]
        }
      ]
    },
    {
      "cell_type": "code",
      "source": [
        "word = 'предложение'\n",
        "print(f'Значений у слова {word} ' + str(len(vm.word_sense_probs(word))))\n",
        "print('0 - ', vm.sense_neighbors(word, 0)) # от \"предлагать\" (видимо предложения и жалобы)\n",
        "print('1 - ', vm.sense_neighbors(word, 1)) # экономическое\n",
        "print('2 - ', vm.sense_neighbors(word, 2)) # от \"предлагать\"\n",
        "print('3 - ', vm.sense_neighbors(word, 3)) # лингвистическое\n",
        "print('4 - ', vm.sense_neighbors(word, 4)) # от \"предлагать\""
      ],
      "metadata": {
        "colab": {
          "base_uri": "https://localhost:8080/"
        },
        "id": "MBIN-Se4Jeyd",
        "outputId": "bbea1651-1344-4b23-cb3b-d2f8d2b11dfd"
      },
      "execution_count": 20,
      "outputs": [
        {
          "output_type": "stream",
          "name": "stdout",
          "text": [
            "Значений у слова предложение 5\n",
            "0 -  [('предлагать', 1, 0.49739897), ('заказ', 3, 0.49123517), ('веб-студия', 1, 0.4894355), ('интернет-ресурс', 1, 0.46962935), ('заявка', 2, 0.46877676), ('компания', 2, 0.46594203), ('клиент', 2, 0.4600381), ('заказчик', 3, 0.45968404), ('пожелание', 0, 0.45753393), ('товар/услуга', 0, 0.45669267)]\n",
            "1 -  [('спрос', 1, 0.8085467), ('платежеспособный', 0, 0.76193714), ('совокупный', 1, 0.6654601), ('эластичность', 1, 0.6611477), ('потребительский', 2, 0.6433339), ('рынок', 0, 0.6265693), ('неэластичный', 0, 0.6156899), ('изменение', 4, 0.60035384), ('товарный', 1, 0.5981312), ('товар', 2, 0.5961198)]\n",
            "2 -  [('инициатива', 0, 0.638049), ('законопроект', 2, 0.6260407), ('решение', 8, 0.5857118), ('просьба', 1, 0.5579384), ('отклонять', 0, 0.5546389), ('требование', 0, 0.55146146), ('проект', 3, 0.53970826), ('вопрос', 0, 0.536288), ('рассмотрение', 3, 0.534263), ('резолюция', 0, 0.52462786)]\n",
            "3 -  [('словоформа', 0, 0.70367676), ('фраза', 0, 0.68615043), ('подлежащее', 1, 0.68070954), ('придаточный', 1, 0.6739864), ('сказуемое', 0, 0.67335963), ('слово', 0, 0.6685127), ('морфема', 0, 0.6563056), ('сложноподчиненный', 0, 0.6515891), ('предикативный', 0, 0.6513848), ('глагольный', 0, 0.6377701)]\n",
            "4 -  [('замечание', 1, 0.58334965), ('приглашение', 1, 0.5624654), ('решение', 6, 0.54087347), ('заявление', 2, 0.5331642), ('просьба', 0, 0.53226936), ('предлагать', 3, 0.51765454), ('соглашаться', 2, 0.4921002), ('намерение', 0, 0.46919295), ('принимать', 3, 0.46847236), ('предположение', 0, 0.46145093)]\n"
          ]
        }
      ]
    },
    {
      "cell_type": "code",
      "source": [
        "word = 'приложение'\n",
        "print(f'Значений у слова {word} ' + str(len(vm.word_sense_probs(word))))\n",
        "print('0 - ', vm.sense_neighbors(word, 0)) # доп. материалы\n",
        "print('1 - ', vm.sense_neighbors(word, 1)) # доп. материалы\n",
        "print('2 - ', vm.sense_neighbors(word, 2)) # app\n",
        "print('3 - ', vm.sense_neighbors(word, 3)) # доп. материалы"
      ],
      "metadata": {
        "colab": {
          "base_uri": "https://localhost:8080/"
        },
        "id": "6o5YbVVLJfo1",
        "outputId": "1c6722d0-df70-4d58-80d3-3dfd1c589966"
      },
      "execution_count": 21,
      "outputs": [
        {
          "output_type": "stream",
          "name": "stdout",
          "text": [
            "Значений у слова приложение 4\n",
            "0 -  [('бумажный', 0, 0.53638357), ('скидка', 0, 0.45727646), ('трейдер', 1, 0.3912454), ('почта', 0, 0.3794757), ('платежный', 0, 0.37575942), ('версия', 0, 0.36601725), ('высказывание', 1, 0.3629267), ('журнал', 1, 0.35990825), ('библиотека', 1, 0.35455987), ('гаарец', 0, 0.353088)]\n",
            "1 -  [('прилагать', 1, 0.63755333), ('прилагаться', 0, 0.62040925), ('примечание', 2, 0.59261924), ('таблица', 1, 0.5812774), ('4', 4, 0.5652484), ('пункт', 1, 0.55509734), ('2.', 4, 0.54049677), ('2.1', 0, 0.53905416), ('10.', 0, 0.53787655), ('1.1', 0, 0.5335077)]\n",
            "2 -  [('программа', 3, 0.73197955), ('скрипт', 0, 0.69356954), ('плагин', 0, 0.6889795), ('утилита', 0, 0.68294483), ('модуль', 2, 0.67314446), ('интерфейс', 0, 0.67297983), ('драйвер', 0, 0.66817015), ('функционал', 0, 0.66463953), ('сервис', 2, 0.66194355), ('браузер', 0, 0.65534246)]\n",
            "3 -  [('предисловие', 0, 0.6796042), ('ежемесячный', 1, 0.6052391), ('иллюстрированный', 0, 0.59373915), ('послесловие', 0, 0.57338506), ('сборник', 2, 0.5645771), ('примечание', 1, 0.56426257), ('альманах', 0, 0.5607663), ('аннотация', 0, 0.5606588), ('послесловие', 1, 0.5599293), ('журнал', 0, 0.5531331)]\n"
          ]
        }
      ]
    },
    {
      "cell_type": "code",
      "source": [
        "# проверим как всё работает\n",
        "import numpy as np\n",
        "context = list(good_sents[1])[0]\n",
        "print(context)\n",
        "means = vm.disambiguate(\n",
        "    'замок',\n",
        "    context\n",
        ")\n",
        "print(means)\n",
        "print(np.argmax(means))"
      ],
      "metadata": {
        "colab": {
          "base_uri": "https://localhost:8080/"
        },
        "id": "yjKfNdS8xzJx",
        "outputId": "51219349-8775-41e7-eae2-93ea7f55206d"
      },
      "execution_count": 22,
      "outputs": [
        {
          "output_type": "stream",
          "name": "stdout",
          "text": [
            "('прибыть', 'в', 'замок', 'роулинга', 'заявить', 'в', 'этот', 'книга', 'вы', 'найти', 'множество', 'ответ')\n",
            "[0.13999086 0.01677319 0.07799912 0.76523684 0.         0.\n",
            " 0.         0.         0.         0.        ]\n",
            "3\n"
          ]
        },
        {
          "output_type": "stream",
          "name": "stderr",
          "text": [
            "/usr/local/lib/python3.10/dist-packages/adagram/model.py:171: RuntimeWarning: divide by zero encountered in log\n",
            "  z = np.log(z)\n"
          ]
        }
      ]
    },
    {
      "cell_type": "code",
      "execution_count": 23,
      "metadata": {
        "id": "4c0KqnGgtcon"
      },
      "outputs": [],
      "source": [
        "# сделаем словарь значений для каждого слова\n",
        "vzglad_adagram = [[], [], [], [], [], [], [], []]\n",
        "zamok_adagram = [[], [], [], []]\n",
        "ohota_adagram = [[], []]\n",
        "predlojenie_adagram = [[], [], [], [], []]\n",
        "prilojenie_adagram = [[], [], [], []]"
      ]
    },
    {
      "cell_type": "code",
      "source": [
        "for context in good_sents[1]:\n",
        "    means = vm.disambiguate(\n",
        "    'взгляд',\n",
        "    context)\n",
        "    vzglad_adagram[np.argmax(means)].append(context)\n",
        "\n",
        "for context in good_sents[0]:\n",
        "    means = vm.disambiguate(\n",
        "    'замок',\n",
        "    context)\n",
        "    zamok_adagram[np.argmax(means)].append(context)\n",
        "\n",
        "for context in good_sents[2]:\n",
        "    means = vm.disambiguate(\n",
        "    'охота',\n",
        "    context)\n",
        "    ohota_adagram[np.argmax(means)].append(context)\n",
        "\n",
        "for context in good_sents[3]:\n",
        "    means = vm.disambiguate(\n",
        "    'предложение',\n",
        "    context)\n",
        "    predlojenie_adagram[np.argmax(means)].append(context)\n",
        "\n",
        "for context in good_sents[4]:\n",
        "    means = vm.disambiguate(\n",
        "    'приложение',\n",
        "    context)\n",
        "    prilojenie_adagram[np.argmax(means)].append(context)"
      ],
      "metadata": {
        "id": "_5y4JoxwSsl4"
      },
      "execution_count": 24,
      "outputs": []
    },
    {
      "cell_type": "markdown",
      "source": [
        "Теперь разберёмся со словарными значениями"
      ],
      "metadata": {
        "id": "7Lx3PzyvkF0F"
      }
    },
    {
      "cell_type": "code",
      "source": [
        "def get_tokens(sent):\n",
        "    tokens = []\n",
        "    for token in sent.split(' '):\n",
        "        bare = token.strip(',./?(*&^:;!\\\"\\'[]%)')\n",
        "        ana = morph.parse(bare.lower())[0].normal_form\n",
        "        tokens.append(ana)\n",
        "    return tokens"
      ],
      "metadata": {
        "id": "VhLANJpPs5nm"
      },
      "execution_count": 25,
      "outputs": []
    },
    {
      "cell_type": "code",
      "source": [
        "word = 'замок'\n",
        "print(zamok1)\n",
        "print(vm.sense_neighbors(word, np.argmax(vm.disambiguate(word,get_tokens(zamok1)))))\n",
        "print(zamok2)\n",
        "print(vm.sense_neighbors(word, np.argmax(vm.disambiguate(word, get_tokens(zamok2)))))"
      ],
      "metadata": {
        "colab": {
          "base_uri": "https://localhost:8080/"
        },
        "id": "z4EtsPlRkJD9",
        "outputId": "59b47c80-26a7-476c-c047-57bf7c1e6e17"
      },
      "execution_count": 26,
      "outputs": [
        {
          "output_type": "stream",
          "name": "stdout",
          "text": [
            "Дворец и крепость феодала. 2. Большой помещичий дом затейливой архитектуры.\n",
            "[('крепость', 1, 0.70243007), ('башня', 1, 0.6900965), ('бастион', 2, 0.66138613), ('средневековый', 1, 0.6602798), ('величественный', 1, 0.66022444), ('донжон', 0, 0.62887174), ('цитадель', 0, 0.62760615), ('башня', 3, 0.60489523), ('здание', 3, 0.6001993), ('крепостной', 0, 0.596294)]\n",
            "1. Устройство для запирания чего-л. ключом. 2. Приспособление для смыкания, соединения концов чего-л. (цепочки, браслета и пр.).\n",
            "[('задвижка', 0, 0.7730665), ('запор', 1, 0.74998415), ('засов', 1, 0.73436505), ('ключ', 0, 0.7206449), ('отмыкать', 0, 0.7102439), ('шпингалет', 0, 0.7052061), ('щеколда', 0, 0.70305103), ('защелка', 1, 0.70179313), ('запираться', 0, 0.696132), ('дверь', 6, 0.69068426)]\n"
          ]
        }
      ]
    },
    {
      "cell_type": "code",
      "source": [
        "word = 'взгляд'\n",
        "print(vzglyad1)\n",
        "print(vm.sense_neighbors(word, np.argmax(vm.disambiguate(word, get_tokens(vzglyad1)))))\n",
        "print(vzglyad2)\n",
        "print(vm.sense_neighbors(word, np.argmax(vm.disambiguate(word, get_tokens(vzglyad2)))))"
      ],
      "metadata": {
        "colab": {
          "base_uri": "https://localhost:8080/"
        },
        "id": "VU_JutJ3kxo2",
        "outputId": "67f43883-c170-41a5-b428-8b2a99bb843a"
      },
      "execution_count": 27,
      "outputs": [
        {
          "output_type": "stream",
          "name": "stdout",
          "text": [
            "1. Направленность, устремленность глаз, зрения на кого-, что-л.; взор. 2. Выражение глаз.\n",
            "[('взор', 0, 0.759121), ('взгляд', 5, 0.61890113), ('настороженный', 0, 0.6164644), ('пристальный', 0, 0.6087549), ('взор', 3, 0.5865225), ('проницательный', 0, 0.5747631), ('оценивающий', 0, 0.5623292), ('внимательный', 2, 0.5586747), ('блуждать', 0, 0.554848), ('насмешливый', 0, 0.5524661)]\n",
            "1. Мнение, суждение по поводу кого-, чего-л. 2. Образ мыслей; убеждения, воззрения.\n",
            "[('воззрение', 1, 0.7285238), ('воззрение', 0, 0.67514217), ('мировоззрение', 1, 0.67057544), ('концепция', 1, 0.6050334), ('позиция', 3, 0.60496813), ('мировоззрение', 2, 0.59920883), ('мировоззренческий', 0, 0.5854681), ('умонастроение', 0, 0.5831476), ('миропонимание', 0, 0.5761538), ('ориентация', 3, 0.57316154)]\n"
          ]
        }
      ]
    },
    {
      "cell_type": "code",
      "source": [
        "word = 'охота' # ну тут изначально одно значение и было\n",
        "print(ohota1)\n",
        "print(vm.sense_neighbors(word, np.argmax(vm.disambiguate(word, get_tokens(ohota1)))))\n",
        "print(ohota3)\n",
        "print(vm.sense_neighbors(word, np.argmax(vm.disambiguate(word, get_tokens(ohota3)))))"
      ],
      "metadata": {
        "colab": {
          "base_uri": "https://localhost:8080/"
        },
        "id": "NhEXfmbEk0KZ",
        "outputId": "37baed91-7191-4b15-bf51-cea71e1aaedf"
      },
      "execution_count": 28,
      "outputs": [
        {
          "output_type": "stream",
          "name": "stdout",
          "text": [
            "Поиски и преследование зверя или птицы с целью добычи или истребления.\n",
            "[('загонный', 0, 0.63817436), ('охотничий', 1, 0.6204616), ('пушной', 0, 0.6157331), ('охотник', 1, 0.601037), ('охотиться', 0, 0.58578384), ('собирательство', 0, 0.5749109), ('копытное', 0, 0.5673274), ('промысел', 1, 0.56108147), ('рыболовство', 0, 0.55538875), ('браконьерство', 0, 0.5547202)]\n",
            "Желание чего-л., склонность к чему-л. Есть желание, хочется.\n",
            "[('охотник', 2, 0.57340044), ('охота', 0, 0.5049499), ('рыбалка', 1, 0.49211478), ('поохотиться', 0, 0.48738122), ('охотиться', 0, 0.467009), ('дичь', 1, 0.4646094), ('охотиться', 1, 0.46459758), ('дичь', 2, 0.4640428), ('зверь', 1, 0.45960948), ('медведь', 3, 0.4517055)]\n"
          ]
        }
      ]
    },
    {
      "cell_type": "code",
      "source": [
        "word = 'предложение' # ну тут изначально одно значение и было\n",
        "print(predlojenie1)\n",
        "print(vm.sense_neighbors(word, np.argmax(vm.disambiguate(word, get_tokens(predlojenie1)))))\n",
        "print(predlojenie2)\n",
        "print(vm.sense_neighbors(word, np.argmax(vm.disambiguate(word, get_tokens(predlojenie2)))))\n",
        "print(predlojenie3) # вот это лингвистическое значение реально не выхватывается из определения\n",
        "print(vm.sense_neighbors(word, np.argmax(vm.disambiguate(word, get_tokens(predlojenie3)))))\n",
        "print(predlojenie4)\n",
        "print(vm.sense_neighbors(word, np.argmax(vm.disambiguate(word, get_tokens(predlojenie4)))))"
      ],
      "metadata": {
        "colab": {
          "base_uri": "https://localhost:8080/"
        },
        "id": "fXzW1RbDk1wD",
        "outputId": "1f257817-4721-4e5e-d6f6-193f0b4a0b7d"
      },
      "execution_count": 29,
      "outputs": [
        {
          "output_type": "stream",
          "name": "stdout",
          "text": [
            "Действие по знач. глаг. предложить. То, что предложено, предлагается.\n",
            "[('инициатива', 0, 0.638049), ('законопроект', 2, 0.6260407), ('решение', 8, 0.5857118), ('просьба', 1, 0.5579384), ('отклонять', 0, 0.5546389), ('требование', 0, 0.55146146), ('проект', 3, 0.53970826), ('вопрос', 0, 0.536288), ('рассмотрение', 3, 0.534263), ('резолюция', 0, 0.52462786)]\n",
            "Просьба мужчины, обращенная к женщине, вступить с ним в брак.\n",
            "[('замечание', 1, 0.58334965), ('приглашение', 1, 0.5624654), ('решение', 6, 0.54087347), ('заявление', 2, 0.5331642), ('просьба', 0, 0.53226936), ('предлагать', 3, 0.51765454), ('соглашаться', 2, 0.4921002), ('намерение', 0, 0.46919295), ('принимать', 3, 0.46847236), ('предположение', 0, 0.46145093)]\n",
            "Поступление товаров на рынок.\n",
            "[('спрос', 1, 0.8085467), ('платежеспособный', 0, 0.76193714), ('совокупный', 1, 0.6654601), ('эластичность', 1, 0.6611477), ('потребительский', 2, 0.6433339), ('рынок', 0, 0.6265693), ('неэластичный', 0, 0.6156899), ('изменение', 4, 0.60035384), ('товарный', 1, 0.5981312), ('товар', 2, 0.5961198)]\n",
            "Высказывание, являющееся сообщением о чем-л.\n",
            "[('инициатива', 0, 0.638049), ('законопроект', 2, 0.6260407), ('решение', 8, 0.5857118), ('просьба', 1, 0.5579384), ('отклонять', 0, 0.5546389), ('требование', 0, 0.55146146), ('проект', 3, 0.53970826), ('вопрос', 0, 0.536288), ('рассмотрение', 3, 0.534263), ('резолюция', 0, 0.52462786)]\n"
          ]
        }
      ]
    },
    {
      "cell_type": "code",
      "source": [
        "word = 'приложение' # а тут не сработало\n",
        "print(prilojenie1)\n",
        "print(vm.sense_neighbors(word, np.argmax(vm.disambiguate(word, get_tokens(prilojenie1)))))\n",
        "print(prilojenie2)\n",
        "print(vm.sense_neighbors(word, np.argmax(vm.disambiguate(word, get_tokens(prilojenie2)))))\n",
        "print(prilojenie3)\n",
        "print(vm.sense_neighbors(word, np.argmax(vm.disambiguate(word, get_tokens(prilojenie3)))))\n",
        "print(prilojenie4)\n",
        "print(vm.sense_neighbors(word, np.argmax(vm.disambiguate(word, get_tokens(prilojenie4)))))"
      ],
      "metadata": {
        "colab": {
          "base_uri": "https://localhost:8080/"
        },
        "id": "RwAY1Jznk3jc",
        "outputId": "6fa6fbcd-b653-430c-f3cd-16bd6cfaefbc"
      },
      "execution_count": 30,
      "outputs": [
        {
          "output_type": "stream",
          "name": "stdout",
          "text": [
            "Действие по знач. глаг. приложить. (Приложение силы)\n",
            "[('программа', 3, 0.73197955), ('скрипт', 0, 0.69356954), ('плагин', 0, 0.6889795), ('утилита', 0, 0.68294483), ('модуль', 2, 0.67314446), ('интерфейс', 0, 0.67297983), ('драйвер', 0, 0.66817015), ('функционал', 0, 0.66463953), ('сервис', 2, 0.66194355), ('браузер', 0, 0.65534246)]\n",
            "То, что является добавлением к чему-л., что придано, приложено.\n",
            "[('программа', 3, 0.73197955), ('скрипт', 0, 0.69356954), ('плагин', 0, 0.6889795), ('утилита', 0, 0.68294483), ('модуль', 2, 0.67314446), ('интерфейс', 0, 0.67297983), ('драйвер', 0, 0.66817015), ('функционал', 0, 0.66463953), ('сервис', 2, 0.66194355), ('браузер', 0, 0.65534246)]\n",
            "Определение, выраженное именем существительным, согласованным с определяемым словом.\n",
            "[('программа', 3, 0.73197955), ('скрипт', 0, 0.69356954), ('плагин', 0, 0.6889795), ('утилита', 0, 0.68294483), ('модуль', 2, 0.67314446), ('интерфейс', 0, 0.67297983), ('драйвер', 0, 0.66817015), ('функционал', 0, 0.66463953), ('сервис', 2, 0.66194355), ('браузер', 0, 0.65534246)]\n",
            "Программа, имеющая пользовательский интерфейс.\n",
            "[('программа', 3, 0.73197955), ('скрипт', 0, 0.69356954), ('плагин', 0, 0.6889795), ('утилита', 0, 0.68294483), ('модуль', 2, 0.67314446), ('интерфейс', 0, 0.67297983), ('драйвер', 0, 0.66817015), ('функционал', 0, 0.66463953), ('сервис', 2, 0.66194355), ('браузер', 0, 0.65534246)]\n"
          ]
        }
      ]
    },
    {
      "cell_type": "markdown",
      "source": [
        "### ELMO"
      ],
      "metadata": {
        "id": "lmhQz7fCRH-K"
      }
    },
    {
      "cell_type": "code",
      "source": [
        "from simple_elmo import ElmoModel\n",
        "model = ElmoModel()\n",
        "model.load(\"196\")"
      ],
      "metadata": {
        "id": "A4YPbTJXODFy",
        "colab": {
          "base_uri": "https://localhost:8080/",
          "height": 91
        },
        "outputId": "3cde94a6-96e1-4d8a-8508-39309889e810"
      },
      "execution_count": 31,
      "outputs": [
        {
          "output_type": "stream",
          "name": "stderr",
          "text": [
            "/usr/local/lib/python3.10/dist-packages/simple_elmo/model.py:531: UserWarning: `tf.nn.rnn_cell.LSTMCell` is deprecated and will be removed in a future version. This class is equivalent as `tf.keras.layers.LSTMCell`, and will be replaced by that in Tensorflow 2.0.\n",
            "  lstm_cell = tf.compat.v1.nn.rnn_cell.LSTMCell(\n"
          ]
        },
        {
          "output_type": "execute_result",
          "data": {
            "text/plain": [
              "'The model is now loaded.'"
            ],
            "application/vnd.google.colaboratory.intrinsic+json": {
              "type": "string"
            }
          },
          "metadata": {},
          "execution_count": 31
        }
      ]
    },
    {
      "cell_type": "code",
      "source": [
        "def get_elmo_vectors_f(word, contexts, model): # с семинара\n",
        "    # мы будем брать только 4 слова до и 4 слова после для контекста, чтобы работало быстрее\n",
        "    short_contexts = []\n",
        "    for cont in contexts:\n",
        "        wi = cont.index(word)\n",
        "        short_cont = cont[(max(0, wi-4)):min(len(cont), wi+4)]\n",
        "        short_contexts.append(short_cont)\n",
        "    all_vectors = model.get_elmo_vectors(short_contexts)\n",
        "    word_vecs = []\n",
        "    for i in range(len(short_contexts)):\n",
        "        try:\n",
        "            word_vecs.append(all_vectors[i][short_contexts[i].index(word)])\n",
        "        except ValueError:  # если нормализация накосячила и лемму не найти\n",
        "            continue\n",
        "    return word_vecs"
      ],
      "metadata": {
        "id": "DCdGSi0YZuvU"
      },
      "execution_count": 32,
      "outputs": []
    },
    {
      "cell_type": "code",
      "source": [
        "vzglyad_elmo_vecs = get_elmo_vectors_f('взгляд', good_sents[0], model)\n",
        "zamok_elmo_vecs = get_elmo_vectors_f('замок', good_sents[1], model)\n",
        "ohota_elmo_vecs = get_elmo_vectors_f('охота', good_sents[2], model)\n",
        "predlojenie_elmo_vecs = get_elmo_vectors_f('предложение', good_sents[3], model)\n",
        "prilojenie_elmo_vecs = get_elmo_vectors_f('приложение', good_sents[4], model)"
      ],
      "metadata": {
        "id": "tP1oS0E3bPVM"
      },
      "execution_count": 33,
      "outputs": []
    },
    {
      "cell_type": "markdown",
      "source": [
        "Теперь кластеризация"
      ],
      "metadata": {
        "id": "orjeQnjnchqo"
      }
    },
    {
      "cell_type": "code",
      "source": [
        "# теперь кластеризация\n",
        "from sklearn.cluster import KMeans"
      ],
      "metadata": {
        "id": "eFkjA5K1aMTB"
      },
      "execution_count": 34,
      "outputs": []
    },
    {
      "cell_type": "code",
      "source": [
        "# взгляд\n",
        "kmeans = KMeans(n_clusters=2)\n",
        "kmeans.fit(vzglyad_elmo_vecs)\n",
        "vzglyad_elmo_labels = kmeans.labels_\n",
        "print(kmeans.predict(get_elmo_vectors_f('взгляд', [get_tokens('Взгляд - ' + vzglyad1),\n",
        "                                           get_tokens('Взгляд - ' + vzglyad2)],\n",
        "                                       model)))"
      ],
      "metadata": {
        "colab": {
          "base_uri": "https://localhost:8080/"
        },
        "id": "2tzsuVr4cfYR",
        "outputId": "790a0e96-2ecf-45e6-d92b-12b959d6ba94"
      },
      "execution_count": 35,
      "outputs": [
        {
          "output_type": "stream",
          "name": "stderr",
          "text": [
            "/usr/local/lib/python3.10/dist-packages/sklearn/cluster/_kmeans.py:870: FutureWarning: The default value of `n_init` will change from 10 to 'auto' in 1.4. Set the value of `n_init` explicitly to suppress the warning\n",
            "  warnings.warn(\n"
          ]
        },
        {
          "output_type": "stream",
          "name": "stdout",
          "text": [
            "[1 1]\n"
          ]
        }
      ]
    },
    {
      "cell_type": "code",
      "source": [
        "# замок\n",
        "kmeans = KMeans(n_clusters=2)\n",
        "kmeans.fit(zamok_elmo_vecs)\n",
        "zamok_elmo_labels = kmeans.labels_\n",
        "print(kmeans.predict(get_elmo_vectors_f('замок', [get_tokens('Замок - ' + zamok1),\n",
        "                                                get_tokens('Замок - ' + zamok2)],\n",
        "                                       model)))"
      ],
      "metadata": {
        "colab": {
          "base_uri": "https://localhost:8080/"
        },
        "id": "6BpelfvEd-94",
        "outputId": "12cd75f7-4fe3-4c03-c0c8-8440a3e99423"
      },
      "execution_count": 36,
      "outputs": [
        {
          "output_type": "stream",
          "name": "stderr",
          "text": [
            "/usr/local/lib/python3.10/dist-packages/sklearn/cluster/_kmeans.py:870: FutureWarning: The default value of `n_init` will change from 10 to 'auto' in 1.4. Set the value of `n_init` explicitly to suppress the warning\n",
            "  warnings.warn(\n"
          ]
        },
        {
          "output_type": "stream",
          "name": "stdout",
          "text": [
            "[0 1]\n"
          ]
        }
      ]
    },
    {
      "cell_type": "code",
      "source": [
        "# охота\n",
        "kmeans = KMeans(n_clusters=2)\n",
        "kmeans.fit(ohota_elmo_vecs)\n",
        "ohota_elmo_labels = kmeans.labels_\n",
        "print(kmeans.predict(get_elmo_vectors_f('охота', [get_tokens('Охота - ' + ohota1),\n",
        "                                                get_tokens('Охота - ' + ohota3)],\n",
        "                                       model)))"
      ],
      "metadata": {
        "colab": {
          "base_uri": "https://localhost:8080/"
        },
        "id": "7hBXpx0FeENV",
        "outputId": "696fad62-ae16-4ba5-a0b2-57d83053f5ee"
      },
      "execution_count": 37,
      "outputs": [
        {
          "output_type": "stream",
          "name": "stderr",
          "text": [
            "/usr/local/lib/python3.10/dist-packages/sklearn/cluster/_kmeans.py:870: FutureWarning: The default value of `n_init` will change from 10 to 'auto' in 1.4. Set the value of `n_init` explicitly to suppress the warning\n",
            "  warnings.warn(\n"
          ]
        },
        {
          "output_type": "stream",
          "name": "stdout",
          "text": [
            "[0 0]\n"
          ]
        }
      ]
    },
    {
      "cell_type": "code",
      "source": [
        "# приложение\n",
        "kmeans = KMeans(n_clusters=4)\n",
        "kmeans.fit(prilojenie_elmo_vecs)\n",
        "prilojenie_elmo_labels = kmeans.labels_\n",
        "print(kmeans.predict(get_elmo_vectors_f('приложение', [get_tokens('Приложение - ' + prilojenie1),\n",
        "                                                    get_tokens('Приложение - ' + prilojenie2),\n",
        "                                                    get_tokens('Приложение - ' + prilojenie3),\n",
        "                                                    get_tokens('Приложение - ' + prilojenie4)],\n",
        "                                       model)))"
      ],
      "metadata": {
        "colab": {
          "base_uri": "https://localhost:8080/"
        },
        "id": "yUJBR-uSeQRS",
        "outputId": "69b38466-0a79-4b1d-b6e0-036637c82aa3"
      },
      "execution_count": 38,
      "outputs": [
        {
          "output_type": "stream",
          "name": "stderr",
          "text": [
            "/usr/local/lib/python3.10/dist-packages/sklearn/cluster/_kmeans.py:870: FutureWarning: The default value of `n_init` will change from 10 to 'auto' in 1.4. Set the value of `n_init` explicitly to suppress the warning\n",
            "  warnings.warn(\n"
          ]
        },
        {
          "output_type": "stream",
          "name": "stdout",
          "text": [
            "[2 2 2 2]\n"
          ]
        }
      ]
    },
    {
      "cell_type": "code",
      "source": [
        "# предложение\n",
        "kmeans = KMeans(n_clusters=4)\n",
        "kmeans.fit(predlojenie_elmo_vecs)\n",
        "predlojenie_elmo_labels = kmeans.labels_\n",
        "print(kmeans.predict(get_elmo_vectors_f('предложение', [get_tokens('Предложение - ' + predlojenie1),\n",
        "                                                    get_tokens('Предложение - ' + predlojenie2),\n",
        "                                                    get_tokens('Предложение - ' + predlojenie3),\n",
        "                                                    get_tokens('Предложение - ' + predlojenie4)],\n",
        "                                       model)))"
      ],
      "metadata": {
        "colab": {
          "base_uri": "https://localhost:8080/"
        },
        "id": "qpsmGj3seBi4",
        "outputId": "122583eb-36fd-42e7-eca4-3e1d09a48813"
      },
      "execution_count": 39,
      "outputs": [
        {
          "output_type": "stream",
          "name": "stderr",
          "text": [
            "/usr/local/lib/python3.10/dist-packages/sklearn/cluster/_kmeans.py:870: FutureWarning: The default value of `n_init` will change from 10 to 'auto' in 1.4. Set the value of `n_init` explicitly to suppress the warning\n",
            "  warnings.warn(\n"
          ]
        },
        {
          "output_type": "stream",
          "name": "stdout",
          "text": [
            "[0 0 0 0]\n"
          ]
        }
      ]
    },
    {
      "cell_type": "code",
      "source": [
        "#Убедимся, что всё же лейблы разные\n",
        "predlojenie_elmo_labels"
      ],
      "metadata": {
        "colab": {
          "base_uri": "https://localhost:8080/"
        },
        "id": "5-hfCsDAzaUP",
        "outputId": "4b219a60-4f0b-4550-e0ae-8a38b5ea2b94"
      },
      "execution_count": 40,
      "outputs": [
        {
          "output_type": "execute_result",
          "data": {
            "text/plain": [
              "array([3, 2, 1, ..., 3, 0, 3], dtype=int32)"
            ]
          },
          "metadata": {},
          "execution_count": 40
        }
      ]
    },
    {
      "cell_type": "markdown",
      "metadata": {
        "id": "3xaJMT_Ltcoo"
      },
      "source": [
        "## Задания 5 и 6\n",
        "5. Выберите по 2-3 значения для слова и по 5 контекстов, которые автоматически были отнесены к этим значениям. Разметьте контексты: совпадает ли значение слова в контексте со словарным значением. - 1 балл\n",
        "\n",
        "6. Оцените accuracy — в какой доле контекстов автоматически определенно значение для контекста совпадает с автоматически определенным значением толкования. - 1 балл\n",
        "\n",
        "Я сделаю это задание для слова **предложение**."
      ]
    },
    {
      "cell_type": "code",
      "source": [
        "# сначала оценим для adagram\n",
        "# будем считать, что 0, 2 и 4 - это одно значение, так что поработаю только с 0\n",
        "# 1 (экономическое) и 3 (лингвистическое) от них и друг от друга отличаются\n",
        "for s in predlojenie_adagram[0][:5]:\n",
        "    print(' '.join(s)) # в целом всё ок (хотя последнее значение - всё же +-, но я сама их объединила)\n",
        "\n",
        "# ОТВЕТ 5/5"
      ],
      "metadata": {
        "colab": {
          "base_uri": "https://localhost:8080/"
        },
        "id": "5-rORW481dq_",
        "outputId": "a4ff0057-26af-4759-da11-da93a3df9497"
      },
      "execution_count": 130,
      "outputs": [
        {
          "output_type": "stream",
          "name": "stdout",
          "text": [
            "провести два год на пенсия он неожиданно принять предложение фонд гетти\n",
            "консорциум бизнесмен красный рыцарь red knights ранее планировать сделать предложение о покупка футбольный клуб манчестер юнайтед за миллиард фунт стерлинг решить отказаться от сделка сообщать bbc news\n",
            "чешский сторона договориться быть о перенос концерт с 12 июль на 27 август но ирландец отказаться от это предложение\n",
            "змеиный рейс сравнительно низкобюджетный фильм 32 миллион режиссёр дэвид эллиса известный по фильм пункт назначения-2 final destination-2 привлечь поклонник после тот как компания new line cinema пообещать использовать они предложение по улучшение сценарий\n",
            "надеяться что после это сезон получить предложение от какой-то из клуб элитный дивизион\n"
          ]
        }
      ]
    },
    {
      "cell_type": "code",
      "source": [
        "for s in predlojenie_adagram[1][:5]:\n",
        "    print(' '.join(s)) # только два последних предложения ок\n",
        "\n",
        "# ОТВЕТ 2/5"
      ],
      "metadata": {
        "colab": {
          "base_uri": "https://localhost:8080/"
        },
        "id": "u8vf-Aw02wn3",
        "outputId": "15e76f4b-d7ea-4b49-e050-ded2bfe56fc1"
      },
      "execution_count": 131,
      "outputs": [
        {
          "output_type": "stream",
          "name": "stdout",
          "text": [
            "правительство подготовить предложение по снижение ставка страховой взнос частично компенсировать снижение доход за счёт увеличение шкала величина зарплата с который браться взнос в установленный президент срок\n",
            "ещё в 2007 год россия выступить с предложение организовать структура для координация мировой торговля зерно - своеобразный зерновой опек\n",
            "ранее предложение ограничить использование иностранный валюта в страна раскритиковать в кремль\n",
            "рост цена на нефть они связывать с временной сокращение предложение с сторона канада из-за пожар и нигерия нападение повстанец\n",
            "сейчас главный задача цб не в тот чтобы увеличить предложение деньга а в тот чтобы связать лишний рубль для сдерживание инфляция\n"
          ]
        }
      ]
    },
    {
      "cell_type": "code",
      "source": [
        "for s in predlojenie_adagram[3][:5]:\n",
        "    print(' '.join(s))\n",
        "\n",
        "# ОТВЕТ 3/5"
      ],
      "metadata": {
        "colab": {
          "base_uri": "https://localhost:8080/"
        },
        "id": "5WPOeoVb3RyR",
        "outputId": "63abc521-8658-48c3-9bf4-61636c5baa98"
      },
      "execution_count": 132,
      "outputs": [
        {
          "output_type": "stream",
          "name": "stdout",
          "text": [
            "к конец жизнь она обходиться гораздо малый количество слово чем в молодость - падение зафиксировать на уровень 15-30 процент у она увеличиться количество повторение предложение и употребление неопределённый местоимение что-то нечто\n",
            "papa john's pizza всегда стараться быть вне политика однако «в этот раз к сожаление мы это не удаться и предложение расшифровать аббревиатура один из модель танк вызвать совершенно неожиданный для мы реакцию»\n",
            "в verizon communications предложение at&t не принять сослаться на он сложный структура и возможный помеха который транзакция мочь создать сделка сам verizon и vodafone\n",
            "к слово «потому что гоночный машина» добавлять множество предложение образовать абсурдный сочетание\n",
            "первый десяток предложение показываться в основной таблица ниже четыре основный название\n"
          ]
        }
      ]
    },
    {
      "cell_type": "markdown",
      "source": [
        "**Таким образом, accuracy для adagram = 5/5 + 2/5 + 3/5 = 10/15 = 2/3 = 0.66666667**"
      ],
      "metadata": {
        "id": "Colf3y-J32pR"
      }
    },
    {
      "cell_type": "code",
      "execution_count": 41,
      "metadata": {
        "id": "N4VM6DCZtcoq"
      },
      "outputs": [],
      "source": [
        "# теперь перейдём к kmeans\n",
        "four_senses = [[], [], [], []]\n",
        "for i, s in enumerate(good_sents[3]):\n",
        "    label = predlojenie_elmo_labels[i]\n",
        "    if len(four_senses[label]) < 5:\n",
        "        four_senses[label].append(s)"
      ]
    },
    {
      "cell_type": "code",
      "source": [
        "for s in four_senses[0]:\n",
        "    print(' '.join(s)) # предложение 3 выбивается (экономическое)"
      ],
      "metadata": {
        "colab": {
          "base_uri": "https://localhost:8080/"
        },
        "id": "YGTtBwKz5Heh",
        "outputId": "a5c013be-e36e-4f57-c466-49f309d423c1"
      },
      "execution_count": 42,
      "outputs": [
        {
          "output_type": "stream",
          "name": "stdout",
          "text": [
            "правительство индия который полностью зависеть от импорт калий присматриваться к стратегический доля в беларуськалия но никакой конкретный предложение не подготовить\n",
            "если предложение великобритания быть принять этот страна не досчитаться 14 миллиард евро который предполагаться выделить на строительство новый дорога и улучшение экология\n",
            "развитие аквакультура вместе с продукция рыболовство привести по он мнение к значительный увеличение общий предложение рыба что должный привести к снижение цена\n",
            "проект предложение разместить на федеральный портал проект нормативный правовой акт и сейчас находиться на стадия публичный обсуждение\n",
            "ряд ведомство с данные предложение не согласный\n"
          ]
        }
      ]
    },
    {
      "cell_type": "code",
      "source": [
        "for s in four_senses[1]:\n",
        "    print(' '.join(s)) # предложение 1 выбивается (экономическое)"
      ],
      "metadata": {
        "colab": {
          "base_uri": "https://localhost:8080/"
        },
        "id": "5euPzrvK581N",
        "outputId": "938fb6aa-874a-4c4e-dcc3-f5dcd77dcc68"
      },
      "execution_count": 44,
      "outputs": [
        {
          "output_type": "stream",
          "name": "stdout",
          "text": [
            "в результат перепроизводство на энергетический рынок возникнуть избыток предложение объём 1,5-2 миллион баррель в день\n",
            "по слово моложавый технопромэкспорт готовый формировать пакетный   предложение   для   тендер  учитывать  преимущество  продукция силовой машина\n",
            "5 август интернет-издание bobsoccer.ru опубликовать интервью с игрок в который он подтвердить факт предложение с сторона зенит и сказать что главный в это вопрос быть позиция тренер рубин курбан бердыева\n",
            "по он сведение депутат нижний палата парламент поддержать это предложение так как инициатива уже быть одобрить на заседание президиум генсовет партия единый россия\n",
            "по мнение профсоюз balpa объединять пилот предложение ва являться заманчивый\n"
          ]
        }
      ]
    },
    {
      "cell_type": "code",
      "source": [
        "for s in four_senses[2]:\n",
        "    print(' '.join(s)) # тут выбивается последнее значение (экономическое)"
      ],
      "metadata": {
        "colab": {
          "base_uri": "https://localhost:8080/"
        },
        "id": "j4Or_2865_-Y",
        "outputId": "ebc7476c-5835-4e4c-ecbf-c8e73a76465d"
      },
      "execution_count": 145,
      "outputs": [
        {
          "output_type": "stream",
          "name": "stdout",
          "text": [
            "предложение cai четыре профсоюз пилот чей член работать на alitalia принять после почти 12-часовой непрерывный переговоры\n",
            "он предложение быть принять банк 26 ноябрь\n",
            "с подобный предложение выступить и китай однако в ряд крупный экономика мир уже заявить что не быть обсуждать создание новый резервный валюта на саммит\n",
            "ранее предложение ограничить использование иностранный валюта в страна раскритиковать в кремль\n",
            "сейчас главный задача цб не в тот чтобы увеличить предложение деньга а в тот чтобы связать лишний рубль для сдерживание инфляция\n"
          ]
        }
      ]
    },
    {
      "cell_type": "code",
      "source": [
        "for s in four_senses[3]:\n",
        "    print(' '.join(s)) # внезапно третье значение - лингвистическое"
      ],
      "metadata": {
        "colab": {
          "base_uri": "https://localhost:8080/"
        },
        "id": "j3CLzH4P6B4X",
        "outputId": "5c5938a7-3aa1-42c9-ea76-7472ab5d2ad5"
      },
      "execution_count": 146,
      "outputs": [
        {
          "output_type": "stream",
          "name": "stdout",
          "text": [
            "чешский сторона договориться быть о перенос концерт с 12 июль на 27 август но ирландец отказаться от это предложение\n",
            "в то же время еврокомиссия предупредить испанский власть о тот что они не следовать блокировать предложение e.on\n",
            "к конец жизнь она обходиться гораздо малый количество слово чем в молодость - падение зафиксировать на уровень 15-30 процент у она увеличиться количество повторение предложение и употребление неопределённый местоимение что-то нечто\n",
            "в течение два месяц претендент мочь подать свой предложение но быть получить только заявка роснефть\n",
            "я получить очень привлекательный предложение из россия где быть выполнять роль главное тренер и директор по весь хоккейный операция\n"
          ]
        }
      ]
    },
    {
      "cell_type": "markdown",
      "source": [
        "Если пытаться считать по максимуму, то пусть 0 - обычное, 1 - экономическое, 2 - романтическое, 3 - лингвистическое. Тогда **accuracy = 4/5 + 1/5 + 0 + 1/5 = 6/20 = 0.3**\n",
        "\n",
        "Если не брать в рассчёт романтическое, которое вряд ли встретилось, то 6/15 = 0.4"
      ],
      "metadata": {
        "id": "qwdfJ-BB7rj7"
      }
    },
    {
      "cell_type": "markdown",
      "metadata": {
        "id": "5IuJKNzRtcor"
      },
      "source": [
        "## Задание 7\n",
        "Сравните результаты двух методов WSD, объясните, почему результаты совпадают или расходятся (и покажите на конкретных примерах) - максимум 2 балла\n",
        "\n",
        "\n",
        "**Сравнение**\n",
        "\n",
        "Как можно видеть, adagram работает лучше. Полагаю, что это может быть в том числе из-за неуравновешенности значений в моём корпусе: всё же для нормальной работы кластеризатора нужно +- равное количество значений каждого потенциального кластера.\n",
        "\n",
        "Тем не менее, adagram не помог бы выучить различные значения слова \"охота\" без предобучения (такая опция вроде есть). А k-means надо учить в любом случае, так что при нормальном корпусе можно различать сколь угодно экзотические значения.\n",
        "\n"
      ]
    }
  ],
  "metadata": {
    "kernelspec": {
      "display_name": "Python 3",
      "name": "python3"
    },
    "language_info": {
      "codemirror_mode": {
        "name": "ipython",
        "version": 3
      },
      "file_extension": ".py",
      "mimetype": "text/x-python",
      "name": "python",
      "nbconvert_exporter": "python",
      "pygments_lexer": "ipython3",
      "version": "3.10.11"
    },
    "colab": {
      "provenance": [],
      "collapsed_sections": [
        "9YVS6Jw7uKMI",
        "Zr5eh67oRaKT",
        "tELS3ASNtcoW",
        "z8EYuJDjRqMM"
      ],
      "gpuType": "T4"
    },
    "accelerator": "GPU",
    "widgets": {
      "application/vnd.jupyter.widget-state+json": {
        "35555fdde0e64eaba6ccb2dc43707134": {
          "model_module": "@jupyter-widgets/controls",
          "model_name": "HBoxModel",
          "model_module_version": "1.5.0",
          "state": {
            "_dom_classes": [],
            "_model_module": "@jupyter-widgets/controls",
            "_model_module_version": "1.5.0",
            "_model_name": "HBoxModel",
            "_view_count": null,
            "_view_module": "@jupyter-widgets/controls",
            "_view_module_version": "1.5.0",
            "_view_name": "HBoxView",
            "box_style": "",
            "children": [
              "IPY_MODEL_186cabc6379041fdb0afdee07c48d4e7",
              "IPY_MODEL_841b797307e8435091f1bc409a95f6b3",
              "IPY_MODEL_6474acb63e0046b996ae11df9bf22d27"
            ],
            "layout": "IPY_MODEL_0f06183c47604aba8bf478913d2f22ad"
          }
        },
        "186cabc6379041fdb0afdee07c48d4e7": {
          "model_module": "@jupyter-widgets/controls",
          "model_name": "HTMLModel",
          "model_module_version": "1.5.0",
          "state": {
            "_dom_classes": [],
            "_model_module": "@jupyter-widgets/controls",
            "_model_module_version": "1.5.0",
            "_model_name": "HTMLModel",
            "_view_count": null,
            "_view_module": "@jupyter-widgets/controls",
            "_view_module_version": "1.5.0",
            "_view_name": "HTMLView",
            "description": "",
            "description_tooltip": null,
            "layout": "IPY_MODEL_6aca1d688f454cac88473805de76c8d4",
            "placeholder": "​",
            "style": "IPY_MODEL_20e4a160f8ad4c67af5620e01875a77e",
            "value": "Downloading builder script: 100%"
          }
        },
        "841b797307e8435091f1bc409a95f6b3": {
          "model_module": "@jupyter-widgets/controls",
          "model_name": "FloatProgressModel",
          "model_module_version": "1.5.0",
          "state": {
            "_dom_classes": [],
            "_model_module": "@jupyter-widgets/controls",
            "_model_module_version": "1.5.0",
            "_model_name": "FloatProgressModel",
            "_view_count": null,
            "_view_module": "@jupyter-widgets/controls",
            "_view_module_version": "1.5.0",
            "_view_name": "ProgressView",
            "bar_style": "success",
            "description": "",
            "description_tooltip": null,
            "layout": "IPY_MODEL_30ffb328913846e0b2ae75c10636d870",
            "max": 5096,
            "min": 0,
            "orientation": "horizontal",
            "style": "IPY_MODEL_86508886d2ab46c5a1f4bf2e4c127a94",
            "value": 5096
          }
        },
        "6474acb63e0046b996ae11df9bf22d27": {
          "model_module": "@jupyter-widgets/controls",
          "model_name": "HTMLModel",
          "model_module_version": "1.5.0",
          "state": {
            "_dom_classes": [],
            "_model_module": "@jupyter-widgets/controls",
            "_model_module_version": "1.5.0",
            "_model_name": "HTMLModel",
            "_view_count": null,
            "_view_module": "@jupyter-widgets/controls",
            "_view_module_version": "1.5.0",
            "_view_name": "HTMLView",
            "description": "",
            "description_tooltip": null,
            "layout": "IPY_MODEL_b4fef63bcc064bcfa5da40f36488bcf6",
            "placeholder": "​",
            "style": "IPY_MODEL_2600839e4944453ea00fbf54fad38fb5",
            "value": " 5.10k/5.10k [00:00&lt;00:00, 271kB/s]"
          }
        },
        "0f06183c47604aba8bf478913d2f22ad": {
          "model_module": "@jupyter-widgets/base",
          "model_name": "LayoutModel",
          "model_module_version": "1.2.0",
          "state": {
            "_model_module": "@jupyter-widgets/base",
            "_model_module_version": "1.2.0",
            "_model_name": "LayoutModel",
            "_view_count": null,
            "_view_module": "@jupyter-widgets/base",
            "_view_module_version": "1.2.0",
            "_view_name": "LayoutView",
            "align_content": null,
            "align_items": null,
            "align_self": null,
            "border": null,
            "bottom": null,
            "display": null,
            "flex": null,
            "flex_flow": null,
            "grid_area": null,
            "grid_auto_columns": null,
            "grid_auto_flow": null,
            "grid_auto_rows": null,
            "grid_column": null,
            "grid_gap": null,
            "grid_row": null,
            "grid_template_areas": null,
            "grid_template_columns": null,
            "grid_template_rows": null,
            "height": null,
            "justify_content": null,
            "justify_items": null,
            "left": null,
            "margin": null,
            "max_height": null,
            "max_width": null,
            "min_height": null,
            "min_width": null,
            "object_fit": null,
            "object_position": null,
            "order": null,
            "overflow": null,
            "overflow_x": null,
            "overflow_y": null,
            "padding": null,
            "right": null,
            "top": null,
            "visibility": null,
            "width": null
          }
        },
        "6aca1d688f454cac88473805de76c8d4": {
          "model_module": "@jupyter-widgets/base",
          "model_name": "LayoutModel",
          "model_module_version": "1.2.0",
          "state": {
            "_model_module": "@jupyter-widgets/base",
            "_model_module_version": "1.2.0",
            "_model_name": "LayoutModel",
            "_view_count": null,
            "_view_module": "@jupyter-widgets/base",
            "_view_module_version": "1.2.0",
            "_view_name": "LayoutView",
            "align_content": null,
            "align_items": null,
            "align_self": null,
            "border": null,
            "bottom": null,
            "display": null,
            "flex": null,
            "flex_flow": null,
            "grid_area": null,
            "grid_auto_columns": null,
            "grid_auto_flow": null,
            "grid_auto_rows": null,
            "grid_column": null,
            "grid_gap": null,
            "grid_row": null,
            "grid_template_areas": null,
            "grid_template_columns": null,
            "grid_template_rows": null,
            "height": null,
            "justify_content": null,
            "justify_items": null,
            "left": null,
            "margin": null,
            "max_height": null,
            "max_width": null,
            "min_height": null,
            "min_width": null,
            "object_fit": null,
            "object_position": null,
            "order": null,
            "overflow": null,
            "overflow_x": null,
            "overflow_y": null,
            "padding": null,
            "right": null,
            "top": null,
            "visibility": null,
            "width": null
          }
        },
        "20e4a160f8ad4c67af5620e01875a77e": {
          "model_module": "@jupyter-widgets/controls",
          "model_name": "DescriptionStyleModel",
          "model_module_version": "1.5.0",
          "state": {
            "_model_module": "@jupyter-widgets/controls",
            "_model_module_version": "1.5.0",
            "_model_name": "DescriptionStyleModel",
            "_view_count": null,
            "_view_module": "@jupyter-widgets/base",
            "_view_module_version": "1.2.0",
            "_view_name": "StyleView",
            "description_width": ""
          }
        },
        "30ffb328913846e0b2ae75c10636d870": {
          "model_module": "@jupyter-widgets/base",
          "model_name": "LayoutModel",
          "model_module_version": "1.2.0",
          "state": {
            "_model_module": "@jupyter-widgets/base",
            "_model_module_version": "1.2.0",
            "_model_name": "LayoutModel",
            "_view_count": null,
            "_view_module": "@jupyter-widgets/base",
            "_view_module_version": "1.2.0",
            "_view_name": "LayoutView",
            "align_content": null,
            "align_items": null,
            "align_self": null,
            "border": null,
            "bottom": null,
            "display": null,
            "flex": null,
            "flex_flow": null,
            "grid_area": null,
            "grid_auto_columns": null,
            "grid_auto_flow": null,
            "grid_auto_rows": null,
            "grid_column": null,
            "grid_gap": null,
            "grid_row": null,
            "grid_template_areas": null,
            "grid_template_columns": null,
            "grid_template_rows": null,
            "height": null,
            "justify_content": null,
            "justify_items": null,
            "left": null,
            "margin": null,
            "max_height": null,
            "max_width": null,
            "min_height": null,
            "min_width": null,
            "object_fit": null,
            "object_position": null,
            "order": null,
            "overflow": null,
            "overflow_x": null,
            "overflow_y": null,
            "padding": null,
            "right": null,
            "top": null,
            "visibility": null,
            "width": null
          }
        },
        "86508886d2ab46c5a1f4bf2e4c127a94": {
          "model_module": "@jupyter-widgets/controls",
          "model_name": "ProgressStyleModel",
          "model_module_version": "1.5.0",
          "state": {
            "_model_module": "@jupyter-widgets/controls",
            "_model_module_version": "1.5.0",
            "_model_name": "ProgressStyleModel",
            "_view_count": null,
            "_view_module": "@jupyter-widgets/base",
            "_view_module_version": "1.2.0",
            "_view_name": "StyleView",
            "bar_color": null,
            "description_width": ""
          }
        },
        "b4fef63bcc064bcfa5da40f36488bcf6": {
          "model_module": "@jupyter-widgets/base",
          "model_name": "LayoutModel",
          "model_module_version": "1.2.0",
          "state": {
            "_model_module": "@jupyter-widgets/base",
            "_model_module_version": "1.2.0",
            "_model_name": "LayoutModel",
            "_view_count": null,
            "_view_module": "@jupyter-widgets/base",
            "_view_module_version": "1.2.0",
            "_view_name": "LayoutView",
            "align_content": null,
            "align_items": null,
            "align_self": null,
            "border": null,
            "bottom": null,
            "display": null,
            "flex": null,
            "flex_flow": null,
            "grid_area": null,
            "grid_auto_columns": null,
            "grid_auto_flow": null,
            "grid_auto_rows": null,
            "grid_column": null,
            "grid_gap": null,
            "grid_row": null,
            "grid_template_areas": null,
            "grid_template_columns": null,
            "grid_template_rows": null,
            "height": null,
            "justify_content": null,
            "justify_items": null,
            "left": null,
            "margin": null,
            "max_height": null,
            "max_width": null,
            "min_height": null,
            "min_width": null,
            "object_fit": null,
            "object_position": null,
            "order": null,
            "overflow": null,
            "overflow_x": null,
            "overflow_y": null,
            "padding": null,
            "right": null,
            "top": null,
            "visibility": null,
            "width": null
          }
        },
        "2600839e4944453ea00fbf54fad38fb5": {
          "model_module": "@jupyter-widgets/controls",
          "model_name": "DescriptionStyleModel",
          "model_module_version": "1.5.0",
          "state": {
            "_model_module": "@jupyter-widgets/controls",
            "_model_module_version": "1.5.0",
            "_model_name": "DescriptionStyleModel",
            "_view_count": null,
            "_view_module": "@jupyter-widgets/base",
            "_view_module_version": "1.2.0",
            "_view_name": "StyleView",
            "description_width": ""
          }
        },
        "07c14b7b1b2d40bda437d36e892e5aac": {
          "model_module": "@jupyter-widgets/controls",
          "model_name": "HBoxModel",
          "model_module_version": "1.5.0",
          "state": {
            "_dom_classes": [],
            "_model_module": "@jupyter-widgets/controls",
            "_model_module_version": "1.5.0",
            "_model_name": "HBoxModel",
            "_view_count": null,
            "_view_module": "@jupyter-widgets/controls",
            "_view_module_version": "1.5.0",
            "_view_name": "HBoxView",
            "box_style": "",
            "children": [
              "IPY_MODEL_25da85ffd0bd4acc8986597b8dbee10b",
              "IPY_MODEL_361031aaf76c4ca3b5483a8e9f0fc232",
              "IPY_MODEL_02101b1730e344aba399cff4f31ee1dc"
            ],
            "layout": "IPY_MODEL_ede0978784014496a0de3631711c868e"
          }
        },
        "25da85ffd0bd4acc8986597b8dbee10b": {
          "model_module": "@jupyter-widgets/controls",
          "model_name": "HTMLModel",
          "model_module_version": "1.5.0",
          "state": {
            "_dom_classes": [],
            "_model_module": "@jupyter-widgets/controls",
            "_model_module_version": "1.5.0",
            "_model_name": "HTMLModel",
            "_view_count": null,
            "_view_module": "@jupyter-widgets/controls",
            "_view_module_version": "1.5.0",
            "_view_name": "HTMLView",
            "description": "",
            "description_tooltip": null,
            "layout": "IPY_MODEL_c0aa4b6fb0d24cecb22b9a655d337eed",
            "placeholder": "​",
            "style": "IPY_MODEL_4aa388f9604a4b6cb71c3035059f3339",
            "value": "Downloading readme: 100%"
          }
        },
        "361031aaf76c4ca3b5483a8e9f0fc232": {
          "model_module": "@jupyter-widgets/controls",
          "model_name": "FloatProgressModel",
          "model_module_version": "1.5.0",
          "state": {
            "_dom_classes": [],
            "_model_module": "@jupyter-widgets/controls",
            "_model_module_version": "1.5.0",
            "_model_name": "FloatProgressModel",
            "_view_count": null,
            "_view_module": "@jupyter-widgets/controls",
            "_view_module_version": "1.5.0",
            "_view_name": "ProgressView",
            "bar_style": "success",
            "description": "",
            "description_tooltip": null,
            "layout": "IPY_MODEL_9a2c58196abc4cffa24fe4da0971d3cb",
            "max": 16309,
            "min": 0,
            "orientation": "horizontal",
            "style": "IPY_MODEL_9c8b7da659234dff8168099bba8c6ec8",
            "value": 16309
          }
        },
        "02101b1730e344aba399cff4f31ee1dc": {
          "model_module": "@jupyter-widgets/controls",
          "model_name": "HTMLModel",
          "model_module_version": "1.5.0",
          "state": {
            "_dom_classes": [],
            "_model_module": "@jupyter-widgets/controls",
            "_model_module_version": "1.5.0",
            "_model_name": "HTMLModel",
            "_view_count": null,
            "_view_module": "@jupyter-widgets/controls",
            "_view_module_version": "1.5.0",
            "_view_name": "HTMLView",
            "description": "",
            "description_tooltip": null,
            "layout": "IPY_MODEL_2bcc8db137be4381a819248e9c195e15",
            "placeholder": "​",
            "style": "IPY_MODEL_91cbe40c97f541e7a72d438802e80497",
            "value": " 16.3k/16.3k [00:00&lt;00:00, 958kB/s]"
          }
        },
        "ede0978784014496a0de3631711c868e": {
          "model_module": "@jupyter-widgets/base",
          "model_name": "LayoutModel",
          "model_module_version": "1.2.0",
          "state": {
            "_model_module": "@jupyter-widgets/base",
            "_model_module_version": "1.2.0",
            "_model_name": "LayoutModel",
            "_view_count": null,
            "_view_module": "@jupyter-widgets/base",
            "_view_module_version": "1.2.0",
            "_view_name": "LayoutView",
            "align_content": null,
            "align_items": null,
            "align_self": null,
            "border": null,
            "bottom": null,
            "display": null,
            "flex": null,
            "flex_flow": null,
            "grid_area": null,
            "grid_auto_columns": null,
            "grid_auto_flow": null,
            "grid_auto_rows": null,
            "grid_column": null,
            "grid_gap": null,
            "grid_row": null,
            "grid_template_areas": null,
            "grid_template_columns": null,
            "grid_template_rows": null,
            "height": null,
            "justify_content": null,
            "justify_items": null,
            "left": null,
            "margin": null,
            "max_height": null,
            "max_width": null,
            "min_height": null,
            "min_width": null,
            "object_fit": null,
            "object_position": null,
            "order": null,
            "overflow": null,
            "overflow_x": null,
            "overflow_y": null,
            "padding": null,
            "right": null,
            "top": null,
            "visibility": null,
            "width": null
          }
        },
        "c0aa4b6fb0d24cecb22b9a655d337eed": {
          "model_module": "@jupyter-widgets/base",
          "model_name": "LayoutModel",
          "model_module_version": "1.2.0",
          "state": {
            "_model_module": "@jupyter-widgets/base",
            "_model_module_version": "1.2.0",
            "_model_name": "LayoutModel",
            "_view_count": null,
            "_view_module": "@jupyter-widgets/base",
            "_view_module_version": "1.2.0",
            "_view_name": "LayoutView",
            "align_content": null,
            "align_items": null,
            "align_self": null,
            "border": null,
            "bottom": null,
            "display": null,
            "flex": null,
            "flex_flow": null,
            "grid_area": null,
            "grid_auto_columns": null,
            "grid_auto_flow": null,
            "grid_auto_rows": null,
            "grid_column": null,
            "grid_gap": null,
            "grid_row": null,
            "grid_template_areas": null,
            "grid_template_columns": null,
            "grid_template_rows": null,
            "height": null,
            "justify_content": null,
            "justify_items": null,
            "left": null,
            "margin": null,
            "max_height": null,
            "max_width": null,
            "min_height": null,
            "min_width": null,
            "object_fit": null,
            "object_position": null,
            "order": null,
            "overflow": null,
            "overflow_x": null,
            "overflow_y": null,
            "padding": null,
            "right": null,
            "top": null,
            "visibility": null,
            "width": null
          }
        },
        "4aa388f9604a4b6cb71c3035059f3339": {
          "model_module": "@jupyter-widgets/controls",
          "model_name": "DescriptionStyleModel",
          "model_module_version": "1.5.0",
          "state": {
            "_model_module": "@jupyter-widgets/controls",
            "_model_module_version": "1.5.0",
            "_model_name": "DescriptionStyleModel",
            "_view_count": null,
            "_view_module": "@jupyter-widgets/base",
            "_view_module_version": "1.2.0",
            "_view_name": "StyleView",
            "description_width": ""
          }
        },
        "9a2c58196abc4cffa24fe4da0971d3cb": {
          "model_module": "@jupyter-widgets/base",
          "model_name": "LayoutModel",
          "model_module_version": "1.2.0",
          "state": {
            "_model_module": "@jupyter-widgets/base",
            "_model_module_version": "1.2.0",
            "_model_name": "LayoutModel",
            "_view_count": null,
            "_view_module": "@jupyter-widgets/base",
            "_view_module_version": "1.2.0",
            "_view_name": "LayoutView",
            "align_content": null,
            "align_items": null,
            "align_self": null,
            "border": null,
            "bottom": null,
            "display": null,
            "flex": null,
            "flex_flow": null,
            "grid_area": null,
            "grid_auto_columns": null,
            "grid_auto_flow": null,
            "grid_auto_rows": null,
            "grid_column": null,
            "grid_gap": null,
            "grid_row": null,
            "grid_template_areas": null,
            "grid_template_columns": null,
            "grid_template_rows": null,
            "height": null,
            "justify_content": null,
            "justify_items": null,
            "left": null,
            "margin": null,
            "max_height": null,
            "max_width": null,
            "min_height": null,
            "min_width": null,
            "object_fit": null,
            "object_position": null,
            "order": null,
            "overflow": null,
            "overflow_x": null,
            "overflow_y": null,
            "padding": null,
            "right": null,
            "top": null,
            "visibility": null,
            "width": null
          }
        },
        "9c8b7da659234dff8168099bba8c6ec8": {
          "model_module": "@jupyter-widgets/controls",
          "model_name": "ProgressStyleModel",
          "model_module_version": "1.5.0",
          "state": {
            "_model_module": "@jupyter-widgets/controls",
            "_model_module_version": "1.5.0",
            "_model_name": "ProgressStyleModel",
            "_view_count": null,
            "_view_module": "@jupyter-widgets/base",
            "_view_module_version": "1.2.0",
            "_view_name": "StyleView",
            "bar_color": null,
            "description_width": ""
          }
        },
        "2bcc8db137be4381a819248e9c195e15": {
          "model_module": "@jupyter-widgets/base",
          "model_name": "LayoutModel",
          "model_module_version": "1.2.0",
          "state": {
            "_model_module": "@jupyter-widgets/base",
            "_model_module_version": "1.2.0",
            "_model_name": "LayoutModel",
            "_view_count": null,
            "_view_module": "@jupyter-widgets/base",
            "_view_module_version": "1.2.0",
            "_view_name": "LayoutView",
            "align_content": null,
            "align_items": null,
            "align_self": null,
            "border": null,
            "bottom": null,
            "display": null,
            "flex": null,
            "flex_flow": null,
            "grid_area": null,
            "grid_auto_columns": null,
            "grid_auto_flow": null,
            "grid_auto_rows": null,
            "grid_column": null,
            "grid_gap": null,
            "grid_row": null,
            "grid_template_areas": null,
            "grid_template_columns": null,
            "grid_template_rows": null,
            "height": null,
            "justify_content": null,
            "justify_items": null,
            "left": null,
            "margin": null,
            "max_height": null,
            "max_width": null,
            "min_height": null,
            "min_width": null,
            "object_fit": null,
            "object_position": null,
            "order": null,
            "overflow": null,
            "overflow_x": null,
            "overflow_y": null,
            "padding": null,
            "right": null,
            "top": null,
            "visibility": null,
            "width": null
          }
        },
        "91cbe40c97f541e7a72d438802e80497": {
          "model_module": "@jupyter-widgets/controls",
          "model_name": "DescriptionStyleModel",
          "model_module_version": "1.5.0",
          "state": {
            "_model_module": "@jupyter-widgets/controls",
            "_model_module_version": "1.5.0",
            "_model_name": "DescriptionStyleModel",
            "_view_count": null,
            "_view_module": "@jupyter-widgets/base",
            "_view_module_version": "1.2.0",
            "_view_name": "StyleView",
            "description_width": ""
          }
        },
        "2e7de924b68a4224a529b769abc18dc8": {
          "model_module": "@jupyter-widgets/controls",
          "model_name": "HBoxModel",
          "model_module_version": "1.5.0",
          "state": {
            "_dom_classes": [],
            "_model_module": "@jupyter-widgets/controls",
            "_model_module_version": "1.5.0",
            "_model_name": "HBoxModel",
            "_view_count": null,
            "_view_module": "@jupyter-widgets/controls",
            "_view_module_version": "1.5.0",
            "_view_name": "HBoxView",
            "box_style": "",
            "children": [
              "IPY_MODEL_6552193663d040078a104a9d3d1b719d",
              "IPY_MODEL_4f14b7f3eb274e81873d688de589abc2",
              "IPY_MODEL_5dd05209531d4ec088482b381a05c80e"
            ],
            "layout": "IPY_MODEL_6252eee6542c40c99510fbe8197b253c"
          }
        },
        "6552193663d040078a104a9d3d1b719d": {
          "model_module": "@jupyter-widgets/controls",
          "model_name": "HTMLModel",
          "model_module_version": "1.5.0",
          "state": {
            "_dom_classes": [],
            "_model_module": "@jupyter-widgets/controls",
            "_model_module_version": "1.5.0",
            "_model_name": "HTMLModel",
            "_view_count": null,
            "_view_module": "@jupyter-widgets/controls",
            "_view_module_version": "1.5.0",
            "_view_name": "HTMLView",
            "description": "",
            "description_tooltip": null,
            "layout": "IPY_MODEL_9a9215422b4b459ebbf1d6f8366809c6",
            "placeholder": "​",
            "style": "IPY_MODEL_d6f02c2ca4864fbc943e078bd72a5ac7",
            "value": "Downloading data files: 100%"
          }
        },
        "4f14b7f3eb274e81873d688de589abc2": {
          "model_module": "@jupyter-widgets/controls",
          "model_name": "FloatProgressModel",
          "model_module_version": "1.5.0",
          "state": {
            "_dom_classes": [],
            "_model_module": "@jupyter-widgets/controls",
            "_model_module_version": "1.5.0",
            "_model_name": "FloatProgressModel",
            "_view_count": null,
            "_view_module": "@jupyter-widgets/controls",
            "_view_module_version": "1.5.0",
            "_view_name": "ProgressView",
            "bar_style": "success",
            "description": "",
            "description_tooltip": null,
            "layout": "IPY_MODEL_57f1131e2d8f4ecda4f80e1f7c9edea6",
            "max": 3,
            "min": 0,
            "orientation": "horizontal",
            "style": "IPY_MODEL_3ef67c12faf04a5e824ae0be578ae14c",
            "value": 3
          }
        },
        "5dd05209531d4ec088482b381a05c80e": {
          "model_module": "@jupyter-widgets/controls",
          "model_name": "HTMLModel",
          "model_module_version": "1.5.0",
          "state": {
            "_dom_classes": [],
            "_model_module": "@jupyter-widgets/controls",
            "_model_module_version": "1.5.0",
            "_model_name": "HTMLModel",
            "_view_count": null,
            "_view_module": "@jupyter-widgets/controls",
            "_view_module_version": "1.5.0",
            "_view_name": "HTMLView",
            "description": "",
            "description_tooltip": null,
            "layout": "IPY_MODEL_30709d47538d4ce9af87ffe21e4af8d0",
            "placeholder": "​",
            "style": "IPY_MODEL_db0f8afbf7bc4af49e717a8d06eb98c2",
            "value": " 3/3 [00:01&lt;00:00,  1.70it/s]"
          }
        },
        "6252eee6542c40c99510fbe8197b253c": {
          "model_module": "@jupyter-widgets/base",
          "model_name": "LayoutModel",
          "model_module_version": "1.2.0",
          "state": {
            "_model_module": "@jupyter-widgets/base",
            "_model_module_version": "1.2.0",
            "_model_name": "LayoutModel",
            "_view_count": null,
            "_view_module": "@jupyter-widgets/base",
            "_view_module_version": "1.2.0",
            "_view_name": "LayoutView",
            "align_content": null,
            "align_items": null,
            "align_self": null,
            "border": null,
            "bottom": null,
            "display": null,
            "flex": null,
            "flex_flow": null,
            "grid_area": null,
            "grid_auto_columns": null,
            "grid_auto_flow": null,
            "grid_auto_rows": null,
            "grid_column": null,
            "grid_gap": null,
            "grid_row": null,
            "grid_template_areas": null,
            "grid_template_columns": null,
            "grid_template_rows": null,
            "height": null,
            "justify_content": null,
            "justify_items": null,
            "left": null,
            "margin": null,
            "max_height": null,
            "max_width": null,
            "min_height": null,
            "min_width": null,
            "object_fit": null,
            "object_position": null,
            "order": null,
            "overflow": null,
            "overflow_x": null,
            "overflow_y": null,
            "padding": null,
            "right": null,
            "top": null,
            "visibility": null,
            "width": null
          }
        },
        "9a9215422b4b459ebbf1d6f8366809c6": {
          "model_module": "@jupyter-widgets/base",
          "model_name": "LayoutModel",
          "model_module_version": "1.2.0",
          "state": {
            "_model_module": "@jupyter-widgets/base",
            "_model_module_version": "1.2.0",
            "_model_name": "LayoutModel",
            "_view_count": null,
            "_view_module": "@jupyter-widgets/base",
            "_view_module_version": "1.2.0",
            "_view_name": "LayoutView",
            "align_content": null,
            "align_items": null,
            "align_self": null,
            "border": null,
            "bottom": null,
            "display": null,
            "flex": null,
            "flex_flow": null,
            "grid_area": null,
            "grid_auto_columns": null,
            "grid_auto_flow": null,
            "grid_auto_rows": null,
            "grid_column": null,
            "grid_gap": null,
            "grid_row": null,
            "grid_template_areas": null,
            "grid_template_columns": null,
            "grid_template_rows": null,
            "height": null,
            "justify_content": null,
            "justify_items": null,
            "left": null,
            "margin": null,
            "max_height": null,
            "max_width": null,
            "min_height": null,
            "min_width": null,
            "object_fit": null,
            "object_position": null,
            "order": null,
            "overflow": null,
            "overflow_x": null,
            "overflow_y": null,
            "padding": null,
            "right": null,
            "top": null,
            "visibility": null,
            "width": null
          }
        },
        "d6f02c2ca4864fbc943e078bd72a5ac7": {
          "model_module": "@jupyter-widgets/controls",
          "model_name": "DescriptionStyleModel",
          "model_module_version": "1.5.0",
          "state": {
            "_model_module": "@jupyter-widgets/controls",
            "_model_module_version": "1.5.0",
            "_model_name": "DescriptionStyleModel",
            "_view_count": null,
            "_view_module": "@jupyter-widgets/base",
            "_view_module_version": "1.2.0",
            "_view_name": "StyleView",
            "description_width": ""
          }
        },
        "57f1131e2d8f4ecda4f80e1f7c9edea6": {
          "model_module": "@jupyter-widgets/base",
          "model_name": "LayoutModel",
          "model_module_version": "1.2.0",
          "state": {
            "_model_module": "@jupyter-widgets/base",
            "_model_module_version": "1.2.0",
            "_model_name": "LayoutModel",
            "_view_count": null,
            "_view_module": "@jupyter-widgets/base",
            "_view_module_version": "1.2.0",
            "_view_name": "LayoutView",
            "align_content": null,
            "align_items": null,
            "align_self": null,
            "border": null,
            "bottom": null,
            "display": null,
            "flex": null,
            "flex_flow": null,
            "grid_area": null,
            "grid_auto_columns": null,
            "grid_auto_flow": null,
            "grid_auto_rows": null,
            "grid_column": null,
            "grid_gap": null,
            "grid_row": null,
            "grid_template_areas": null,
            "grid_template_columns": null,
            "grid_template_rows": null,
            "height": null,
            "justify_content": null,
            "justify_items": null,
            "left": null,
            "margin": null,
            "max_height": null,
            "max_width": null,
            "min_height": null,
            "min_width": null,
            "object_fit": null,
            "object_position": null,
            "order": null,
            "overflow": null,
            "overflow_x": null,
            "overflow_y": null,
            "padding": null,
            "right": null,
            "top": null,
            "visibility": null,
            "width": null
          }
        },
        "3ef67c12faf04a5e824ae0be578ae14c": {
          "model_module": "@jupyter-widgets/controls",
          "model_name": "ProgressStyleModel",
          "model_module_version": "1.5.0",
          "state": {
            "_model_module": "@jupyter-widgets/controls",
            "_model_module_version": "1.5.0",
            "_model_name": "ProgressStyleModel",
            "_view_count": null,
            "_view_module": "@jupyter-widgets/base",
            "_view_module_version": "1.2.0",
            "_view_name": "StyleView",
            "bar_color": null,
            "description_width": ""
          }
        },
        "30709d47538d4ce9af87ffe21e4af8d0": {
          "model_module": "@jupyter-widgets/base",
          "model_name": "LayoutModel",
          "model_module_version": "1.2.0",
          "state": {
            "_model_module": "@jupyter-widgets/base",
            "_model_module_version": "1.2.0",
            "_model_name": "LayoutModel",
            "_view_count": null,
            "_view_module": "@jupyter-widgets/base",
            "_view_module_version": "1.2.0",
            "_view_name": "LayoutView",
            "align_content": null,
            "align_items": null,
            "align_self": null,
            "border": null,
            "bottom": null,
            "display": null,
            "flex": null,
            "flex_flow": null,
            "grid_area": null,
            "grid_auto_columns": null,
            "grid_auto_flow": null,
            "grid_auto_rows": null,
            "grid_column": null,
            "grid_gap": null,
            "grid_row": null,
            "grid_template_areas": null,
            "grid_template_columns": null,
            "grid_template_rows": null,
            "height": null,
            "justify_content": null,
            "justify_items": null,
            "left": null,
            "margin": null,
            "max_height": null,
            "max_width": null,
            "min_height": null,
            "min_width": null,
            "object_fit": null,
            "object_position": null,
            "order": null,
            "overflow": null,
            "overflow_x": null,
            "overflow_y": null,
            "padding": null,
            "right": null,
            "top": null,
            "visibility": null,
            "width": null
          }
        },
        "db0f8afbf7bc4af49e717a8d06eb98c2": {
          "model_module": "@jupyter-widgets/controls",
          "model_name": "DescriptionStyleModel",
          "model_module_version": "1.5.0",
          "state": {
            "_model_module": "@jupyter-widgets/controls",
            "_model_module_version": "1.5.0",
            "_model_name": "DescriptionStyleModel",
            "_view_count": null,
            "_view_module": "@jupyter-widgets/base",
            "_view_module_version": "1.2.0",
            "_view_name": "StyleView",
            "description_width": ""
          }
        },
        "4c4b17e3dfc14e759b186921413afd69": {
          "model_module": "@jupyter-widgets/controls",
          "model_name": "HBoxModel",
          "model_module_version": "1.5.0",
          "state": {
            "_dom_classes": [],
            "_model_module": "@jupyter-widgets/controls",
            "_model_module_version": "1.5.0",
            "_model_name": "HBoxModel",
            "_view_count": null,
            "_view_module": "@jupyter-widgets/controls",
            "_view_module_version": "1.5.0",
            "_view_name": "HBoxView",
            "box_style": "",
            "children": [
              "IPY_MODEL_bf380d3dfd2e40d8a378c5db94e11c2d",
              "IPY_MODEL_63f2d672f8f14673b0ae9979e378306c",
              "IPY_MODEL_f3b90112a60e4ae9a2fcec560d760a5f"
            ],
            "layout": "IPY_MODEL_7aecb0094ff149e09e5fabcaa72c2999"
          }
        },
        "bf380d3dfd2e40d8a378c5db94e11c2d": {
          "model_module": "@jupyter-widgets/controls",
          "model_name": "HTMLModel",
          "model_module_version": "1.5.0",
          "state": {
            "_dom_classes": [],
            "_model_module": "@jupyter-widgets/controls",
            "_model_module_version": "1.5.0",
            "_model_name": "HTMLModel",
            "_view_count": null,
            "_view_module": "@jupyter-widgets/controls",
            "_view_module_version": "1.5.0",
            "_view_name": "HTMLView",
            "description": "",
            "description_tooltip": null,
            "layout": "IPY_MODEL_4dc28b155bda4b1395b0004f82042195",
            "placeholder": "​",
            "style": "IPY_MODEL_5c3d420dc0134e79a8872e7fa0b6064b",
            "value": "Downloading data: 100%"
          }
        },
        "63f2d672f8f14673b0ae9979e378306c": {
          "model_module": "@jupyter-widgets/controls",
          "model_name": "FloatProgressModel",
          "model_module_version": "1.5.0",
          "state": {
            "_dom_classes": [],
            "_model_module": "@jupyter-widgets/controls",
            "_model_module_version": "1.5.0",
            "_model_name": "FloatProgressModel",
            "_view_count": null,
            "_view_module": "@jupyter-widgets/controls",
            "_view_module_version": "1.5.0",
            "_view_name": "ProgressView",
            "bar_style": "success",
            "description": "",
            "description_tooltip": null,
            "layout": "IPY_MODEL_9da87be567f640ee951999e18cad6e0a",
            "max": 978877,
            "min": 0,
            "orientation": "horizontal",
            "style": "IPY_MODEL_251136d3a2664b369a972646a32fd129",
            "value": 978877
          }
        },
        "f3b90112a60e4ae9a2fcec560d760a5f": {
          "model_module": "@jupyter-widgets/controls",
          "model_name": "HTMLModel",
          "model_module_version": "1.5.0",
          "state": {
            "_dom_classes": [],
            "_model_module": "@jupyter-widgets/controls",
            "_model_module_version": "1.5.0",
            "_model_name": "HTMLModel",
            "_view_count": null,
            "_view_module": "@jupyter-widgets/controls",
            "_view_module_version": "1.5.0",
            "_view_name": "HTMLView",
            "description": "",
            "description_tooltip": null,
            "layout": "IPY_MODEL_19432957c3f24135be3a248df0d8e27d",
            "placeholder": "​",
            "style": "IPY_MODEL_d6b5e27e5dab4f4aabfe1fb924a23803",
            "value": " 979k/979k [00:00&lt;00:00, 6.52MB/s]"
          }
        },
        "7aecb0094ff149e09e5fabcaa72c2999": {
          "model_module": "@jupyter-widgets/base",
          "model_name": "LayoutModel",
          "model_module_version": "1.2.0",
          "state": {
            "_model_module": "@jupyter-widgets/base",
            "_model_module_version": "1.2.0",
            "_model_name": "LayoutModel",
            "_view_count": null,
            "_view_module": "@jupyter-widgets/base",
            "_view_module_version": "1.2.0",
            "_view_name": "LayoutView",
            "align_content": null,
            "align_items": null,
            "align_self": null,
            "border": null,
            "bottom": null,
            "display": null,
            "flex": null,
            "flex_flow": null,
            "grid_area": null,
            "grid_auto_columns": null,
            "grid_auto_flow": null,
            "grid_auto_rows": null,
            "grid_column": null,
            "grid_gap": null,
            "grid_row": null,
            "grid_template_areas": null,
            "grid_template_columns": null,
            "grid_template_rows": null,
            "height": null,
            "justify_content": null,
            "justify_items": null,
            "left": null,
            "margin": null,
            "max_height": null,
            "max_width": null,
            "min_height": null,
            "min_width": null,
            "object_fit": null,
            "object_position": null,
            "order": null,
            "overflow": null,
            "overflow_x": null,
            "overflow_y": null,
            "padding": null,
            "right": null,
            "top": null,
            "visibility": null,
            "width": null
          }
        },
        "4dc28b155bda4b1395b0004f82042195": {
          "model_module": "@jupyter-widgets/base",
          "model_name": "LayoutModel",
          "model_module_version": "1.2.0",
          "state": {
            "_model_module": "@jupyter-widgets/base",
            "_model_module_version": "1.2.0",
            "_model_name": "LayoutModel",
            "_view_count": null,
            "_view_module": "@jupyter-widgets/base",
            "_view_module_version": "1.2.0",
            "_view_name": "LayoutView",
            "align_content": null,
            "align_items": null,
            "align_self": null,
            "border": null,
            "bottom": null,
            "display": null,
            "flex": null,
            "flex_flow": null,
            "grid_area": null,
            "grid_auto_columns": null,
            "grid_auto_flow": null,
            "grid_auto_rows": null,
            "grid_column": null,
            "grid_gap": null,
            "grid_row": null,
            "grid_template_areas": null,
            "grid_template_columns": null,
            "grid_template_rows": null,
            "height": null,
            "justify_content": null,
            "justify_items": null,
            "left": null,
            "margin": null,
            "max_height": null,
            "max_width": null,
            "min_height": null,
            "min_width": null,
            "object_fit": null,
            "object_position": null,
            "order": null,
            "overflow": null,
            "overflow_x": null,
            "overflow_y": null,
            "padding": null,
            "right": null,
            "top": null,
            "visibility": null,
            "width": null
          }
        },
        "5c3d420dc0134e79a8872e7fa0b6064b": {
          "model_module": "@jupyter-widgets/controls",
          "model_name": "DescriptionStyleModel",
          "model_module_version": "1.5.0",
          "state": {
            "_model_module": "@jupyter-widgets/controls",
            "_model_module_version": "1.5.0",
            "_model_name": "DescriptionStyleModel",
            "_view_count": null,
            "_view_module": "@jupyter-widgets/base",
            "_view_module_version": "1.2.0",
            "_view_name": "StyleView",
            "description_width": ""
          }
        },
        "9da87be567f640ee951999e18cad6e0a": {
          "model_module": "@jupyter-widgets/base",
          "model_name": "LayoutModel",
          "model_module_version": "1.2.0",
          "state": {
            "_model_module": "@jupyter-widgets/base",
            "_model_module_version": "1.2.0",
            "_model_name": "LayoutModel",
            "_view_count": null,
            "_view_module": "@jupyter-widgets/base",
            "_view_module_version": "1.2.0",
            "_view_name": "LayoutView",
            "align_content": null,
            "align_items": null,
            "align_self": null,
            "border": null,
            "bottom": null,
            "display": null,
            "flex": null,
            "flex_flow": null,
            "grid_area": null,
            "grid_auto_columns": null,
            "grid_auto_flow": null,
            "grid_auto_rows": null,
            "grid_column": null,
            "grid_gap": null,
            "grid_row": null,
            "grid_template_areas": null,
            "grid_template_columns": null,
            "grid_template_rows": null,
            "height": null,
            "justify_content": null,
            "justify_items": null,
            "left": null,
            "margin": null,
            "max_height": null,
            "max_width": null,
            "min_height": null,
            "min_width": null,
            "object_fit": null,
            "object_position": null,
            "order": null,
            "overflow": null,
            "overflow_x": null,
            "overflow_y": null,
            "padding": null,
            "right": null,
            "top": null,
            "visibility": null,
            "width": null
          }
        },
        "251136d3a2664b369a972646a32fd129": {
          "model_module": "@jupyter-widgets/controls",
          "model_name": "ProgressStyleModel",
          "model_module_version": "1.5.0",
          "state": {
            "_model_module": "@jupyter-widgets/controls",
            "_model_module_version": "1.5.0",
            "_model_name": "ProgressStyleModel",
            "_view_count": null,
            "_view_module": "@jupyter-widgets/base",
            "_view_module_version": "1.2.0",
            "_view_name": "StyleView",
            "bar_color": null,
            "description_width": ""
          }
        },
        "19432957c3f24135be3a248df0d8e27d": {
          "model_module": "@jupyter-widgets/base",
          "model_name": "LayoutModel",
          "model_module_version": "1.2.0",
          "state": {
            "_model_module": "@jupyter-widgets/base",
            "_model_module_version": "1.2.0",
            "_model_name": "LayoutModel",
            "_view_count": null,
            "_view_module": "@jupyter-widgets/base",
            "_view_module_version": "1.2.0",
            "_view_name": "LayoutView",
            "align_content": null,
            "align_items": null,
            "align_self": null,
            "border": null,
            "bottom": null,
            "display": null,
            "flex": null,
            "flex_flow": null,
            "grid_area": null,
            "grid_auto_columns": null,
            "grid_auto_flow": null,
            "grid_auto_rows": null,
            "grid_column": null,
            "grid_gap": null,
            "grid_row": null,
            "grid_template_areas": null,
            "grid_template_columns": null,
            "grid_template_rows": null,
            "height": null,
            "justify_content": null,
            "justify_items": null,
            "left": null,
            "margin": null,
            "max_height": null,
            "max_width": null,
            "min_height": null,
            "min_width": null,
            "object_fit": null,
            "object_position": null,
            "order": null,
            "overflow": null,
            "overflow_x": null,
            "overflow_y": null,
            "padding": null,
            "right": null,
            "top": null,
            "visibility": null,
            "width": null
          }
        },
        "d6b5e27e5dab4f4aabfe1fb924a23803": {
          "model_module": "@jupyter-widgets/controls",
          "model_name": "DescriptionStyleModel",
          "model_module_version": "1.5.0",
          "state": {
            "_model_module": "@jupyter-widgets/controls",
            "_model_module_version": "1.5.0",
            "_model_name": "DescriptionStyleModel",
            "_view_count": null,
            "_view_module": "@jupyter-widgets/base",
            "_view_module_version": "1.2.0",
            "_view_name": "StyleView",
            "description_width": ""
          }
        },
        "eb3f8c46b5bf439c90f3ed868425bd68": {
          "model_module": "@jupyter-widgets/controls",
          "model_name": "HBoxModel",
          "model_module_version": "1.5.0",
          "state": {
            "_dom_classes": [],
            "_model_module": "@jupyter-widgets/controls",
            "_model_module_version": "1.5.0",
            "_model_name": "HBoxModel",
            "_view_count": null,
            "_view_module": "@jupyter-widgets/controls",
            "_view_module_version": "1.5.0",
            "_view_name": "HBoxView",
            "box_style": "",
            "children": [
              "IPY_MODEL_0aa9368921454eaa984a796490661fb0",
              "IPY_MODEL_b5d00da32358424f9e5839c325b66c1f",
              "IPY_MODEL_17bdc377956b455a82d6859b8533aba6"
            ],
            "layout": "IPY_MODEL_e8b56d9b8c9445bfbf2ff8504fdf1953"
          }
        },
        "0aa9368921454eaa984a796490661fb0": {
          "model_module": "@jupyter-widgets/controls",
          "model_name": "HTMLModel",
          "model_module_version": "1.5.0",
          "state": {
            "_dom_classes": [],
            "_model_module": "@jupyter-widgets/controls",
            "_model_module_version": "1.5.0",
            "_model_name": "HTMLModel",
            "_view_count": null,
            "_view_module": "@jupyter-widgets/controls",
            "_view_module_version": "1.5.0",
            "_view_name": "HTMLView",
            "description": "",
            "description_tooltip": null,
            "layout": "IPY_MODEL_3f63d03b8e624e969e134c8694d1613c",
            "placeholder": "​",
            "style": "IPY_MODEL_2d6b7eb7ff234e5fb78e8bcbad045cb1",
            "value": "Downloading data: 100%"
          }
        },
        "b5d00da32358424f9e5839c325b66c1f": {
          "model_module": "@jupyter-widgets/controls",
          "model_name": "FloatProgressModel",
          "model_module_version": "1.5.0",
          "state": {
            "_dom_classes": [],
            "_model_module": "@jupyter-widgets/controls",
            "_model_module_version": "1.5.0",
            "_model_name": "FloatProgressModel",
            "_view_count": null,
            "_view_module": "@jupyter-widgets/controls",
            "_view_module_version": "1.5.0",
            "_view_name": "ProgressView",
            "bar_style": "success",
            "description": "",
            "description_tooltip": null,
            "layout": "IPY_MODEL_621909b7d8994f57b41e9185c5b52be8",
            "max": 477922,
            "min": 0,
            "orientation": "horizontal",
            "style": "IPY_MODEL_f48eb0b27b6c48e5bff96a412c320109",
            "value": 477922
          }
        },
        "17bdc377956b455a82d6859b8533aba6": {
          "model_module": "@jupyter-widgets/controls",
          "model_name": "HTMLModel",
          "model_module_version": "1.5.0",
          "state": {
            "_dom_classes": [],
            "_model_module": "@jupyter-widgets/controls",
            "_model_module_version": "1.5.0",
            "_model_name": "HTMLModel",
            "_view_count": null,
            "_view_module": "@jupyter-widgets/controls",
            "_view_module_version": "1.5.0",
            "_view_name": "HTMLView",
            "description": "",
            "description_tooltip": null,
            "layout": "IPY_MODEL_82936aacbcc447a8ad064814fc9871be",
            "placeholder": "​",
            "style": "IPY_MODEL_1d84aaab939444ce9d95ea15c1404eff",
            "value": " 478k/478k [00:00&lt;00:00, 3.90MB/s]"
          }
        },
        "e8b56d9b8c9445bfbf2ff8504fdf1953": {
          "model_module": "@jupyter-widgets/base",
          "model_name": "LayoutModel",
          "model_module_version": "1.2.0",
          "state": {
            "_model_module": "@jupyter-widgets/base",
            "_model_module_version": "1.2.0",
            "_model_name": "LayoutModel",
            "_view_count": null,
            "_view_module": "@jupyter-widgets/base",
            "_view_module_version": "1.2.0",
            "_view_name": "LayoutView",
            "align_content": null,
            "align_items": null,
            "align_self": null,
            "border": null,
            "bottom": null,
            "display": null,
            "flex": null,
            "flex_flow": null,
            "grid_area": null,
            "grid_auto_columns": null,
            "grid_auto_flow": null,
            "grid_auto_rows": null,
            "grid_column": null,
            "grid_gap": null,
            "grid_row": null,
            "grid_template_areas": null,
            "grid_template_columns": null,
            "grid_template_rows": null,
            "height": null,
            "justify_content": null,
            "justify_items": null,
            "left": null,
            "margin": null,
            "max_height": null,
            "max_width": null,
            "min_height": null,
            "min_width": null,
            "object_fit": null,
            "object_position": null,
            "order": null,
            "overflow": null,
            "overflow_x": null,
            "overflow_y": null,
            "padding": null,
            "right": null,
            "top": null,
            "visibility": null,
            "width": null
          }
        },
        "3f63d03b8e624e969e134c8694d1613c": {
          "model_module": "@jupyter-widgets/base",
          "model_name": "LayoutModel",
          "model_module_version": "1.2.0",
          "state": {
            "_model_module": "@jupyter-widgets/base",
            "_model_module_version": "1.2.0",
            "_model_name": "LayoutModel",
            "_view_count": null,
            "_view_module": "@jupyter-widgets/base",
            "_view_module_version": "1.2.0",
            "_view_name": "LayoutView",
            "align_content": null,
            "align_items": null,
            "align_self": null,
            "border": null,
            "bottom": null,
            "display": null,
            "flex": null,
            "flex_flow": null,
            "grid_area": null,
            "grid_auto_columns": null,
            "grid_auto_flow": null,
            "grid_auto_rows": null,
            "grid_column": null,
            "grid_gap": null,
            "grid_row": null,
            "grid_template_areas": null,
            "grid_template_columns": null,
            "grid_template_rows": null,
            "height": null,
            "justify_content": null,
            "justify_items": null,
            "left": null,
            "margin": null,
            "max_height": null,
            "max_width": null,
            "min_height": null,
            "min_width": null,
            "object_fit": null,
            "object_position": null,
            "order": null,
            "overflow": null,
            "overflow_x": null,
            "overflow_y": null,
            "padding": null,
            "right": null,
            "top": null,
            "visibility": null,
            "width": null
          }
        },
        "2d6b7eb7ff234e5fb78e8bcbad045cb1": {
          "model_module": "@jupyter-widgets/controls",
          "model_name": "DescriptionStyleModel",
          "model_module_version": "1.5.0",
          "state": {
            "_model_module": "@jupyter-widgets/controls",
            "_model_module_version": "1.5.0",
            "_model_name": "DescriptionStyleModel",
            "_view_count": null,
            "_view_module": "@jupyter-widgets/base",
            "_view_module_version": "1.2.0",
            "_view_name": "StyleView",
            "description_width": ""
          }
        },
        "621909b7d8994f57b41e9185c5b52be8": {
          "model_module": "@jupyter-widgets/base",
          "model_name": "LayoutModel",
          "model_module_version": "1.2.0",
          "state": {
            "_model_module": "@jupyter-widgets/base",
            "_model_module_version": "1.2.0",
            "_model_name": "LayoutModel",
            "_view_count": null,
            "_view_module": "@jupyter-widgets/base",
            "_view_module_version": "1.2.0",
            "_view_name": "LayoutView",
            "align_content": null,
            "align_items": null,
            "align_self": null,
            "border": null,
            "bottom": null,
            "display": null,
            "flex": null,
            "flex_flow": null,
            "grid_area": null,
            "grid_auto_columns": null,
            "grid_auto_flow": null,
            "grid_auto_rows": null,
            "grid_column": null,
            "grid_gap": null,
            "grid_row": null,
            "grid_template_areas": null,
            "grid_template_columns": null,
            "grid_template_rows": null,
            "height": null,
            "justify_content": null,
            "justify_items": null,
            "left": null,
            "margin": null,
            "max_height": null,
            "max_width": null,
            "min_height": null,
            "min_width": null,
            "object_fit": null,
            "object_position": null,
            "order": null,
            "overflow": null,
            "overflow_x": null,
            "overflow_y": null,
            "padding": null,
            "right": null,
            "top": null,
            "visibility": null,
            "width": null
          }
        },
        "f48eb0b27b6c48e5bff96a412c320109": {
          "model_module": "@jupyter-widgets/controls",
          "model_name": "ProgressStyleModel",
          "model_module_version": "1.5.0",
          "state": {
            "_model_module": "@jupyter-widgets/controls",
            "_model_module_version": "1.5.0",
            "_model_name": "ProgressStyleModel",
            "_view_count": null,
            "_view_module": "@jupyter-widgets/base",
            "_view_module_version": "1.2.0",
            "_view_name": "StyleView",
            "bar_color": null,
            "description_width": ""
          }
        },
        "82936aacbcc447a8ad064814fc9871be": {
          "model_module": "@jupyter-widgets/base",
          "model_name": "LayoutModel",
          "model_module_version": "1.2.0",
          "state": {
            "_model_module": "@jupyter-widgets/base",
            "_model_module_version": "1.2.0",
            "_model_name": "LayoutModel",
            "_view_count": null,
            "_view_module": "@jupyter-widgets/base",
            "_view_module_version": "1.2.0",
            "_view_name": "LayoutView",
            "align_content": null,
            "align_items": null,
            "align_self": null,
            "border": null,
            "bottom": null,
            "display": null,
            "flex": null,
            "flex_flow": null,
            "grid_area": null,
            "grid_auto_columns": null,
            "grid_auto_flow": null,
            "grid_auto_rows": null,
            "grid_column": null,
            "grid_gap": null,
            "grid_row": null,
            "grid_template_areas": null,
            "grid_template_columns": null,
            "grid_template_rows": null,
            "height": null,
            "justify_content": null,
            "justify_items": null,
            "left": null,
            "margin": null,
            "max_height": null,
            "max_width": null,
            "min_height": null,
            "min_width": null,
            "object_fit": null,
            "object_position": null,
            "order": null,
            "overflow": null,
            "overflow_x": null,
            "overflow_y": null,
            "padding": null,
            "right": null,
            "top": null,
            "visibility": null,
            "width": null
          }
        },
        "1d84aaab939444ce9d95ea15c1404eff": {
          "model_module": "@jupyter-widgets/controls",
          "model_name": "DescriptionStyleModel",
          "model_module_version": "1.5.0",
          "state": {
            "_model_module": "@jupyter-widgets/controls",
            "_model_module_version": "1.5.0",
            "_model_name": "DescriptionStyleModel",
            "_view_count": null,
            "_view_module": "@jupyter-widgets/base",
            "_view_module_version": "1.2.0",
            "_view_name": "StyleView",
            "description_width": ""
          }
        },
        "c95f95cdeb8d4517bbb1efe4aa1a2bdc": {
          "model_module": "@jupyter-widgets/controls",
          "model_name": "HBoxModel",
          "model_module_version": "1.5.0",
          "state": {
            "_dom_classes": [],
            "_model_module": "@jupyter-widgets/controls",
            "_model_module_version": "1.5.0",
            "_model_name": "HBoxModel",
            "_view_count": null,
            "_view_module": "@jupyter-widgets/controls",
            "_view_module_version": "1.5.0",
            "_view_name": "HBoxView",
            "box_style": "",
            "children": [
              "IPY_MODEL_291ab3cfcc75436ab9300fc6d5e00eaf",
              "IPY_MODEL_577fab99af2445e9be72d8fd9742c8fe",
              "IPY_MODEL_b3f8b10a6f9248a388dd3ec2375f9fa3"
            ],
            "layout": "IPY_MODEL_83951b6b8d2745a385163ce9c116db0d"
          }
        },
        "291ab3cfcc75436ab9300fc6d5e00eaf": {
          "model_module": "@jupyter-widgets/controls",
          "model_name": "HTMLModel",
          "model_module_version": "1.5.0",
          "state": {
            "_dom_classes": [],
            "_model_module": "@jupyter-widgets/controls",
            "_model_module_version": "1.5.0",
            "_model_name": "HTMLModel",
            "_view_count": null,
            "_view_module": "@jupyter-widgets/controls",
            "_view_module_version": "1.5.0",
            "_view_name": "HTMLView",
            "description": "",
            "description_tooltip": null,
            "layout": "IPY_MODEL_3aada8eb71514680b3fa1a3e0a45531b",
            "placeholder": "​",
            "style": "IPY_MODEL_01f0bc395db74a298a326c4a8d9555cc",
            "value": "Downloading data: 100%"
          }
        },
        "577fab99af2445e9be72d8fd9742c8fe": {
          "model_module": "@jupyter-widgets/controls",
          "model_name": "FloatProgressModel",
          "model_module_version": "1.5.0",
          "state": {
            "_dom_classes": [],
            "_model_module": "@jupyter-widgets/controls",
            "_model_module_version": "1.5.0",
            "_model_name": "FloatProgressModel",
            "_view_count": null,
            "_view_module": "@jupyter-widgets/controls",
            "_view_module_version": "1.5.0",
            "_view_name": "ProgressView",
            "bar_style": "success",
            "description": "",
            "description_tooltip": null,
            "layout": "IPY_MODEL_ea4f4b64ee9a44a2a13e686e9bdb7e63",
            "max": 369668,
            "min": 0,
            "orientation": "horizontal",
            "style": "IPY_MODEL_d1b18a93097d4bcb8f19d651312bbb4f",
            "value": 369668
          }
        },
        "b3f8b10a6f9248a388dd3ec2375f9fa3": {
          "model_module": "@jupyter-widgets/controls",
          "model_name": "HTMLModel",
          "model_module_version": "1.5.0",
          "state": {
            "_dom_classes": [],
            "_model_module": "@jupyter-widgets/controls",
            "_model_module_version": "1.5.0",
            "_model_name": "HTMLModel",
            "_view_count": null,
            "_view_module": "@jupyter-widgets/controls",
            "_view_module_version": "1.5.0",
            "_view_name": "HTMLView",
            "description": "",
            "description_tooltip": null,
            "layout": "IPY_MODEL_d959d93a4a8c41fd9ea9d27b913e2a78",
            "placeholder": "​",
            "style": "IPY_MODEL_65dc334f7d00424ea7beb592113915c9",
            "value": " 370k/370k [00:00&lt;00:00, 5.23MB/s]"
          }
        },
        "83951b6b8d2745a385163ce9c116db0d": {
          "model_module": "@jupyter-widgets/base",
          "model_name": "LayoutModel",
          "model_module_version": "1.2.0",
          "state": {
            "_model_module": "@jupyter-widgets/base",
            "_model_module_version": "1.2.0",
            "_model_name": "LayoutModel",
            "_view_count": null,
            "_view_module": "@jupyter-widgets/base",
            "_view_module_version": "1.2.0",
            "_view_name": "LayoutView",
            "align_content": null,
            "align_items": null,
            "align_self": null,
            "border": null,
            "bottom": null,
            "display": null,
            "flex": null,
            "flex_flow": null,
            "grid_area": null,
            "grid_auto_columns": null,
            "grid_auto_flow": null,
            "grid_auto_rows": null,
            "grid_column": null,
            "grid_gap": null,
            "grid_row": null,
            "grid_template_areas": null,
            "grid_template_columns": null,
            "grid_template_rows": null,
            "height": null,
            "justify_content": null,
            "justify_items": null,
            "left": null,
            "margin": null,
            "max_height": null,
            "max_width": null,
            "min_height": null,
            "min_width": null,
            "object_fit": null,
            "object_position": null,
            "order": null,
            "overflow": null,
            "overflow_x": null,
            "overflow_y": null,
            "padding": null,
            "right": null,
            "top": null,
            "visibility": null,
            "width": null
          }
        },
        "3aada8eb71514680b3fa1a3e0a45531b": {
          "model_module": "@jupyter-widgets/base",
          "model_name": "LayoutModel",
          "model_module_version": "1.2.0",
          "state": {
            "_model_module": "@jupyter-widgets/base",
            "_model_module_version": "1.2.0",
            "_model_name": "LayoutModel",
            "_view_count": null,
            "_view_module": "@jupyter-widgets/base",
            "_view_module_version": "1.2.0",
            "_view_name": "LayoutView",
            "align_content": null,
            "align_items": null,
            "align_self": null,
            "border": null,
            "bottom": null,
            "display": null,
            "flex": null,
            "flex_flow": null,
            "grid_area": null,
            "grid_auto_columns": null,
            "grid_auto_flow": null,
            "grid_auto_rows": null,
            "grid_column": null,
            "grid_gap": null,
            "grid_row": null,
            "grid_template_areas": null,
            "grid_template_columns": null,
            "grid_template_rows": null,
            "height": null,
            "justify_content": null,
            "justify_items": null,
            "left": null,
            "margin": null,
            "max_height": null,
            "max_width": null,
            "min_height": null,
            "min_width": null,
            "object_fit": null,
            "object_position": null,
            "order": null,
            "overflow": null,
            "overflow_x": null,
            "overflow_y": null,
            "padding": null,
            "right": null,
            "top": null,
            "visibility": null,
            "width": null
          }
        },
        "01f0bc395db74a298a326c4a8d9555cc": {
          "model_module": "@jupyter-widgets/controls",
          "model_name": "DescriptionStyleModel",
          "model_module_version": "1.5.0",
          "state": {
            "_model_module": "@jupyter-widgets/controls",
            "_model_module_version": "1.5.0",
            "_model_name": "DescriptionStyleModel",
            "_view_count": null,
            "_view_module": "@jupyter-widgets/base",
            "_view_module_version": "1.2.0",
            "_view_name": "StyleView",
            "description_width": ""
          }
        },
        "ea4f4b64ee9a44a2a13e686e9bdb7e63": {
          "model_module": "@jupyter-widgets/base",
          "model_name": "LayoutModel",
          "model_module_version": "1.2.0",
          "state": {
            "_model_module": "@jupyter-widgets/base",
            "_model_module_version": "1.2.0",
            "_model_name": "LayoutModel",
            "_view_count": null,
            "_view_module": "@jupyter-widgets/base",
            "_view_module_version": "1.2.0",
            "_view_name": "LayoutView",
            "align_content": null,
            "align_items": null,
            "align_self": null,
            "border": null,
            "bottom": null,
            "display": null,
            "flex": null,
            "flex_flow": null,
            "grid_area": null,
            "grid_auto_columns": null,
            "grid_auto_flow": null,
            "grid_auto_rows": null,
            "grid_column": null,
            "grid_gap": null,
            "grid_row": null,
            "grid_template_areas": null,
            "grid_template_columns": null,
            "grid_template_rows": null,
            "height": null,
            "justify_content": null,
            "justify_items": null,
            "left": null,
            "margin": null,
            "max_height": null,
            "max_width": null,
            "min_height": null,
            "min_width": null,
            "object_fit": null,
            "object_position": null,
            "order": null,
            "overflow": null,
            "overflow_x": null,
            "overflow_y": null,
            "padding": null,
            "right": null,
            "top": null,
            "visibility": null,
            "width": null
          }
        },
        "d1b18a93097d4bcb8f19d651312bbb4f": {
          "model_module": "@jupyter-widgets/controls",
          "model_name": "ProgressStyleModel",
          "model_module_version": "1.5.0",
          "state": {
            "_model_module": "@jupyter-widgets/controls",
            "_model_module_version": "1.5.0",
            "_model_name": "ProgressStyleModel",
            "_view_count": null,
            "_view_module": "@jupyter-widgets/base",
            "_view_module_version": "1.2.0",
            "_view_name": "StyleView",
            "bar_color": null,
            "description_width": ""
          }
        },
        "d959d93a4a8c41fd9ea9d27b913e2a78": {
          "model_module": "@jupyter-widgets/base",
          "model_name": "LayoutModel",
          "model_module_version": "1.2.0",
          "state": {
            "_model_module": "@jupyter-widgets/base",
            "_model_module_version": "1.2.0",
            "_model_name": "LayoutModel",
            "_view_count": null,
            "_view_module": "@jupyter-widgets/base",
            "_view_module_version": "1.2.0",
            "_view_name": "LayoutView",
            "align_content": null,
            "align_items": null,
            "align_self": null,
            "border": null,
            "bottom": null,
            "display": null,
            "flex": null,
            "flex_flow": null,
            "grid_area": null,
            "grid_auto_columns": null,
            "grid_auto_flow": null,
            "grid_auto_rows": null,
            "grid_column": null,
            "grid_gap": null,
            "grid_row": null,
            "grid_template_areas": null,
            "grid_template_columns": null,
            "grid_template_rows": null,
            "height": null,
            "justify_content": null,
            "justify_items": null,
            "left": null,
            "margin": null,
            "max_height": null,
            "max_width": null,
            "min_height": null,
            "min_width": null,
            "object_fit": null,
            "object_position": null,
            "order": null,
            "overflow": null,
            "overflow_x": null,
            "overflow_y": null,
            "padding": null,
            "right": null,
            "top": null,
            "visibility": null,
            "width": null
          }
        },
        "65dc334f7d00424ea7beb592113915c9": {
          "model_module": "@jupyter-widgets/controls",
          "model_name": "DescriptionStyleModel",
          "model_module_version": "1.5.0",
          "state": {
            "_model_module": "@jupyter-widgets/controls",
            "_model_module_version": "1.5.0",
            "_model_name": "DescriptionStyleModel",
            "_view_count": null,
            "_view_module": "@jupyter-widgets/base",
            "_view_module_version": "1.2.0",
            "_view_name": "StyleView",
            "description_width": ""
          }
        },
        "09c3e1fb57d546f9bb13c134fdc18258": {
          "model_module": "@jupyter-widgets/controls",
          "model_name": "HBoxModel",
          "model_module_version": "1.5.0",
          "state": {
            "_dom_classes": [],
            "_model_module": "@jupyter-widgets/controls",
            "_model_module_version": "1.5.0",
            "_model_name": "HBoxModel",
            "_view_count": null,
            "_view_module": "@jupyter-widgets/controls",
            "_view_module_version": "1.5.0",
            "_view_name": "HBoxView",
            "box_style": "",
            "children": [
              "IPY_MODEL_41b7dd4b64ef483d9d72cf4bc8427c36",
              "IPY_MODEL_f5e6c68bd081438383d5b091b108f09e",
              "IPY_MODEL_3693a4e2eddb4acbbdc760b89682e539"
            ],
            "layout": "IPY_MODEL_c7a1b487556b4a6aa2f07ae20288fa9d"
          }
        },
        "41b7dd4b64ef483d9d72cf4bc8427c36": {
          "model_module": "@jupyter-widgets/controls",
          "model_name": "HTMLModel",
          "model_module_version": "1.5.0",
          "state": {
            "_dom_classes": [],
            "_model_module": "@jupyter-widgets/controls",
            "_model_module_version": "1.5.0",
            "_model_name": "HTMLModel",
            "_view_count": null,
            "_view_module": "@jupyter-widgets/controls",
            "_view_module_version": "1.5.0",
            "_view_name": "HTMLView",
            "description": "",
            "description_tooltip": null,
            "layout": "IPY_MODEL_f4696ad1bf4f4a30b29f4a5f769c75ff",
            "placeholder": "​",
            "style": "IPY_MODEL_ba2e7fae0f454e6599031d152539628a",
            "value": "Extracting data files: 100%"
          }
        },
        "f5e6c68bd081438383d5b091b108f09e": {
          "model_module": "@jupyter-widgets/controls",
          "model_name": "FloatProgressModel",
          "model_module_version": "1.5.0",
          "state": {
            "_dom_classes": [],
            "_model_module": "@jupyter-widgets/controls",
            "_model_module_version": "1.5.0",
            "_model_name": "FloatProgressModel",
            "_view_count": null,
            "_view_module": "@jupyter-widgets/controls",
            "_view_module_version": "1.5.0",
            "_view_name": "ProgressView",
            "bar_style": "success",
            "description": "",
            "description_tooltip": null,
            "layout": "IPY_MODEL_ebe7b148540f4ac08b2cdd274325b999",
            "max": 3,
            "min": 0,
            "orientation": "horizontal",
            "style": "IPY_MODEL_8052c10d9cec49a4a6ebf7928b69d9b4",
            "value": 3
          }
        },
        "3693a4e2eddb4acbbdc760b89682e539": {
          "model_module": "@jupyter-widgets/controls",
          "model_name": "HTMLModel",
          "model_module_version": "1.5.0",
          "state": {
            "_dom_classes": [],
            "_model_module": "@jupyter-widgets/controls",
            "_model_module_version": "1.5.0",
            "_model_name": "HTMLModel",
            "_view_count": null,
            "_view_module": "@jupyter-widgets/controls",
            "_view_module_version": "1.5.0",
            "_view_name": "HTMLView",
            "description": "",
            "description_tooltip": null,
            "layout": "IPY_MODEL_76a1ff6abd2b44bb80ce72dd06a2feaa",
            "placeholder": "​",
            "style": "IPY_MODEL_931ae926e3d54378b4cb5d106ed726d6",
            "value": " 3/3 [00:00&lt;00:00, 79.85it/s]"
          }
        },
        "c7a1b487556b4a6aa2f07ae20288fa9d": {
          "model_module": "@jupyter-widgets/base",
          "model_name": "LayoutModel",
          "model_module_version": "1.2.0",
          "state": {
            "_model_module": "@jupyter-widgets/base",
            "_model_module_version": "1.2.0",
            "_model_name": "LayoutModel",
            "_view_count": null,
            "_view_module": "@jupyter-widgets/base",
            "_view_module_version": "1.2.0",
            "_view_name": "LayoutView",
            "align_content": null,
            "align_items": null,
            "align_self": null,
            "border": null,
            "bottom": null,
            "display": null,
            "flex": null,
            "flex_flow": null,
            "grid_area": null,
            "grid_auto_columns": null,
            "grid_auto_flow": null,
            "grid_auto_rows": null,
            "grid_column": null,
            "grid_gap": null,
            "grid_row": null,
            "grid_template_areas": null,
            "grid_template_columns": null,
            "grid_template_rows": null,
            "height": null,
            "justify_content": null,
            "justify_items": null,
            "left": null,
            "margin": null,
            "max_height": null,
            "max_width": null,
            "min_height": null,
            "min_width": null,
            "object_fit": null,
            "object_position": null,
            "order": null,
            "overflow": null,
            "overflow_x": null,
            "overflow_y": null,
            "padding": null,
            "right": null,
            "top": null,
            "visibility": null,
            "width": null
          }
        },
        "f4696ad1bf4f4a30b29f4a5f769c75ff": {
          "model_module": "@jupyter-widgets/base",
          "model_name": "LayoutModel",
          "model_module_version": "1.2.0",
          "state": {
            "_model_module": "@jupyter-widgets/base",
            "_model_module_version": "1.2.0",
            "_model_name": "LayoutModel",
            "_view_count": null,
            "_view_module": "@jupyter-widgets/base",
            "_view_module_version": "1.2.0",
            "_view_name": "LayoutView",
            "align_content": null,
            "align_items": null,
            "align_self": null,
            "border": null,
            "bottom": null,
            "display": null,
            "flex": null,
            "flex_flow": null,
            "grid_area": null,
            "grid_auto_columns": null,
            "grid_auto_flow": null,
            "grid_auto_rows": null,
            "grid_column": null,
            "grid_gap": null,
            "grid_row": null,
            "grid_template_areas": null,
            "grid_template_columns": null,
            "grid_template_rows": null,
            "height": null,
            "justify_content": null,
            "justify_items": null,
            "left": null,
            "margin": null,
            "max_height": null,
            "max_width": null,
            "min_height": null,
            "min_width": null,
            "object_fit": null,
            "object_position": null,
            "order": null,
            "overflow": null,
            "overflow_x": null,
            "overflow_y": null,
            "padding": null,
            "right": null,
            "top": null,
            "visibility": null,
            "width": null
          }
        },
        "ba2e7fae0f454e6599031d152539628a": {
          "model_module": "@jupyter-widgets/controls",
          "model_name": "DescriptionStyleModel",
          "model_module_version": "1.5.0",
          "state": {
            "_model_module": "@jupyter-widgets/controls",
            "_model_module_version": "1.5.0",
            "_model_name": "DescriptionStyleModel",
            "_view_count": null,
            "_view_module": "@jupyter-widgets/base",
            "_view_module_version": "1.2.0",
            "_view_name": "StyleView",
            "description_width": ""
          }
        },
        "ebe7b148540f4ac08b2cdd274325b999": {
          "model_module": "@jupyter-widgets/base",
          "model_name": "LayoutModel",
          "model_module_version": "1.2.0",
          "state": {
            "_model_module": "@jupyter-widgets/base",
            "_model_module_version": "1.2.0",
            "_model_name": "LayoutModel",
            "_view_count": null,
            "_view_module": "@jupyter-widgets/base",
            "_view_module_version": "1.2.0",
            "_view_name": "LayoutView",
            "align_content": null,
            "align_items": null,
            "align_self": null,
            "border": null,
            "bottom": null,
            "display": null,
            "flex": null,
            "flex_flow": null,
            "grid_area": null,
            "grid_auto_columns": null,
            "grid_auto_flow": null,
            "grid_auto_rows": null,
            "grid_column": null,
            "grid_gap": null,
            "grid_row": null,
            "grid_template_areas": null,
            "grid_template_columns": null,
            "grid_template_rows": null,
            "height": null,
            "justify_content": null,
            "justify_items": null,
            "left": null,
            "margin": null,
            "max_height": null,
            "max_width": null,
            "min_height": null,
            "min_width": null,
            "object_fit": null,
            "object_position": null,
            "order": null,
            "overflow": null,
            "overflow_x": null,
            "overflow_y": null,
            "padding": null,
            "right": null,
            "top": null,
            "visibility": null,
            "width": null
          }
        },
        "8052c10d9cec49a4a6ebf7928b69d9b4": {
          "model_module": "@jupyter-widgets/controls",
          "model_name": "ProgressStyleModel",
          "model_module_version": "1.5.0",
          "state": {
            "_model_module": "@jupyter-widgets/controls",
            "_model_module_version": "1.5.0",
            "_model_name": "ProgressStyleModel",
            "_view_count": null,
            "_view_module": "@jupyter-widgets/base",
            "_view_module_version": "1.2.0",
            "_view_name": "StyleView",
            "bar_color": null,
            "description_width": ""
          }
        },
        "76a1ff6abd2b44bb80ce72dd06a2feaa": {
          "model_module": "@jupyter-widgets/base",
          "model_name": "LayoutModel",
          "model_module_version": "1.2.0",
          "state": {
            "_model_module": "@jupyter-widgets/base",
            "_model_module_version": "1.2.0",
            "_model_name": "LayoutModel",
            "_view_count": null,
            "_view_module": "@jupyter-widgets/base",
            "_view_module_version": "1.2.0",
            "_view_name": "LayoutView",
            "align_content": null,
            "align_items": null,
            "align_self": null,
            "border": null,
            "bottom": null,
            "display": null,
            "flex": null,
            "flex_flow": null,
            "grid_area": null,
            "grid_auto_columns": null,
            "grid_auto_flow": null,
            "grid_auto_rows": null,
            "grid_column": null,
            "grid_gap": null,
            "grid_row": null,
            "grid_template_areas": null,
            "grid_template_columns": null,
            "grid_template_rows": null,
            "height": null,
            "justify_content": null,
            "justify_items": null,
            "left": null,
            "margin": null,
            "max_height": null,
            "max_width": null,
            "min_height": null,
            "min_width": null,
            "object_fit": null,
            "object_position": null,
            "order": null,
            "overflow": null,
            "overflow_x": null,
            "overflow_y": null,
            "padding": null,
            "right": null,
            "top": null,
            "visibility": null,
            "width": null
          }
        },
        "931ae926e3d54378b4cb5d106ed726d6": {
          "model_module": "@jupyter-widgets/controls",
          "model_name": "DescriptionStyleModel",
          "model_module_version": "1.5.0",
          "state": {
            "_model_module": "@jupyter-widgets/controls",
            "_model_module_version": "1.5.0",
            "_model_name": "DescriptionStyleModel",
            "_view_count": null,
            "_view_module": "@jupyter-widgets/base",
            "_view_module_version": "1.2.0",
            "_view_name": "StyleView",
            "description_width": ""
          }
        },
        "916873485e764f2693abfba9622bd70b": {
          "model_module": "@jupyter-widgets/controls",
          "model_name": "HBoxModel",
          "model_module_version": "1.5.0",
          "state": {
            "_dom_classes": [],
            "_model_module": "@jupyter-widgets/controls",
            "_model_module_version": "1.5.0",
            "_model_name": "HBoxModel",
            "_view_count": null,
            "_view_module": "@jupyter-widgets/controls",
            "_view_module_version": "1.5.0",
            "_view_name": "HBoxView",
            "box_style": "",
            "children": [
              "IPY_MODEL_d949464e582c4bbca356b589ac509a69",
              "IPY_MODEL_151f6b3dda56490a9ddcdc6b87a22cad",
              "IPY_MODEL_3bccf2cabd634f7e9ac18776be506a6d"
            ],
            "layout": "IPY_MODEL_77f42e9083184b9e9c13d801012883da"
          }
        },
        "d949464e582c4bbca356b589ac509a69": {
          "model_module": "@jupyter-widgets/controls",
          "model_name": "HTMLModel",
          "model_module_version": "1.5.0",
          "state": {
            "_dom_classes": [],
            "_model_module": "@jupyter-widgets/controls",
            "_model_module_version": "1.5.0",
            "_model_name": "HTMLModel",
            "_view_count": null,
            "_view_module": "@jupyter-widgets/controls",
            "_view_module_version": "1.5.0",
            "_view_name": "HTMLView",
            "description": "",
            "description_tooltip": null,
            "layout": "IPY_MODEL_672fc75551f84ef4af9a2acd00458333",
            "placeholder": "​",
            "style": "IPY_MODEL_c6932d82c89b4dbb86c5cb58951f0809",
            "value": "Generating train split: "
          }
        },
        "151f6b3dda56490a9ddcdc6b87a22cad": {
          "model_module": "@jupyter-widgets/controls",
          "model_name": "FloatProgressModel",
          "model_module_version": "1.5.0",
          "state": {
            "_dom_classes": [],
            "_model_module": "@jupyter-widgets/controls",
            "_model_module_version": "1.5.0",
            "_model_name": "FloatProgressModel",
            "_view_count": null,
            "_view_module": "@jupyter-widgets/controls",
            "_view_module_version": "1.5.0",
            "_view_name": "ProgressView",
            "bar_style": "success",
            "description": "",
            "description_tooltip": null,
            "layout": "IPY_MODEL_3eb49f186f8242abbe92ccb06091c471",
            "max": 1,
            "min": 0,
            "orientation": "horizontal",
            "style": "IPY_MODEL_dff624e7f12d47e2867753286fcc3e78",
            "value": 1
          }
        },
        "3bccf2cabd634f7e9ac18776be506a6d": {
          "model_module": "@jupyter-widgets/controls",
          "model_name": "HTMLModel",
          "model_module_version": "1.5.0",
          "state": {
            "_dom_classes": [],
            "_model_module": "@jupyter-widgets/controls",
            "_model_module_version": "1.5.0",
            "_model_name": "HTMLModel",
            "_view_count": null,
            "_view_module": "@jupyter-widgets/controls",
            "_view_module_version": "1.5.0",
            "_view_name": "HTMLView",
            "description": "",
            "description_tooltip": null,
            "layout": "IPY_MODEL_5562f144d4b94ff082f65f495c5c5c69",
            "placeholder": "​",
            "style": "IPY_MODEL_f0ebc995ef2840d3b9473dc3853ef1a9",
            "value": " 7869/0 [00:03&lt;00:00, 2407.64 examples/s]"
          }
        },
        "77f42e9083184b9e9c13d801012883da": {
          "model_module": "@jupyter-widgets/base",
          "model_name": "LayoutModel",
          "model_module_version": "1.2.0",
          "state": {
            "_model_module": "@jupyter-widgets/base",
            "_model_module_version": "1.2.0",
            "_model_name": "LayoutModel",
            "_view_count": null,
            "_view_module": "@jupyter-widgets/base",
            "_view_module_version": "1.2.0",
            "_view_name": "LayoutView",
            "align_content": null,
            "align_items": null,
            "align_self": null,
            "border": null,
            "bottom": null,
            "display": null,
            "flex": null,
            "flex_flow": null,
            "grid_area": null,
            "grid_auto_columns": null,
            "grid_auto_flow": null,
            "grid_auto_rows": null,
            "grid_column": null,
            "grid_gap": null,
            "grid_row": null,
            "grid_template_areas": null,
            "grid_template_columns": null,
            "grid_template_rows": null,
            "height": null,
            "justify_content": null,
            "justify_items": null,
            "left": null,
            "margin": null,
            "max_height": null,
            "max_width": null,
            "min_height": null,
            "min_width": null,
            "object_fit": null,
            "object_position": null,
            "order": null,
            "overflow": null,
            "overflow_x": null,
            "overflow_y": null,
            "padding": null,
            "right": null,
            "top": null,
            "visibility": null,
            "width": null
          }
        },
        "672fc75551f84ef4af9a2acd00458333": {
          "model_module": "@jupyter-widgets/base",
          "model_name": "LayoutModel",
          "model_module_version": "1.2.0",
          "state": {
            "_model_module": "@jupyter-widgets/base",
            "_model_module_version": "1.2.0",
            "_model_name": "LayoutModel",
            "_view_count": null,
            "_view_module": "@jupyter-widgets/base",
            "_view_module_version": "1.2.0",
            "_view_name": "LayoutView",
            "align_content": null,
            "align_items": null,
            "align_self": null,
            "border": null,
            "bottom": null,
            "display": null,
            "flex": null,
            "flex_flow": null,
            "grid_area": null,
            "grid_auto_columns": null,
            "grid_auto_flow": null,
            "grid_auto_rows": null,
            "grid_column": null,
            "grid_gap": null,
            "grid_row": null,
            "grid_template_areas": null,
            "grid_template_columns": null,
            "grid_template_rows": null,
            "height": null,
            "justify_content": null,
            "justify_items": null,
            "left": null,
            "margin": null,
            "max_height": null,
            "max_width": null,
            "min_height": null,
            "min_width": null,
            "object_fit": null,
            "object_position": null,
            "order": null,
            "overflow": null,
            "overflow_x": null,
            "overflow_y": null,
            "padding": null,
            "right": null,
            "top": null,
            "visibility": null,
            "width": null
          }
        },
        "c6932d82c89b4dbb86c5cb58951f0809": {
          "model_module": "@jupyter-widgets/controls",
          "model_name": "DescriptionStyleModel",
          "model_module_version": "1.5.0",
          "state": {
            "_model_module": "@jupyter-widgets/controls",
            "_model_module_version": "1.5.0",
            "_model_name": "DescriptionStyleModel",
            "_view_count": null,
            "_view_module": "@jupyter-widgets/base",
            "_view_module_version": "1.2.0",
            "_view_name": "StyleView",
            "description_width": ""
          }
        },
        "3eb49f186f8242abbe92ccb06091c471": {
          "model_module": "@jupyter-widgets/base",
          "model_name": "LayoutModel",
          "model_module_version": "1.2.0",
          "state": {
            "_model_module": "@jupyter-widgets/base",
            "_model_module_version": "1.2.0",
            "_model_name": "LayoutModel",
            "_view_count": null,
            "_view_module": "@jupyter-widgets/base",
            "_view_module_version": "1.2.0",
            "_view_name": "LayoutView",
            "align_content": null,
            "align_items": null,
            "align_self": null,
            "border": null,
            "bottom": null,
            "display": null,
            "flex": null,
            "flex_flow": null,
            "grid_area": null,
            "grid_auto_columns": null,
            "grid_auto_flow": null,
            "grid_auto_rows": null,
            "grid_column": null,
            "grid_gap": null,
            "grid_row": null,
            "grid_template_areas": null,
            "grid_template_columns": null,
            "grid_template_rows": null,
            "height": null,
            "justify_content": null,
            "justify_items": null,
            "left": null,
            "margin": null,
            "max_height": null,
            "max_width": null,
            "min_height": null,
            "min_width": null,
            "object_fit": null,
            "object_position": null,
            "order": null,
            "overflow": null,
            "overflow_x": null,
            "overflow_y": null,
            "padding": null,
            "right": null,
            "top": null,
            "visibility": null,
            "width": "20px"
          }
        },
        "dff624e7f12d47e2867753286fcc3e78": {
          "model_module": "@jupyter-widgets/controls",
          "model_name": "ProgressStyleModel",
          "model_module_version": "1.5.0",
          "state": {
            "_model_module": "@jupyter-widgets/controls",
            "_model_module_version": "1.5.0",
            "_model_name": "ProgressStyleModel",
            "_view_count": null,
            "_view_module": "@jupyter-widgets/base",
            "_view_module_version": "1.2.0",
            "_view_name": "StyleView",
            "bar_color": null,
            "description_width": ""
          }
        },
        "5562f144d4b94ff082f65f495c5c5c69": {
          "model_module": "@jupyter-widgets/base",
          "model_name": "LayoutModel",
          "model_module_version": "1.2.0",
          "state": {
            "_model_module": "@jupyter-widgets/base",
            "_model_module_version": "1.2.0",
            "_model_name": "LayoutModel",
            "_view_count": null,
            "_view_module": "@jupyter-widgets/base",
            "_view_module_version": "1.2.0",
            "_view_name": "LayoutView",
            "align_content": null,
            "align_items": null,
            "align_self": null,
            "border": null,
            "bottom": null,
            "display": null,
            "flex": null,
            "flex_flow": null,
            "grid_area": null,
            "grid_auto_columns": null,
            "grid_auto_flow": null,
            "grid_auto_rows": null,
            "grid_column": null,
            "grid_gap": null,
            "grid_row": null,
            "grid_template_areas": null,
            "grid_template_columns": null,
            "grid_template_rows": null,
            "height": null,
            "justify_content": null,
            "justify_items": null,
            "left": null,
            "margin": null,
            "max_height": null,
            "max_width": null,
            "min_height": null,
            "min_width": null,
            "object_fit": null,
            "object_position": null,
            "order": null,
            "overflow": null,
            "overflow_x": null,
            "overflow_y": null,
            "padding": null,
            "right": null,
            "top": null,
            "visibility": null,
            "width": null
          }
        },
        "f0ebc995ef2840d3b9473dc3853ef1a9": {
          "model_module": "@jupyter-widgets/controls",
          "model_name": "DescriptionStyleModel",
          "model_module_version": "1.5.0",
          "state": {
            "_model_module": "@jupyter-widgets/controls",
            "_model_module_version": "1.5.0",
            "_model_name": "DescriptionStyleModel",
            "_view_count": null,
            "_view_module": "@jupyter-widgets/base",
            "_view_module_version": "1.2.0",
            "_view_name": "StyleView",
            "description_width": ""
          }
        },
        "2a59a7bc7afc4362889e0c14f3b7a303": {
          "model_module": "@jupyter-widgets/controls",
          "model_name": "HBoxModel",
          "model_module_version": "1.5.0",
          "state": {
            "_dom_classes": [],
            "_model_module": "@jupyter-widgets/controls",
            "_model_module_version": "1.5.0",
            "_model_name": "HBoxModel",
            "_view_count": null,
            "_view_module": "@jupyter-widgets/controls",
            "_view_module_version": "1.5.0",
            "_view_name": "HBoxView",
            "box_style": "",
            "children": [
              "IPY_MODEL_e3f9836acaa64894b9e77859f0f66f51",
              "IPY_MODEL_f08ab716f54241afa0fdba1e42c28bb1",
              "IPY_MODEL_1a48129fb9e747cb9b0aaf7e0418fdc6"
            ],
            "layout": "IPY_MODEL_6b7ea388d6674f939b1cd7a44be09068"
          }
        },
        "e3f9836acaa64894b9e77859f0f66f51": {
          "model_module": "@jupyter-widgets/controls",
          "model_name": "HTMLModel",
          "model_module_version": "1.5.0",
          "state": {
            "_dom_classes": [],
            "_model_module": "@jupyter-widgets/controls",
            "_model_module_version": "1.5.0",
            "_model_name": "HTMLModel",
            "_view_count": null,
            "_view_module": "@jupyter-widgets/controls",
            "_view_module_version": "1.5.0",
            "_view_name": "HTMLView",
            "description": "",
            "description_tooltip": null,
            "layout": "IPY_MODEL_30159a3675b04f73b7f38ad80678321b",
            "placeholder": "​",
            "style": "IPY_MODEL_9b4a53a6f9e6478c8cd0666c3118e323",
            "value": "Generating validation split: "
          }
        },
        "f08ab716f54241afa0fdba1e42c28bb1": {
          "model_module": "@jupyter-widgets/controls",
          "model_name": "FloatProgressModel",
          "model_module_version": "1.5.0",
          "state": {
            "_dom_classes": [],
            "_model_module": "@jupyter-widgets/controls",
            "_model_module_version": "1.5.0",
            "_model_name": "FloatProgressModel",
            "_view_count": null,
            "_view_module": "@jupyter-widgets/controls",
            "_view_module_version": "1.5.0",
            "_view_name": "ProgressView",
            "bar_style": "success",
            "description": "",
            "description_tooltip": null,
            "layout": "IPY_MODEL_246014aa3e0e473fb24c60ad74213aec",
            "max": 1,
            "min": 0,
            "orientation": "horizontal",
            "style": "IPY_MODEL_a5d4a41c647e4a64936f1f262bf41276",
            "value": 1
          }
        },
        "1a48129fb9e747cb9b0aaf7e0418fdc6": {
          "model_module": "@jupyter-widgets/controls",
          "model_name": "HTMLModel",
          "model_module_version": "1.5.0",
          "state": {
            "_dom_classes": [],
            "_model_module": "@jupyter-widgets/controls",
            "_model_module_version": "1.5.0",
            "_model_name": "HTMLModel",
            "_view_count": null,
            "_view_module": "@jupyter-widgets/controls",
            "_view_module_version": "1.5.0",
            "_view_name": "HTMLView",
            "description": "",
            "description_tooltip": null,
            "layout": "IPY_MODEL_e70cb26b0fc4414c8977f3ff772d0160",
            "placeholder": "​",
            "style": "IPY_MODEL_45418baceac9481a9f662968421a49f0",
            "value": " 2787/0 [00:01&lt;00:00, 1856.44 examples/s]"
          }
        },
        "6b7ea388d6674f939b1cd7a44be09068": {
          "model_module": "@jupyter-widgets/base",
          "model_name": "LayoutModel",
          "model_module_version": "1.2.0",
          "state": {
            "_model_module": "@jupyter-widgets/base",
            "_model_module_version": "1.2.0",
            "_model_name": "LayoutModel",
            "_view_count": null,
            "_view_module": "@jupyter-widgets/base",
            "_view_module_version": "1.2.0",
            "_view_name": "LayoutView",
            "align_content": null,
            "align_items": null,
            "align_self": null,
            "border": null,
            "bottom": null,
            "display": null,
            "flex": null,
            "flex_flow": null,
            "grid_area": null,
            "grid_auto_columns": null,
            "grid_auto_flow": null,
            "grid_auto_rows": null,
            "grid_column": null,
            "grid_gap": null,
            "grid_row": null,
            "grid_template_areas": null,
            "grid_template_columns": null,
            "grid_template_rows": null,
            "height": null,
            "justify_content": null,
            "justify_items": null,
            "left": null,
            "margin": null,
            "max_height": null,
            "max_width": null,
            "min_height": null,
            "min_width": null,
            "object_fit": null,
            "object_position": null,
            "order": null,
            "overflow": null,
            "overflow_x": null,
            "overflow_y": null,
            "padding": null,
            "right": null,
            "top": null,
            "visibility": null,
            "width": null
          }
        },
        "30159a3675b04f73b7f38ad80678321b": {
          "model_module": "@jupyter-widgets/base",
          "model_name": "LayoutModel",
          "model_module_version": "1.2.0",
          "state": {
            "_model_module": "@jupyter-widgets/base",
            "_model_module_version": "1.2.0",
            "_model_name": "LayoutModel",
            "_view_count": null,
            "_view_module": "@jupyter-widgets/base",
            "_view_module_version": "1.2.0",
            "_view_name": "LayoutView",
            "align_content": null,
            "align_items": null,
            "align_self": null,
            "border": null,
            "bottom": null,
            "display": null,
            "flex": null,
            "flex_flow": null,
            "grid_area": null,
            "grid_auto_columns": null,
            "grid_auto_flow": null,
            "grid_auto_rows": null,
            "grid_column": null,
            "grid_gap": null,
            "grid_row": null,
            "grid_template_areas": null,
            "grid_template_columns": null,
            "grid_template_rows": null,
            "height": null,
            "justify_content": null,
            "justify_items": null,
            "left": null,
            "margin": null,
            "max_height": null,
            "max_width": null,
            "min_height": null,
            "min_width": null,
            "object_fit": null,
            "object_position": null,
            "order": null,
            "overflow": null,
            "overflow_x": null,
            "overflow_y": null,
            "padding": null,
            "right": null,
            "top": null,
            "visibility": null,
            "width": null
          }
        },
        "9b4a53a6f9e6478c8cd0666c3118e323": {
          "model_module": "@jupyter-widgets/controls",
          "model_name": "DescriptionStyleModel",
          "model_module_version": "1.5.0",
          "state": {
            "_model_module": "@jupyter-widgets/controls",
            "_model_module_version": "1.5.0",
            "_model_name": "DescriptionStyleModel",
            "_view_count": null,
            "_view_module": "@jupyter-widgets/base",
            "_view_module_version": "1.2.0",
            "_view_name": "StyleView",
            "description_width": ""
          }
        },
        "246014aa3e0e473fb24c60ad74213aec": {
          "model_module": "@jupyter-widgets/base",
          "model_name": "LayoutModel",
          "model_module_version": "1.2.0",
          "state": {
            "_model_module": "@jupyter-widgets/base",
            "_model_module_version": "1.2.0",
            "_model_name": "LayoutModel",
            "_view_count": null,
            "_view_module": "@jupyter-widgets/base",
            "_view_module_version": "1.2.0",
            "_view_name": "LayoutView",
            "align_content": null,
            "align_items": null,
            "align_self": null,
            "border": null,
            "bottom": null,
            "display": null,
            "flex": null,
            "flex_flow": null,
            "grid_area": null,
            "grid_auto_columns": null,
            "grid_auto_flow": null,
            "grid_auto_rows": null,
            "grid_column": null,
            "grid_gap": null,
            "grid_row": null,
            "grid_template_areas": null,
            "grid_template_columns": null,
            "grid_template_rows": null,
            "height": null,
            "justify_content": null,
            "justify_items": null,
            "left": null,
            "margin": null,
            "max_height": null,
            "max_width": null,
            "min_height": null,
            "min_width": null,
            "object_fit": null,
            "object_position": null,
            "order": null,
            "overflow": null,
            "overflow_x": null,
            "overflow_y": null,
            "padding": null,
            "right": null,
            "top": null,
            "visibility": null,
            "width": "20px"
          }
        },
        "a5d4a41c647e4a64936f1f262bf41276": {
          "model_module": "@jupyter-widgets/controls",
          "model_name": "ProgressStyleModel",
          "model_module_version": "1.5.0",
          "state": {
            "_model_module": "@jupyter-widgets/controls",
            "_model_module_version": "1.5.0",
            "_model_name": "ProgressStyleModel",
            "_view_count": null,
            "_view_module": "@jupyter-widgets/base",
            "_view_module_version": "1.2.0",
            "_view_name": "StyleView",
            "bar_color": null,
            "description_width": ""
          }
        },
        "e70cb26b0fc4414c8977f3ff772d0160": {
          "model_module": "@jupyter-widgets/base",
          "model_name": "LayoutModel",
          "model_module_version": "1.2.0",
          "state": {
            "_model_module": "@jupyter-widgets/base",
            "_model_module_version": "1.2.0",
            "_model_name": "LayoutModel",
            "_view_count": null,
            "_view_module": "@jupyter-widgets/base",
            "_view_module_version": "1.2.0",
            "_view_name": "LayoutView",
            "align_content": null,
            "align_items": null,
            "align_self": null,
            "border": null,
            "bottom": null,
            "display": null,
            "flex": null,
            "flex_flow": null,
            "grid_area": null,
            "grid_auto_columns": null,
            "grid_auto_flow": null,
            "grid_auto_rows": null,
            "grid_column": null,
            "grid_gap": null,
            "grid_row": null,
            "grid_template_areas": null,
            "grid_template_columns": null,
            "grid_template_rows": null,
            "height": null,
            "justify_content": null,
            "justify_items": null,
            "left": null,
            "margin": null,
            "max_height": null,
            "max_width": null,
            "min_height": null,
            "min_width": null,
            "object_fit": null,
            "object_position": null,
            "order": null,
            "overflow": null,
            "overflow_x": null,
            "overflow_y": null,
            "padding": null,
            "right": null,
            "top": null,
            "visibility": null,
            "width": null
          }
        },
        "45418baceac9481a9f662968421a49f0": {
          "model_module": "@jupyter-widgets/controls",
          "model_name": "DescriptionStyleModel",
          "model_module_version": "1.5.0",
          "state": {
            "_model_module": "@jupyter-widgets/controls",
            "_model_module_version": "1.5.0",
            "_model_name": "DescriptionStyleModel",
            "_view_count": null,
            "_view_module": "@jupyter-widgets/base",
            "_view_module_version": "1.2.0",
            "_view_name": "StyleView",
            "description_width": ""
          }
        },
        "cc66fce53f2844c38022d1321fd99966": {
          "model_module": "@jupyter-widgets/controls",
          "model_name": "HBoxModel",
          "model_module_version": "1.5.0",
          "state": {
            "_dom_classes": [],
            "_model_module": "@jupyter-widgets/controls",
            "_model_module_version": "1.5.0",
            "_model_name": "HBoxModel",
            "_view_count": null,
            "_view_module": "@jupyter-widgets/controls",
            "_view_module_version": "1.5.0",
            "_view_name": "HBoxView",
            "box_style": "",
            "children": [
              "IPY_MODEL_43f538a4451948849554986c694d7267",
              "IPY_MODEL_ca3378f404bf4c10bf5963379939021f",
              "IPY_MODEL_1c4bb9b9147641acb4d087f9828ec183"
            ],
            "layout": "IPY_MODEL_837be322646d4270bb44009ee7fb38eb"
          }
        },
        "43f538a4451948849554986c694d7267": {
          "model_module": "@jupyter-widgets/controls",
          "model_name": "HTMLModel",
          "model_module_version": "1.5.0",
          "state": {
            "_dom_classes": [],
            "_model_module": "@jupyter-widgets/controls",
            "_model_module_version": "1.5.0",
            "_model_name": "HTMLModel",
            "_view_count": null,
            "_view_module": "@jupyter-widgets/controls",
            "_view_module_version": "1.5.0",
            "_view_name": "HTMLView",
            "description": "",
            "description_tooltip": null,
            "layout": "IPY_MODEL_d5dd90de1fa24a73a06cf886f0ecfae7",
            "placeholder": "​",
            "style": "IPY_MODEL_8dc0b97274e24d84a458cd896a888fb8",
            "value": "Generating test split: "
          }
        },
        "ca3378f404bf4c10bf5963379939021f": {
          "model_module": "@jupyter-widgets/controls",
          "model_name": "FloatProgressModel",
          "model_module_version": "1.5.0",
          "state": {
            "_dom_classes": [],
            "_model_module": "@jupyter-widgets/controls",
            "_model_module_version": "1.5.0",
            "_model_name": "FloatProgressModel",
            "_view_count": null,
            "_view_module": "@jupyter-widgets/controls",
            "_view_module_version": "1.5.0",
            "_view_name": "ProgressView",
            "bar_style": "success",
            "description": "",
            "description_tooltip": null,
            "layout": "IPY_MODEL_145b6b86ea2244b0961e6557136cd02a",
            "max": 1,
            "min": 0,
            "orientation": "horizontal",
            "style": "IPY_MODEL_a49f14dd7126475693aa0fe7fa4eece9",
            "value": 1
          }
        },
        "1c4bb9b9147641acb4d087f9828ec183": {
          "model_module": "@jupyter-widgets/controls",
          "model_name": "HTMLModel",
          "model_module_version": "1.5.0",
          "state": {
            "_dom_classes": [],
            "_model_module": "@jupyter-widgets/controls",
            "_model_module_version": "1.5.0",
            "_model_name": "HTMLModel",
            "_view_count": null,
            "_view_module": "@jupyter-widgets/controls",
            "_view_module_version": "1.5.0",
            "_view_name": "HTMLView",
            "description": "",
            "description_tooltip": null,
            "layout": "IPY_MODEL_47a87b1ddeec450d884df5d923f44dc9",
            "placeholder": "​",
            "style": "IPY_MODEL_323155de59f04a50abfc2e3c3a1f2f3a",
            "value": " 2789/0 [00:01&lt;00:00, 2214.42 examples/s]"
          }
        },
        "837be322646d4270bb44009ee7fb38eb": {
          "model_module": "@jupyter-widgets/base",
          "model_name": "LayoutModel",
          "model_module_version": "1.2.0",
          "state": {
            "_model_module": "@jupyter-widgets/base",
            "_model_module_version": "1.2.0",
            "_model_name": "LayoutModel",
            "_view_count": null,
            "_view_module": "@jupyter-widgets/base",
            "_view_module_version": "1.2.0",
            "_view_name": "LayoutView",
            "align_content": null,
            "align_items": null,
            "align_self": null,
            "border": null,
            "bottom": null,
            "display": null,
            "flex": null,
            "flex_flow": null,
            "grid_area": null,
            "grid_auto_columns": null,
            "grid_auto_flow": null,
            "grid_auto_rows": null,
            "grid_column": null,
            "grid_gap": null,
            "grid_row": null,
            "grid_template_areas": null,
            "grid_template_columns": null,
            "grid_template_rows": null,
            "height": null,
            "justify_content": null,
            "justify_items": null,
            "left": null,
            "margin": null,
            "max_height": null,
            "max_width": null,
            "min_height": null,
            "min_width": null,
            "object_fit": null,
            "object_position": null,
            "order": null,
            "overflow": null,
            "overflow_x": null,
            "overflow_y": null,
            "padding": null,
            "right": null,
            "top": null,
            "visibility": null,
            "width": null
          }
        },
        "d5dd90de1fa24a73a06cf886f0ecfae7": {
          "model_module": "@jupyter-widgets/base",
          "model_name": "LayoutModel",
          "model_module_version": "1.2.0",
          "state": {
            "_model_module": "@jupyter-widgets/base",
            "_model_module_version": "1.2.0",
            "_model_name": "LayoutModel",
            "_view_count": null,
            "_view_module": "@jupyter-widgets/base",
            "_view_module_version": "1.2.0",
            "_view_name": "LayoutView",
            "align_content": null,
            "align_items": null,
            "align_self": null,
            "border": null,
            "bottom": null,
            "display": null,
            "flex": null,
            "flex_flow": null,
            "grid_area": null,
            "grid_auto_columns": null,
            "grid_auto_flow": null,
            "grid_auto_rows": null,
            "grid_column": null,
            "grid_gap": null,
            "grid_row": null,
            "grid_template_areas": null,
            "grid_template_columns": null,
            "grid_template_rows": null,
            "height": null,
            "justify_content": null,
            "justify_items": null,
            "left": null,
            "margin": null,
            "max_height": null,
            "max_width": null,
            "min_height": null,
            "min_width": null,
            "object_fit": null,
            "object_position": null,
            "order": null,
            "overflow": null,
            "overflow_x": null,
            "overflow_y": null,
            "padding": null,
            "right": null,
            "top": null,
            "visibility": null,
            "width": null
          }
        },
        "8dc0b97274e24d84a458cd896a888fb8": {
          "model_module": "@jupyter-widgets/controls",
          "model_name": "DescriptionStyleModel",
          "model_module_version": "1.5.0",
          "state": {
            "_model_module": "@jupyter-widgets/controls",
            "_model_module_version": "1.5.0",
            "_model_name": "DescriptionStyleModel",
            "_view_count": null,
            "_view_module": "@jupyter-widgets/base",
            "_view_module_version": "1.2.0",
            "_view_name": "StyleView",
            "description_width": ""
          }
        },
        "145b6b86ea2244b0961e6557136cd02a": {
          "model_module": "@jupyter-widgets/base",
          "model_name": "LayoutModel",
          "model_module_version": "1.2.0",
          "state": {
            "_model_module": "@jupyter-widgets/base",
            "_model_module_version": "1.2.0",
            "_model_name": "LayoutModel",
            "_view_count": null,
            "_view_module": "@jupyter-widgets/base",
            "_view_module_version": "1.2.0",
            "_view_name": "LayoutView",
            "align_content": null,
            "align_items": null,
            "align_self": null,
            "border": null,
            "bottom": null,
            "display": null,
            "flex": null,
            "flex_flow": null,
            "grid_area": null,
            "grid_auto_columns": null,
            "grid_auto_flow": null,
            "grid_auto_rows": null,
            "grid_column": null,
            "grid_gap": null,
            "grid_row": null,
            "grid_template_areas": null,
            "grid_template_columns": null,
            "grid_template_rows": null,
            "height": null,
            "justify_content": null,
            "justify_items": null,
            "left": null,
            "margin": null,
            "max_height": null,
            "max_width": null,
            "min_height": null,
            "min_width": null,
            "object_fit": null,
            "object_position": null,
            "order": null,
            "overflow": null,
            "overflow_x": null,
            "overflow_y": null,
            "padding": null,
            "right": null,
            "top": null,
            "visibility": null,
            "width": "20px"
          }
        },
        "a49f14dd7126475693aa0fe7fa4eece9": {
          "model_module": "@jupyter-widgets/controls",
          "model_name": "ProgressStyleModel",
          "model_module_version": "1.5.0",
          "state": {
            "_model_module": "@jupyter-widgets/controls",
            "_model_module_version": "1.5.0",
            "_model_name": "ProgressStyleModel",
            "_view_count": null,
            "_view_module": "@jupyter-widgets/base",
            "_view_module_version": "1.2.0",
            "_view_name": "StyleView",
            "bar_color": null,
            "description_width": ""
          }
        },
        "47a87b1ddeec450d884df5d923f44dc9": {
          "model_module": "@jupyter-widgets/base",
          "model_name": "LayoutModel",
          "model_module_version": "1.2.0",
          "state": {
            "_model_module": "@jupyter-widgets/base",
            "_model_module_version": "1.2.0",
            "_model_name": "LayoutModel",
            "_view_count": null,
            "_view_module": "@jupyter-widgets/base",
            "_view_module_version": "1.2.0",
            "_view_name": "LayoutView",
            "align_content": null,
            "align_items": null,
            "align_self": null,
            "border": null,
            "bottom": null,
            "display": null,
            "flex": null,
            "flex_flow": null,
            "grid_area": null,
            "grid_auto_columns": null,
            "grid_auto_flow": null,
            "grid_auto_rows": null,
            "grid_column": null,
            "grid_gap": null,
            "grid_row": null,
            "grid_template_areas": null,
            "grid_template_columns": null,
            "grid_template_rows": null,
            "height": null,
            "justify_content": null,
            "justify_items": null,
            "left": null,
            "margin": null,
            "max_height": null,
            "max_width": null,
            "min_height": null,
            "min_width": null,
            "object_fit": null,
            "object_position": null,
            "order": null,
            "overflow": null,
            "overflow_x": null,
            "overflow_y": null,
            "padding": null,
            "right": null,
            "top": null,
            "visibility": null,
            "width": null
          }
        },
        "323155de59f04a50abfc2e3c3a1f2f3a": {
          "model_module": "@jupyter-widgets/controls",
          "model_name": "DescriptionStyleModel",
          "model_module_version": "1.5.0",
          "state": {
            "_model_module": "@jupyter-widgets/controls",
            "_model_module_version": "1.5.0",
            "_model_name": "DescriptionStyleModel",
            "_view_count": null,
            "_view_module": "@jupyter-widgets/base",
            "_view_module_version": "1.2.0",
            "_view_name": "StyleView",
            "description_width": ""
          }
        },
        "4a762b7427f14ff5a22a727649965e20": {
          "model_module": "@jupyter-widgets/controls",
          "model_name": "HBoxModel",
          "model_module_version": "1.5.0",
          "state": {
            "_dom_classes": [],
            "_model_module": "@jupyter-widgets/controls",
            "_model_module_version": "1.5.0",
            "_model_name": "HBoxModel",
            "_view_count": null,
            "_view_module": "@jupyter-widgets/controls",
            "_view_module_version": "1.5.0",
            "_view_name": "HBoxView",
            "box_style": "",
            "children": [
              "IPY_MODEL_8881b887e7f04827a30504c227d8703f",
              "IPY_MODEL_081d87ac2fba4178a936b549846f067e",
              "IPY_MODEL_2adb2299ff51445f9c384493a23cf5a9"
            ],
            "layout": "IPY_MODEL_b73f3948fdad4c67b04709b492ce975a"
          }
        },
        "8881b887e7f04827a30504c227d8703f": {
          "model_module": "@jupyter-widgets/controls",
          "model_name": "HTMLModel",
          "model_module_version": "1.5.0",
          "state": {
            "_dom_classes": [],
            "_model_module": "@jupyter-widgets/controls",
            "_model_module_version": "1.5.0",
            "_model_name": "HTMLModel",
            "_view_count": null,
            "_view_module": "@jupyter-widgets/controls",
            "_view_module_version": "1.5.0",
            "_view_name": "HTMLView",
            "description": "",
            "description_tooltip": null,
            "layout": "IPY_MODEL_e184566184784b139fbd9262324b21ba",
            "placeholder": "​",
            "style": "IPY_MODEL_c80da22a8d6f4e94bcebaf3d4a2cfc1f",
            "value": "Downloading data files: 100%"
          }
        },
        "081d87ac2fba4178a936b549846f067e": {
          "model_module": "@jupyter-widgets/controls",
          "model_name": "FloatProgressModel",
          "model_module_version": "1.5.0",
          "state": {
            "_dom_classes": [],
            "_model_module": "@jupyter-widgets/controls",
            "_model_module_version": "1.5.0",
            "_model_name": "FloatProgressModel",
            "_view_count": null,
            "_view_module": "@jupyter-widgets/controls",
            "_view_module_version": "1.5.0",
            "_view_name": "ProgressView",
            "bar_style": "success",
            "description": "",
            "description_tooltip": null,
            "layout": "IPY_MODEL_1dac6c194d48479ea4863854017b682f",
            "max": 2,
            "min": 0,
            "orientation": "horizontal",
            "style": "IPY_MODEL_dc588262c3da48e8930a2310595eedd2",
            "value": 2
          }
        },
        "2adb2299ff51445f9c384493a23cf5a9": {
          "model_module": "@jupyter-widgets/controls",
          "model_name": "HTMLModel",
          "model_module_version": "1.5.0",
          "state": {
            "_dom_classes": [],
            "_model_module": "@jupyter-widgets/controls",
            "_model_module_version": "1.5.0",
            "_model_name": "HTMLModel",
            "_view_count": null,
            "_view_module": "@jupyter-widgets/controls",
            "_view_module_version": "1.5.0",
            "_view_name": "HTMLView",
            "description": "",
            "description_tooltip": null,
            "layout": "IPY_MODEL_aba626f0e31f44dbb8cf9202d2d4f90a",
            "placeholder": "​",
            "style": "IPY_MODEL_4f2a264b28f947329af2e5c954e2257b",
            "value": " 2/2 [00:19&lt;00:00,  8.23s/it]"
          }
        },
        "b73f3948fdad4c67b04709b492ce975a": {
          "model_module": "@jupyter-widgets/base",
          "model_name": "LayoutModel",
          "model_module_version": "1.2.0",
          "state": {
            "_model_module": "@jupyter-widgets/base",
            "_model_module_version": "1.2.0",
            "_model_name": "LayoutModel",
            "_view_count": null,
            "_view_module": "@jupyter-widgets/base",
            "_view_module_version": "1.2.0",
            "_view_name": "LayoutView",
            "align_content": null,
            "align_items": null,
            "align_self": null,
            "border": null,
            "bottom": null,
            "display": null,
            "flex": null,
            "flex_flow": null,
            "grid_area": null,
            "grid_auto_columns": null,
            "grid_auto_flow": null,
            "grid_auto_rows": null,
            "grid_column": null,
            "grid_gap": null,
            "grid_row": null,
            "grid_template_areas": null,
            "grid_template_columns": null,
            "grid_template_rows": null,
            "height": null,
            "justify_content": null,
            "justify_items": null,
            "left": null,
            "margin": null,
            "max_height": null,
            "max_width": null,
            "min_height": null,
            "min_width": null,
            "object_fit": null,
            "object_position": null,
            "order": null,
            "overflow": null,
            "overflow_x": null,
            "overflow_y": null,
            "padding": null,
            "right": null,
            "top": null,
            "visibility": null,
            "width": null
          }
        },
        "e184566184784b139fbd9262324b21ba": {
          "model_module": "@jupyter-widgets/base",
          "model_name": "LayoutModel",
          "model_module_version": "1.2.0",
          "state": {
            "_model_module": "@jupyter-widgets/base",
            "_model_module_version": "1.2.0",
            "_model_name": "LayoutModel",
            "_view_count": null,
            "_view_module": "@jupyter-widgets/base",
            "_view_module_version": "1.2.0",
            "_view_name": "LayoutView",
            "align_content": null,
            "align_items": null,
            "align_self": null,
            "border": null,
            "bottom": null,
            "display": null,
            "flex": null,
            "flex_flow": null,
            "grid_area": null,
            "grid_auto_columns": null,
            "grid_auto_flow": null,
            "grid_auto_rows": null,
            "grid_column": null,
            "grid_gap": null,
            "grid_row": null,
            "grid_template_areas": null,
            "grid_template_columns": null,
            "grid_template_rows": null,
            "height": null,
            "justify_content": null,
            "justify_items": null,
            "left": null,
            "margin": null,
            "max_height": null,
            "max_width": null,
            "min_height": null,
            "min_width": null,
            "object_fit": null,
            "object_position": null,
            "order": null,
            "overflow": null,
            "overflow_x": null,
            "overflow_y": null,
            "padding": null,
            "right": null,
            "top": null,
            "visibility": null,
            "width": null
          }
        },
        "c80da22a8d6f4e94bcebaf3d4a2cfc1f": {
          "model_module": "@jupyter-widgets/controls",
          "model_name": "DescriptionStyleModel",
          "model_module_version": "1.5.0",
          "state": {
            "_model_module": "@jupyter-widgets/controls",
            "_model_module_version": "1.5.0",
            "_model_name": "DescriptionStyleModel",
            "_view_count": null,
            "_view_module": "@jupyter-widgets/base",
            "_view_module_version": "1.2.0",
            "_view_name": "StyleView",
            "description_width": ""
          }
        },
        "1dac6c194d48479ea4863854017b682f": {
          "model_module": "@jupyter-widgets/base",
          "model_name": "LayoutModel",
          "model_module_version": "1.2.0",
          "state": {
            "_model_module": "@jupyter-widgets/base",
            "_model_module_version": "1.2.0",
            "_model_name": "LayoutModel",
            "_view_count": null,
            "_view_module": "@jupyter-widgets/base",
            "_view_module_version": "1.2.0",
            "_view_name": "LayoutView",
            "align_content": null,
            "align_items": null,
            "align_self": null,
            "border": null,
            "bottom": null,
            "display": null,
            "flex": null,
            "flex_flow": null,
            "grid_area": null,
            "grid_auto_columns": null,
            "grid_auto_flow": null,
            "grid_auto_rows": null,
            "grid_column": null,
            "grid_gap": null,
            "grid_row": null,
            "grid_template_areas": null,
            "grid_template_columns": null,
            "grid_template_rows": null,
            "height": null,
            "justify_content": null,
            "justify_items": null,
            "left": null,
            "margin": null,
            "max_height": null,
            "max_width": null,
            "min_height": null,
            "min_width": null,
            "object_fit": null,
            "object_position": null,
            "order": null,
            "overflow": null,
            "overflow_x": null,
            "overflow_y": null,
            "padding": null,
            "right": null,
            "top": null,
            "visibility": null,
            "width": null
          }
        },
        "dc588262c3da48e8930a2310595eedd2": {
          "model_module": "@jupyter-widgets/controls",
          "model_name": "ProgressStyleModel",
          "model_module_version": "1.5.0",
          "state": {
            "_model_module": "@jupyter-widgets/controls",
            "_model_module_version": "1.5.0",
            "_model_name": "ProgressStyleModel",
            "_view_count": null,
            "_view_module": "@jupyter-widgets/base",
            "_view_module_version": "1.2.0",
            "_view_name": "StyleView",
            "bar_color": null,
            "description_width": ""
          }
        },
        "aba626f0e31f44dbb8cf9202d2d4f90a": {
          "model_module": "@jupyter-widgets/base",
          "model_name": "LayoutModel",
          "model_module_version": "1.2.0",
          "state": {
            "_model_module": "@jupyter-widgets/base",
            "_model_module_version": "1.2.0",
            "_model_name": "LayoutModel",
            "_view_count": null,
            "_view_module": "@jupyter-widgets/base",
            "_view_module_version": "1.2.0",
            "_view_name": "LayoutView",
            "align_content": null,
            "align_items": null,
            "align_self": null,
            "border": null,
            "bottom": null,
            "display": null,
            "flex": null,
            "flex_flow": null,
            "grid_area": null,
            "grid_auto_columns": null,
            "grid_auto_flow": null,
            "grid_auto_rows": null,
            "grid_column": null,
            "grid_gap": null,
            "grid_row": null,
            "grid_template_areas": null,
            "grid_template_columns": null,
            "grid_template_rows": null,
            "height": null,
            "justify_content": null,
            "justify_items": null,
            "left": null,
            "margin": null,
            "max_height": null,
            "max_width": null,
            "min_height": null,
            "min_width": null,
            "object_fit": null,
            "object_position": null,
            "order": null,
            "overflow": null,
            "overflow_x": null,
            "overflow_y": null,
            "padding": null,
            "right": null,
            "top": null,
            "visibility": null,
            "width": null
          }
        },
        "4f2a264b28f947329af2e5c954e2257b": {
          "model_module": "@jupyter-widgets/controls",
          "model_name": "DescriptionStyleModel",
          "model_module_version": "1.5.0",
          "state": {
            "_model_module": "@jupyter-widgets/controls",
            "_model_module_version": "1.5.0",
            "_model_name": "DescriptionStyleModel",
            "_view_count": null,
            "_view_module": "@jupyter-widgets/base",
            "_view_module_version": "1.2.0",
            "_view_name": "StyleView",
            "description_width": ""
          }
        },
        "38a0891f2ee74429a20eeb8290e5ed63": {
          "model_module": "@jupyter-widgets/controls",
          "model_name": "HBoxModel",
          "model_module_version": "1.5.0",
          "state": {
            "_dom_classes": [],
            "_model_module": "@jupyter-widgets/controls",
            "_model_module_version": "1.5.0",
            "_model_name": "HBoxModel",
            "_view_count": null,
            "_view_module": "@jupyter-widgets/controls",
            "_view_module_version": "1.5.0",
            "_view_name": "HBoxView",
            "box_style": "",
            "children": [
              "IPY_MODEL_4d759488b1ab4701a04ec91929d6f75b",
              "IPY_MODEL_d6e43acd016d40188a6a2fdffebd12bc",
              "IPY_MODEL_0abbe8f3f1d2416cad38bfc29ef5f6a7"
            ],
            "layout": "IPY_MODEL_efd18f3d66bd4eda936792437faf817c"
          }
        },
        "4d759488b1ab4701a04ec91929d6f75b": {
          "model_module": "@jupyter-widgets/controls",
          "model_name": "HTMLModel",
          "model_module_version": "1.5.0",
          "state": {
            "_dom_classes": [],
            "_model_module": "@jupyter-widgets/controls",
            "_model_module_version": "1.5.0",
            "_model_name": "HTMLModel",
            "_view_count": null,
            "_view_module": "@jupyter-widgets/controls",
            "_view_module_version": "1.5.0",
            "_view_name": "HTMLView",
            "description": "",
            "description_tooltip": null,
            "layout": "IPY_MODEL_cfb8291a69214d66848f8fc5f75ce60c",
            "placeholder": "​",
            "style": "IPY_MODEL_72ad2cad3f484583b386241a0c0c9b65",
            "value": "Downloading data: 100%"
          }
        },
        "d6e43acd016d40188a6a2fdffebd12bc": {
          "model_module": "@jupyter-widgets/controls",
          "model_name": "FloatProgressModel",
          "model_module_version": "1.5.0",
          "state": {
            "_dom_classes": [],
            "_model_module": "@jupyter-widgets/controls",
            "_model_module_version": "1.5.0",
            "_model_name": "FloatProgressModel",
            "_view_count": null,
            "_view_module": "@jupyter-widgets/controls",
            "_view_module_version": "1.5.0",
            "_view_name": "ProgressView",
            "bar_style": "success",
            "description": "",
            "description_tooltip": null,
            "layout": "IPY_MODEL_c6bcabf319cd4738b30871ecc7cecc2b",
            "max": 240242061,
            "min": 0,
            "orientation": "horizontal",
            "style": "IPY_MODEL_2f4d3e9696f641908d73dec3f487b319",
            "value": 240242061
          }
        },
        "0abbe8f3f1d2416cad38bfc29ef5f6a7": {
          "model_module": "@jupyter-widgets/controls",
          "model_name": "HTMLModel",
          "model_module_version": "1.5.0",
          "state": {
            "_dom_classes": [],
            "_model_module": "@jupyter-widgets/controls",
            "_model_module_version": "1.5.0",
            "_model_name": "HTMLModel",
            "_view_count": null,
            "_view_module": "@jupyter-widgets/controls",
            "_view_module_version": "1.5.0",
            "_view_name": "HTMLView",
            "description": "",
            "description_tooltip": null,
            "layout": "IPY_MODEL_025c040dca044ce88d74df7f65df982e",
            "placeholder": "​",
            "style": "IPY_MODEL_0972f62d7e22487783f950a8d5c9d07e",
            "value": " 240M/240M [00:16&lt;00:00, 15.5MB/s]"
          }
        },
        "efd18f3d66bd4eda936792437faf817c": {
          "model_module": "@jupyter-widgets/base",
          "model_name": "LayoutModel",
          "model_module_version": "1.2.0",
          "state": {
            "_model_module": "@jupyter-widgets/base",
            "_model_module_version": "1.2.0",
            "_model_name": "LayoutModel",
            "_view_count": null,
            "_view_module": "@jupyter-widgets/base",
            "_view_module_version": "1.2.0",
            "_view_name": "LayoutView",
            "align_content": null,
            "align_items": null,
            "align_self": null,
            "border": null,
            "bottom": null,
            "display": null,
            "flex": null,
            "flex_flow": null,
            "grid_area": null,
            "grid_auto_columns": null,
            "grid_auto_flow": null,
            "grid_auto_rows": null,
            "grid_column": null,
            "grid_gap": null,
            "grid_row": null,
            "grid_template_areas": null,
            "grid_template_columns": null,
            "grid_template_rows": null,
            "height": null,
            "justify_content": null,
            "justify_items": null,
            "left": null,
            "margin": null,
            "max_height": null,
            "max_width": null,
            "min_height": null,
            "min_width": null,
            "object_fit": null,
            "object_position": null,
            "order": null,
            "overflow": null,
            "overflow_x": null,
            "overflow_y": null,
            "padding": null,
            "right": null,
            "top": null,
            "visibility": null,
            "width": null
          }
        },
        "cfb8291a69214d66848f8fc5f75ce60c": {
          "model_module": "@jupyter-widgets/base",
          "model_name": "LayoutModel",
          "model_module_version": "1.2.0",
          "state": {
            "_model_module": "@jupyter-widgets/base",
            "_model_module_version": "1.2.0",
            "_model_name": "LayoutModel",
            "_view_count": null,
            "_view_module": "@jupyter-widgets/base",
            "_view_module_version": "1.2.0",
            "_view_name": "LayoutView",
            "align_content": null,
            "align_items": null,
            "align_self": null,
            "border": null,
            "bottom": null,
            "display": null,
            "flex": null,
            "flex_flow": null,
            "grid_area": null,
            "grid_auto_columns": null,
            "grid_auto_flow": null,
            "grid_auto_rows": null,
            "grid_column": null,
            "grid_gap": null,
            "grid_row": null,
            "grid_template_areas": null,
            "grid_template_columns": null,
            "grid_template_rows": null,
            "height": null,
            "justify_content": null,
            "justify_items": null,
            "left": null,
            "margin": null,
            "max_height": null,
            "max_width": null,
            "min_height": null,
            "min_width": null,
            "object_fit": null,
            "object_position": null,
            "order": null,
            "overflow": null,
            "overflow_x": null,
            "overflow_y": null,
            "padding": null,
            "right": null,
            "top": null,
            "visibility": null,
            "width": null
          }
        },
        "72ad2cad3f484583b386241a0c0c9b65": {
          "model_module": "@jupyter-widgets/controls",
          "model_name": "DescriptionStyleModel",
          "model_module_version": "1.5.0",
          "state": {
            "_model_module": "@jupyter-widgets/controls",
            "_model_module_version": "1.5.0",
            "_model_name": "DescriptionStyleModel",
            "_view_count": null,
            "_view_module": "@jupyter-widgets/base",
            "_view_module_version": "1.2.0",
            "_view_name": "StyleView",
            "description_width": ""
          }
        },
        "c6bcabf319cd4738b30871ecc7cecc2b": {
          "model_module": "@jupyter-widgets/base",
          "model_name": "LayoutModel",
          "model_module_version": "1.2.0",
          "state": {
            "_model_module": "@jupyter-widgets/base",
            "_model_module_version": "1.2.0",
            "_model_name": "LayoutModel",
            "_view_count": null,
            "_view_module": "@jupyter-widgets/base",
            "_view_module_version": "1.2.0",
            "_view_name": "LayoutView",
            "align_content": null,
            "align_items": null,
            "align_self": null,
            "border": null,
            "bottom": null,
            "display": null,
            "flex": null,
            "flex_flow": null,
            "grid_area": null,
            "grid_auto_columns": null,
            "grid_auto_flow": null,
            "grid_auto_rows": null,
            "grid_column": null,
            "grid_gap": null,
            "grid_row": null,
            "grid_template_areas": null,
            "grid_template_columns": null,
            "grid_template_rows": null,
            "height": null,
            "justify_content": null,
            "justify_items": null,
            "left": null,
            "margin": null,
            "max_height": null,
            "max_width": null,
            "min_height": null,
            "min_width": null,
            "object_fit": null,
            "object_position": null,
            "order": null,
            "overflow": null,
            "overflow_x": null,
            "overflow_y": null,
            "padding": null,
            "right": null,
            "top": null,
            "visibility": null,
            "width": null
          }
        },
        "2f4d3e9696f641908d73dec3f487b319": {
          "model_module": "@jupyter-widgets/controls",
          "model_name": "ProgressStyleModel",
          "model_module_version": "1.5.0",
          "state": {
            "_model_module": "@jupyter-widgets/controls",
            "_model_module_version": "1.5.0",
            "_model_name": "ProgressStyleModel",
            "_view_count": null,
            "_view_module": "@jupyter-widgets/base",
            "_view_module_version": "1.2.0",
            "_view_name": "StyleView",
            "bar_color": null,
            "description_width": ""
          }
        },
        "025c040dca044ce88d74df7f65df982e": {
          "model_module": "@jupyter-widgets/base",
          "model_name": "LayoutModel",
          "model_module_version": "1.2.0",
          "state": {
            "_model_module": "@jupyter-widgets/base",
            "_model_module_version": "1.2.0",
            "_model_name": "LayoutModel",
            "_view_count": null,
            "_view_module": "@jupyter-widgets/base",
            "_view_module_version": "1.2.0",
            "_view_name": "LayoutView",
            "align_content": null,
            "align_items": null,
            "align_self": null,
            "border": null,
            "bottom": null,
            "display": null,
            "flex": null,
            "flex_flow": null,
            "grid_area": null,
            "grid_auto_columns": null,
            "grid_auto_flow": null,
            "grid_auto_rows": null,
            "grid_column": null,
            "grid_gap": null,
            "grid_row": null,
            "grid_template_areas": null,
            "grid_template_columns": null,
            "grid_template_rows": null,
            "height": null,
            "justify_content": null,
            "justify_items": null,
            "left": null,
            "margin": null,
            "max_height": null,
            "max_width": null,
            "min_height": null,
            "min_width": null,
            "object_fit": null,
            "object_position": null,
            "order": null,
            "overflow": null,
            "overflow_x": null,
            "overflow_y": null,
            "padding": null,
            "right": null,
            "top": null,
            "visibility": null,
            "width": null
          }
        },
        "0972f62d7e22487783f950a8d5c9d07e": {
          "model_module": "@jupyter-widgets/controls",
          "model_name": "DescriptionStyleModel",
          "model_module_version": "1.5.0",
          "state": {
            "_model_module": "@jupyter-widgets/controls",
            "_model_module_version": "1.5.0",
            "_model_name": "DescriptionStyleModel",
            "_view_count": null,
            "_view_module": "@jupyter-widgets/base",
            "_view_module_version": "1.2.0",
            "_view_name": "StyleView",
            "description_width": ""
          }
        },
        "68a9296ac7e04fb48f5ab9e355a4780a": {
          "model_module": "@jupyter-widgets/controls",
          "model_name": "HBoxModel",
          "model_module_version": "1.5.0",
          "state": {
            "_dom_classes": [],
            "_model_module": "@jupyter-widgets/controls",
            "_model_module_version": "1.5.0",
            "_model_name": "HBoxModel",
            "_view_count": null,
            "_view_module": "@jupyter-widgets/controls",
            "_view_module_version": "1.5.0",
            "_view_name": "HBoxView",
            "box_style": "",
            "children": [
              "IPY_MODEL_62b83100b2c84b30b82d27d533f7a230",
              "IPY_MODEL_f475934b17fb45ac86ef43e78c52e796",
              "IPY_MODEL_f1278640a23040fb946d596fc9f0a3bd"
            ],
            "layout": "IPY_MODEL_fc000e87f3534fe39824a3b57d5b839a"
          }
        },
        "62b83100b2c84b30b82d27d533f7a230": {
          "model_module": "@jupyter-widgets/controls",
          "model_name": "HTMLModel",
          "model_module_version": "1.5.0",
          "state": {
            "_dom_classes": [],
            "_model_module": "@jupyter-widgets/controls",
            "_model_module_version": "1.5.0",
            "_model_name": "HTMLModel",
            "_view_count": null,
            "_view_module": "@jupyter-widgets/controls",
            "_view_module_version": "1.5.0",
            "_view_name": "HTMLView",
            "description": "",
            "description_tooltip": null,
            "layout": "IPY_MODEL_3e70933e104e4ace9d5fe2748ecd3299",
            "placeholder": "​",
            "style": "IPY_MODEL_18899dddd1e74436b6224db41b5e19b6",
            "value": "Downloading data: 100%"
          }
        },
        "f475934b17fb45ac86ef43e78c52e796": {
          "model_module": "@jupyter-widgets/controls",
          "model_name": "FloatProgressModel",
          "model_module_version": "1.5.0",
          "state": {
            "_dom_classes": [],
            "_model_module": "@jupyter-widgets/controls",
            "_model_module_version": "1.5.0",
            "_model_name": "FloatProgressModel",
            "_view_count": null,
            "_view_module": "@jupyter-widgets/controls",
            "_view_module_version": "1.5.0",
            "_view_name": "ProgressView",
            "bar_style": "success",
            "description": "",
            "description_tooltip": null,
            "layout": "IPY_MODEL_f3f26c58624b4c2596215d64ffbc327e",
            "max": 26719354,
            "min": 0,
            "orientation": "horizontal",
            "style": "IPY_MODEL_1b4ab73c9f1c4c35be8da23f1a4bfd86",
            "value": 26719354
          }
        },
        "f1278640a23040fb946d596fc9f0a3bd": {
          "model_module": "@jupyter-widgets/controls",
          "model_name": "HTMLModel",
          "model_module_version": "1.5.0",
          "state": {
            "_dom_classes": [],
            "_model_module": "@jupyter-widgets/controls",
            "_model_module_version": "1.5.0",
            "_model_name": "HTMLModel",
            "_view_count": null,
            "_view_module": "@jupyter-widgets/controls",
            "_view_module_version": "1.5.0",
            "_view_name": "HTMLView",
            "description": "",
            "description_tooltip": null,
            "layout": "IPY_MODEL_597cb747ddba42bf9b4a30887d5aaf48",
            "placeholder": "​",
            "style": "IPY_MODEL_3156aa336e864cfaac928fb9f28c738e",
            "value": " 26.7M/26.7M [00:02&lt;00:00, 14.9MB/s]"
          }
        },
        "fc000e87f3534fe39824a3b57d5b839a": {
          "model_module": "@jupyter-widgets/base",
          "model_name": "LayoutModel",
          "model_module_version": "1.2.0",
          "state": {
            "_model_module": "@jupyter-widgets/base",
            "_model_module_version": "1.2.0",
            "_model_name": "LayoutModel",
            "_view_count": null,
            "_view_module": "@jupyter-widgets/base",
            "_view_module_version": "1.2.0",
            "_view_name": "LayoutView",
            "align_content": null,
            "align_items": null,
            "align_self": null,
            "border": null,
            "bottom": null,
            "display": null,
            "flex": null,
            "flex_flow": null,
            "grid_area": null,
            "grid_auto_columns": null,
            "grid_auto_flow": null,
            "grid_auto_rows": null,
            "grid_column": null,
            "grid_gap": null,
            "grid_row": null,
            "grid_template_areas": null,
            "grid_template_columns": null,
            "grid_template_rows": null,
            "height": null,
            "justify_content": null,
            "justify_items": null,
            "left": null,
            "margin": null,
            "max_height": null,
            "max_width": null,
            "min_height": null,
            "min_width": null,
            "object_fit": null,
            "object_position": null,
            "order": null,
            "overflow": null,
            "overflow_x": null,
            "overflow_y": null,
            "padding": null,
            "right": null,
            "top": null,
            "visibility": null,
            "width": null
          }
        },
        "3e70933e104e4ace9d5fe2748ecd3299": {
          "model_module": "@jupyter-widgets/base",
          "model_name": "LayoutModel",
          "model_module_version": "1.2.0",
          "state": {
            "_model_module": "@jupyter-widgets/base",
            "_model_module_version": "1.2.0",
            "_model_name": "LayoutModel",
            "_view_count": null,
            "_view_module": "@jupyter-widgets/base",
            "_view_module_version": "1.2.0",
            "_view_name": "LayoutView",
            "align_content": null,
            "align_items": null,
            "align_self": null,
            "border": null,
            "bottom": null,
            "display": null,
            "flex": null,
            "flex_flow": null,
            "grid_area": null,
            "grid_auto_columns": null,
            "grid_auto_flow": null,
            "grid_auto_rows": null,
            "grid_column": null,
            "grid_gap": null,
            "grid_row": null,
            "grid_template_areas": null,
            "grid_template_columns": null,
            "grid_template_rows": null,
            "height": null,
            "justify_content": null,
            "justify_items": null,
            "left": null,
            "margin": null,
            "max_height": null,
            "max_width": null,
            "min_height": null,
            "min_width": null,
            "object_fit": null,
            "object_position": null,
            "order": null,
            "overflow": null,
            "overflow_x": null,
            "overflow_y": null,
            "padding": null,
            "right": null,
            "top": null,
            "visibility": null,
            "width": null
          }
        },
        "18899dddd1e74436b6224db41b5e19b6": {
          "model_module": "@jupyter-widgets/controls",
          "model_name": "DescriptionStyleModel",
          "model_module_version": "1.5.0",
          "state": {
            "_model_module": "@jupyter-widgets/controls",
            "_model_module_version": "1.5.0",
            "_model_name": "DescriptionStyleModel",
            "_view_count": null,
            "_view_module": "@jupyter-widgets/base",
            "_view_module_version": "1.2.0",
            "_view_name": "StyleView",
            "description_width": ""
          }
        },
        "f3f26c58624b4c2596215d64ffbc327e": {
          "model_module": "@jupyter-widgets/base",
          "model_name": "LayoutModel",
          "model_module_version": "1.2.0",
          "state": {
            "_model_module": "@jupyter-widgets/base",
            "_model_module_version": "1.2.0",
            "_model_name": "LayoutModel",
            "_view_count": null,
            "_view_module": "@jupyter-widgets/base",
            "_view_module_version": "1.2.0",
            "_view_name": "LayoutView",
            "align_content": null,
            "align_items": null,
            "align_self": null,
            "border": null,
            "bottom": null,
            "display": null,
            "flex": null,
            "flex_flow": null,
            "grid_area": null,
            "grid_auto_columns": null,
            "grid_auto_flow": null,
            "grid_auto_rows": null,
            "grid_column": null,
            "grid_gap": null,
            "grid_row": null,
            "grid_template_areas": null,
            "grid_template_columns": null,
            "grid_template_rows": null,
            "height": null,
            "justify_content": null,
            "justify_items": null,
            "left": null,
            "margin": null,
            "max_height": null,
            "max_width": null,
            "min_height": null,
            "min_width": null,
            "object_fit": null,
            "object_position": null,
            "order": null,
            "overflow": null,
            "overflow_x": null,
            "overflow_y": null,
            "padding": null,
            "right": null,
            "top": null,
            "visibility": null,
            "width": null
          }
        },
        "1b4ab73c9f1c4c35be8da23f1a4bfd86": {
          "model_module": "@jupyter-widgets/controls",
          "model_name": "ProgressStyleModel",
          "model_module_version": "1.5.0",
          "state": {
            "_model_module": "@jupyter-widgets/controls",
            "_model_module_version": "1.5.0",
            "_model_name": "ProgressStyleModel",
            "_view_count": null,
            "_view_module": "@jupyter-widgets/base",
            "_view_module_version": "1.2.0",
            "_view_name": "StyleView",
            "bar_color": null,
            "description_width": ""
          }
        },
        "597cb747ddba42bf9b4a30887d5aaf48": {
          "model_module": "@jupyter-widgets/base",
          "model_name": "LayoutModel",
          "model_module_version": "1.2.0",
          "state": {
            "_model_module": "@jupyter-widgets/base",
            "_model_module_version": "1.2.0",
            "_model_name": "LayoutModel",
            "_view_count": null,
            "_view_module": "@jupyter-widgets/base",
            "_view_module_version": "1.2.0",
            "_view_name": "LayoutView",
            "align_content": null,
            "align_items": null,
            "align_self": null,
            "border": null,
            "bottom": null,
            "display": null,
            "flex": null,
            "flex_flow": null,
            "grid_area": null,
            "grid_auto_columns": null,
            "grid_auto_flow": null,
            "grid_auto_rows": null,
            "grid_column": null,
            "grid_gap": null,
            "grid_row": null,
            "grid_template_areas": null,
            "grid_template_columns": null,
            "grid_template_rows": null,
            "height": null,
            "justify_content": null,
            "justify_items": null,
            "left": null,
            "margin": null,
            "max_height": null,
            "max_width": null,
            "min_height": null,
            "min_width": null,
            "object_fit": null,
            "object_position": null,
            "order": null,
            "overflow": null,
            "overflow_x": null,
            "overflow_y": null,
            "padding": null,
            "right": null,
            "top": null,
            "visibility": null,
            "width": null
          }
        },
        "3156aa336e864cfaac928fb9f28c738e": {
          "model_module": "@jupyter-widgets/controls",
          "model_name": "DescriptionStyleModel",
          "model_module_version": "1.5.0",
          "state": {
            "_model_module": "@jupyter-widgets/controls",
            "_model_module_version": "1.5.0",
            "_model_name": "DescriptionStyleModel",
            "_view_count": null,
            "_view_module": "@jupyter-widgets/base",
            "_view_module_version": "1.2.0",
            "_view_name": "StyleView",
            "description_width": ""
          }
        },
        "2614940f3e8c48e5bbf5d96dd9a918a4": {
          "model_module": "@jupyter-widgets/controls",
          "model_name": "HBoxModel",
          "model_module_version": "1.5.0",
          "state": {
            "_dom_classes": [],
            "_model_module": "@jupyter-widgets/controls",
            "_model_module_version": "1.5.0",
            "_model_name": "HBoxModel",
            "_view_count": null,
            "_view_module": "@jupyter-widgets/controls",
            "_view_module_version": "1.5.0",
            "_view_name": "HBoxView",
            "box_style": "",
            "children": [
              "IPY_MODEL_dcb8a2aded6b47679e76336358cb98a2",
              "IPY_MODEL_65f92a078e1743dc92bf3d24c4577250",
              "IPY_MODEL_570f2eed2aa8496e9b8afd3d3394c308"
            ],
            "layout": "IPY_MODEL_cf9533c24eeb493399f62b2cf120326d"
          }
        },
        "dcb8a2aded6b47679e76336358cb98a2": {
          "model_module": "@jupyter-widgets/controls",
          "model_name": "HTMLModel",
          "model_module_version": "1.5.0",
          "state": {
            "_dom_classes": [],
            "_model_module": "@jupyter-widgets/controls",
            "_model_module_version": "1.5.0",
            "_model_name": "HTMLModel",
            "_view_count": null,
            "_view_module": "@jupyter-widgets/controls",
            "_view_module_version": "1.5.0",
            "_view_name": "HTMLView",
            "description": "",
            "description_tooltip": null,
            "layout": "IPY_MODEL_c103f92f647941d4a7f3008b27428c1e",
            "placeholder": "​",
            "style": "IPY_MODEL_683e082cfb1f4b25875564e2f96a107a",
            "value": "Extracting data files: 100%"
          }
        },
        "65f92a078e1743dc92bf3d24c4577250": {
          "model_module": "@jupyter-widgets/controls",
          "model_name": "FloatProgressModel",
          "model_module_version": "1.5.0",
          "state": {
            "_dom_classes": [],
            "_model_module": "@jupyter-widgets/controls",
            "_model_module_version": "1.5.0",
            "_model_name": "FloatProgressModel",
            "_view_count": null,
            "_view_module": "@jupyter-widgets/controls",
            "_view_module_version": "1.5.0",
            "_view_name": "ProgressView",
            "bar_style": "success",
            "description": "",
            "description_tooltip": null,
            "layout": "IPY_MODEL_6e166d26e679425fb4133183d25f66bf",
            "max": 2,
            "min": 0,
            "orientation": "horizontal",
            "style": "IPY_MODEL_1cf5f353d813416ebc58a4a97e07dc48",
            "value": 2
          }
        },
        "570f2eed2aa8496e9b8afd3d3394c308": {
          "model_module": "@jupyter-widgets/controls",
          "model_name": "HTMLModel",
          "model_module_version": "1.5.0",
          "state": {
            "_dom_classes": [],
            "_model_module": "@jupyter-widgets/controls",
            "_model_module_version": "1.5.0",
            "_model_name": "HTMLModel",
            "_view_count": null,
            "_view_module": "@jupyter-widgets/controls",
            "_view_module_version": "1.5.0",
            "_view_name": "HTMLView",
            "description": "",
            "description_tooltip": null,
            "layout": "IPY_MODEL_b68b5bbbfccc4362ad234aac370745d9",
            "placeholder": "​",
            "style": "IPY_MODEL_3ac123b88bfe4d5a8a6b421ebc9719ce",
            "value": " 2/2 [00:00&lt;00:00, 69.89it/s]"
          }
        },
        "cf9533c24eeb493399f62b2cf120326d": {
          "model_module": "@jupyter-widgets/base",
          "model_name": "LayoutModel",
          "model_module_version": "1.2.0",
          "state": {
            "_model_module": "@jupyter-widgets/base",
            "_model_module_version": "1.2.0",
            "_model_name": "LayoutModel",
            "_view_count": null,
            "_view_module": "@jupyter-widgets/base",
            "_view_module_version": "1.2.0",
            "_view_name": "LayoutView",
            "align_content": null,
            "align_items": null,
            "align_self": null,
            "border": null,
            "bottom": null,
            "display": null,
            "flex": null,
            "flex_flow": null,
            "grid_area": null,
            "grid_auto_columns": null,
            "grid_auto_flow": null,
            "grid_auto_rows": null,
            "grid_column": null,
            "grid_gap": null,
            "grid_row": null,
            "grid_template_areas": null,
            "grid_template_columns": null,
            "grid_template_rows": null,
            "height": null,
            "justify_content": null,
            "justify_items": null,
            "left": null,
            "margin": null,
            "max_height": null,
            "max_width": null,
            "min_height": null,
            "min_width": null,
            "object_fit": null,
            "object_position": null,
            "order": null,
            "overflow": null,
            "overflow_x": null,
            "overflow_y": null,
            "padding": null,
            "right": null,
            "top": null,
            "visibility": null,
            "width": null
          }
        },
        "c103f92f647941d4a7f3008b27428c1e": {
          "model_module": "@jupyter-widgets/base",
          "model_name": "LayoutModel",
          "model_module_version": "1.2.0",
          "state": {
            "_model_module": "@jupyter-widgets/base",
            "_model_module_version": "1.2.0",
            "_model_name": "LayoutModel",
            "_view_count": null,
            "_view_module": "@jupyter-widgets/base",
            "_view_module_version": "1.2.0",
            "_view_name": "LayoutView",
            "align_content": null,
            "align_items": null,
            "align_self": null,
            "border": null,
            "bottom": null,
            "display": null,
            "flex": null,
            "flex_flow": null,
            "grid_area": null,
            "grid_auto_columns": null,
            "grid_auto_flow": null,
            "grid_auto_rows": null,
            "grid_column": null,
            "grid_gap": null,
            "grid_row": null,
            "grid_template_areas": null,
            "grid_template_columns": null,
            "grid_template_rows": null,
            "height": null,
            "justify_content": null,
            "justify_items": null,
            "left": null,
            "margin": null,
            "max_height": null,
            "max_width": null,
            "min_height": null,
            "min_width": null,
            "object_fit": null,
            "object_position": null,
            "order": null,
            "overflow": null,
            "overflow_x": null,
            "overflow_y": null,
            "padding": null,
            "right": null,
            "top": null,
            "visibility": null,
            "width": null
          }
        },
        "683e082cfb1f4b25875564e2f96a107a": {
          "model_module": "@jupyter-widgets/controls",
          "model_name": "DescriptionStyleModel",
          "model_module_version": "1.5.0",
          "state": {
            "_model_module": "@jupyter-widgets/controls",
            "_model_module_version": "1.5.0",
            "_model_name": "DescriptionStyleModel",
            "_view_count": null,
            "_view_module": "@jupyter-widgets/base",
            "_view_module_version": "1.2.0",
            "_view_name": "StyleView",
            "description_width": ""
          }
        },
        "6e166d26e679425fb4133183d25f66bf": {
          "model_module": "@jupyter-widgets/base",
          "model_name": "LayoutModel",
          "model_module_version": "1.2.0",
          "state": {
            "_model_module": "@jupyter-widgets/base",
            "_model_module_version": "1.2.0",
            "_model_name": "LayoutModel",
            "_view_count": null,
            "_view_module": "@jupyter-widgets/base",
            "_view_module_version": "1.2.0",
            "_view_name": "LayoutView",
            "align_content": null,
            "align_items": null,
            "align_self": null,
            "border": null,
            "bottom": null,
            "display": null,
            "flex": null,
            "flex_flow": null,
            "grid_area": null,
            "grid_auto_columns": null,
            "grid_auto_flow": null,
            "grid_auto_rows": null,
            "grid_column": null,
            "grid_gap": null,
            "grid_row": null,
            "grid_template_areas": null,
            "grid_template_columns": null,
            "grid_template_rows": null,
            "height": null,
            "justify_content": null,
            "justify_items": null,
            "left": null,
            "margin": null,
            "max_height": null,
            "max_width": null,
            "min_height": null,
            "min_width": null,
            "object_fit": null,
            "object_position": null,
            "order": null,
            "overflow": null,
            "overflow_x": null,
            "overflow_y": null,
            "padding": null,
            "right": null,
            "top": null,
            "visibility": null,
            "width": null
          }
        },
        "1cf5f353d813416ebc58a4a97e07dc48": {
          "model_module": "@jupyter-widgets/controls",
          "model_name": "ProgressStyleModel",
          "model_module_version": "1.5.0",
          "state": {
            "_model_module": "@jupyter-widgets/controls",
            "_model_module_version": "1.5.0",
            "_model_name": "ProgressStyleModel",
            "_view_count": null,
            "_view_module": "@jupyter-widgets/base",
            "_view_module_version": "1.2.0",
            "_view_name": "StyleView",
            "bar_color": null,
            "description_width": ""
          }
        },
        "b68b5bbbfccc4362ad234aac370745d9": {
          "model_module": "@jupyter-widgets/base",
          "model_name": "LayoutModel",
          "model_module_version": "1.2.0",
          "state": {
            "_model_module": "@jupyter-widgets/base",
            "_model_module_version": "1.2.0",
            "_model_name": "LayoutModel",
            "_view_count": null,
            "_view_module": "@jupyter-widgets/base",
            "_view_module_version": "1.2.0",
            "_view_name": "LayoutView",
            "align_content": null,
            "align_items": null,
            "align_self": null,
            "border": null,
            "bottom": null,
            "display": null,
            "flex": null,
            "flex_flow": null,
            "grid_area": null,
            "grid_auto_columns": null,
            "grid_auto_flow": null,
            "grid_auto_rows": null,
            "grid_column": null,
            "grid_gap": null,
            "grid_row": null,
            "grid_template_areas": null,
            "grid_template_columns": null,
            "grid_template_rows": null,
            "height": null,
            "justify_content": null,
            "justify_items": null,
            "left": null,
            "margin": null,
            "max_height": null,
            "max_width": null,
            "min_height": null,
            "min_width": null,
            "object_fit": null,
            "object_position": null,
            "order": null,
            "overflow": null,
            "overflow_x": null,
            "overflow_y": null,
            "padding": null,
            "right": null,
            "top": null,
            "visibility": null,
            "width": null
          }
        },
        "3ac123b88bfe4d5a8a6b421ebc9719ce": {
          "model_module": "@jupyter-widgets/controls",
          "model_name": "DescriptionStyleModel",
          "model_module_version": "1.5.0",
          "state": {
            "_model_module": "@jupyter-widgets/controls",
            "_model_module_version": "1.5.0",
            "_model_name": "DescriptionStyleModel",
            "_view_count": null,
            "_view_module": "@jupyter-widgets/base",
            "_view_module_version": "1.2.0",
            "_view_name": "StyleView",
            "description_width": ""
          }
        },
        "60dc7ed282a74cae84a7f4f5b67b00df": {
          "model_module": "@jupyter-widgets/controls",
          "model_name": "HBoxModel",
          "model_module_version": "1.5.0",
          "state": {
            "_dom_classes": [],
            "_model_module": "@jupyter-widgets/controls",
            "_model_module_version": "1.5.0",
            "_model_name": "HBoxModel",
            "_view_count": null,
            "_view_module": "@jupyter-widgets/controls",
            "_view_module_version": "1.5.0",
            "_view_name": "HBoxView",
            "box_style": "",
            "children": [
              "IPY_MODEL_4971a0157b4d48edb3967707f610b03e",
              "IPY_MODEL_ecdbc14396e84f9db5105142cdeee304",
              "IPY_MODEL_e293cc934f9744d9b1c1c28534d9ebab"
            ],
            "layout": "IPY_MODEL_c98a1829c4454f46965d843519bb6b79"
          }
        },
        "4971a0157b4d48edb3967707f610b03e": {
          "model_module": "@jupyter-widgets/controls",
          "model_name": "HTMLModel",
          "model_module_version": "1.5.0",
          "state": {
            "_dom_classes": [],
            "_model_module": "@jupyter-widgets/controls",
            "_model_module_version": "1.5.0",
            "_model_name": "HTMLModel",
            "_view_count": null,
            "_view_module": "@jupyter-widgets/controls",
            "_view_module_version": "1.5.0",
            "_view_name": "HTMLView",
            "description": "",
            "description_tooltip": null,
            "layout": "IPY_MODEL_f052dae930b64878806f65088d9bb91a",
            "placeholder": "​",
            "style": "IPY_MODEL_f1f82432d3924133be2a5a94f1019e2f",
            "value": "Generating train split: "
          }
        },
        "ecdbc14396e84f9db5105142cdeee304": {
          "model_module": "@jupyter-widgets/controls",
          "model_name": "FloatProgressModel",
          "model_module_version": "1.5.0",
          "state": {
            "_dom_classes": [],
            "_model_module": "@jupyter-widgets/controls",
            "_model_module_version": "1.5.0",
            "_model_name": "FloatProgressModel",
            "_view_count": null,
            "_view_module": "@jupyter-widgets/controls",
            "_view_module_version": "1.5.0",
            "_view_name": "ProgressView",
            "bar_style": "success",
            "description": "",
            "description_tooltip": null,
            "layout": "IPY_MODEL_6d9a582c92a94a238d3ee69721d44c2f",
            "max": 1,
            "min": 0,
            "orientation": "horizontal",
            "style": "IPY_MODEL_89c82d05ff804882824814bf4e57fc50",
            "value": 1
          }
        },
        "e293cc934f9744d9b1c1c28534d9ebab": {
          "model_module": "@jupyter-widgets/controls",
          "model_name": "HTMLModel",
          "model_module_version": "1.5.0",
          "state": {
            "_dom_classes": [],
            "_model_module": "@jupyter-widgets/controls",
            "_model_module_version": "1.5.0",
            "_model_name": "HTMLModel",
            "_view_count": null,
            "_view_module": "@jupyter-widgets/controls",
            "_view_module_version": "1.5.0",
            "_view_name": "HTMLView",
            "description": "",
            "description_tooltip": null,
            "layout": "IPY_MODEL_f6f462183183436984e61aea8ab2095a",
            "placeholder": "​",
            "style": "IPY_MODEL_fc4f5e7c07764840b930e366e6ecdfc3",
            "value": " 185972/0 [00:01&lt;00:00, 107664.36 examples/s]"
          }
        },
        "c98a1829c4454f46965d843519bb6b79": {
          "model_module": "@jupyter-widgets/base",
          "model_name": "LayoutModel",
          "model_module_version": "1.2.0",
          "state": {
            "_model_module": "@jupyter-widgets/base",
            "_model_module_version": "1.2.0",
            "_model_name": "LayoutModel",
            "_view_count": null,
            "_view_module": "@jupyter-widgets/base",
            "_view_module_version": "1.2.0",
            "_view_name": "LayoutView",
            "align_content": null,
            "align_items": null,
            "align_self": null,
            "border": null,
            "bottom": null,
            "display": null,
            "flex": null,
            "flex_flow": null,
            "grid_area": null,
            "grid_auto_columns": null,
            "grid_auto_flow": null,
            "grid_auto_rows": null,
            "grid_column": null,
            "grid_gap": null,
            "grid_row": null,
            "grid_template_areas": null,
            "grid_template_columns": null,
            "grid_template_rows": null,
            "height": null,
            "justify_content": null,
            "justify_items": null,
            "left": null,
            "margin": null,
            "max_height": null,
            "max_width": null,
            "min_height": null,
            "min_width": null,
            "object_fit": null,
            "object_position": null,
            "order": null,
            "overflow": null,
            "overflow_x": null,
            "overflow_y": null,
            "padding": null,
            "right": null,
            "top": null,
            "visibility": null,
            "width": null
          }
        },
        "f052dae930b64878806f65088d9bb91a": {
          "model_module": "@jupyter-widgets/base",
          "model_name": "LayoutModel",
          "model_module_version": "1.2.0",
          "state": {
            "_model_module": "@jupyter-widgets/base",
            "_model_module_version": "1.2.0",
            "_model_name": "LayoutModel",
            "_view_count": null,
            "_view_module": "@jupyter-widgets/base",
            "_view_module_version": "1.2.0",
            "_view_name": "LayoutView",
            "align_content": null,
            "align_items": null,
            "align_self": null,
            "border": null,
            "bottom": null,
            "display": null,
            "flex": null,
            "flex_flow": null,
            "grid_area": null,
            "grid_auto_columns": null,
            "grid_auto_flow": null,
            "grid_auto_rows": null,
            "grid_column": null,
            "grid_gap": null,
            "grid_row": null,
            "grid_template_areas": null,
            "grid_template_columns": null,
            "grid_template_rows": null,
            "height": null,
            "justify_content": null,
            "justify_items": null,
            "left": null,
            "margin": null,
            "max_height": null,
            "max_width": null,
            "min_height": null,
            "min_width": null,
            "object_fit": null,
            "object_position": null,
            "order": null,
            "overflow": null,
            "overflow_x": null,
            "overflow_y": null,
            "padding": null,
            "right": null,
            "top": null,
            "visibility": null,
            "width": null
          }
        },
        "f1f82432d3924133be2a5a94f1019e2f": {
          "model_module": "@jupyter-widgets/controls",
          "model_name": "DescriptionStyleModel",
          "model_module_version": "1.5.0",
          "state": {
            "_model_module": "@jupyter-widgets/controls",
            "_model_module_version": "1.5.0",
            "_model_name": "DescriptionStyleModel",
            "_view_count": null,
            "_view_module": "@jupyter-widgets/base",
            "_view_module_version": "1.2.0",
            "_view_name": "StyleView",
            "description_width": ""
          }
        },
        "6d9a582c92a94a238d3ee69721d44c2f": {
          "model_module": "@jupyter-widgets/base",
          "model_name": "LayoutModel",
          "model_module_version": "1.2.0",
          "state": {
            "_model_module": "@jupyter-widgets/base",
            "_model_module_version": "1.2.0",
            "_model_name": "LayoutModel",
            "_view_count": null,
            "_view_module": "@jupyter-widgets/base",
            "_view_module_version": "1.2.0",
            "_view_name": "LayoutView",
            "align_content": null,
            "align_items": null,
            "align_self": null,
            "border": null,
            "bottom": null,
            "display": null,
            "flex": null,
            "flex_flow": null,
            "grid_area": null,
            "grid_auto_columns": null,
            "grid_auto_flow": null,
            "grid_auto_rows": null,
            "grid_column": null,
            "grid_gap": null,
            "grid_row": null,
            "grid_template_areas": null,
            "grid_template_columns": null,
            "grid_template_rows": null,
            "height": null,
            "justify_content": null,
            "justify_items": null,
            "left": null,
            "margin": null,
            "max_height": null,
            "max_width": null,
            "min_height": null,
            "min_width": null,
            "object_fit": null,
            "object_position": null,
            "order": null,
            "overflow": null,
            "overflow_x": null,
            "overflow_y": null,
            "padding": null,
            "right": null,
            "top": null,
            "visibility": null,
            "width": "20px"
          }
        },
        "89c82d05ff804882824814bf4e57fc50": {
          "model_module": "@jupyter-widgets/controls",
          "model_name": "ProgressStyleModel",
          "model_module_version": "1.5.0",
          "state": {
            "_model_module": "@jupyter-widgets/controls",
            "_model_module_version": "1.5.0",
            "_model_name": "ProgressStyleModel",
            "_view_count": null,
            "_view_module": "@jupyter-widgets/base",
            "_view_module_version": "1.2.0",
            "_view_name": "StyleView",
            "bar_color": null,
            "description_width": ""
          }
        },
        "f6f462183183436984e61aea8ab2095a": {
          "model_module": "@jupyter-widgets/base",
          "model_name": "LayoutModel",
          "model_module_version": "1.2.0",
          "state": {
            "_model_module": "@jupyter-widgets/base",
            "_model_module_version": "1.2.0",
            "_model_name": "LayoutModel",
            "_view_count": null,
            "_view_module": "@jupyter-widgets/base",
            "_view_module_version": "1.2.0",
            "_view_name": "LayoutView",
            "align_content": null,
            "align_items": null,
            "align_self": null,
            "border": null,
            "bottom": null,
            "display": null,
            "flex": null,
            "flex_flow": null,
            "grid_area": null,
            "grid_auto_columns": null,
            "grid_auto_flow": null,
            "grid_auto_rows": null,
            "grid_column": null,
            "grid_gap": null,
            "grid_row": null,
            "grid_template_areas": null,
            "grid_template_columns": null,
            "grid_template_rows": null,
            "height": null,
            "justify_content": null,
            "justify_items": null,
            "left": null,
            "margin": null,
            "max_height": null,
            "max_width": null,
            "min_height": null,
            "min_width": null,
            "object_fit": null,
            "object_position": null,
            "order": null,
            "overflow": null,
            "overflow_x": null,
            "overflow_y": null,
            "padding": null,
            "right": null,
            "top": null,
            "visibility": null,
            "width": null
          }
        },
        "fc4f5e7c07764840b930e366e6ecdfc3": {
          "model_module": "@jupyter-widgets/controls",
          "model_name": "DescriptionStyleModel",
          "model_module_version": "1.5.0",
          "state": {
            "_model_module": "@jupyter-widgets/controls",
            "_model_module_version": "1.5.0",
            "_model_name": "DescriptionStyleModel",
            "_view_count": null,
            "_view_module": "@jupyter-widgets/base",
            "_view_module_version": "1.2.0",
            "_view_name": "StyleView",
            "description_width": ""
          }
        },
        "888a5677ddd74fac9de9b96a272dcf62": {
          "model_module": "@jupyter-widgets/controls",
          "model_name": "HBoxModel",
          "model_module_version": "1.5.0",
          "state": {
            "_dom_classes": [],
            "_model_module": "@jupyter-widgets/controls",
            "_model_module_version": "1.5.0",
            "_model_name": "HBoxModel",
            "_view_count": null,
            "_view_module": "@jupyter-widgets/controls",
            "_view_module_version": "1.5.0",
            "_view_name": "HBoxView",
            "box_style": "",
            "children": [
              "IPY_MODEL_14b2284803d64e57acddad837662c084",
              "IPY_MODEL_56e5bde64f1d414a8c8c2ecdd5c86401",
              "IPY_MODEL_f5cb63f2590947e59c168ed75a026778"
            ],
            "layout": "IPY_MODEL_663d382df1a14d8db448225706ad907e"
          }
        },
        "14b2284803d64e57acddad837662c084": {
          "model_module": "@jupyter-widgets/controls",
          "model_name": "HTMLModel",
          "model_module_version": "1.5.0",
          "state": {
            "_dom_classes": [],
            "_model_module": "@jupyter-widgets/controls",
            "_model_module_version": "1.5.0",
            "_model_name": "HTMLModel",
            "_view_count": null,
            "_view_module": "@jupyter-widgets/controls",
            "_view_module_version": "1.5.0",
            "_view_name": "HTMLView",
            "description": "",
            "description_tooltip": null,
            "layout": "IPY_MODEL_2a63835232a74fe88898b662db2093ed",
            "placeholder": "​",
            "style": "IPY_MODEL_f1139e85ce6d4136ba29dd7400f1ca80",
            "value": "Generating test split: "
          }
        },
        "56e5bde64f1d414a8c8c2ecdd5c86401": {
          "model_module": "@jupyter-widgets/controls",
          "model_name": "FloatProgressModel",
          "model_module_version": "1.5.0",
          "state": {
            "_dom_classes": [],
            "_model_module": "@jupyter-widgets/controls",
            "_model_module_version": "1.5.0",
            "_model_name": "FloatProgressModel",
            "_view_count": null,
            "_view_module": "@jupyter-widgets/controls",
            "_view_module_version": "1.5.0",
            "_view_name": "ProgressView",
            "bar_style": "success",
            "description": "",
            "description_tooltip": null,
            "layout": "IPY_MODEL_5c1ddb612bd24deaae6352783da1845c",
            "max": 1,
            "min": 0,
            "orientation": "horizontal",
            "style": "IPY_MODEL_7f76542aabe4446da5673a52463f1892",
            "value": 1
          }
        },
        "f5cb63f2590947e59c168ed75a026778": {
          "model_module": "@jupyter-widgets/controls",
          "model_name": "HTMLModel",
          "model_module_version": "1.5.0",
          "state": {
            "_dom_classes": [],
            "_model_module": "@jupyter-widgets/controls",
            "_model_module_version": "1.5.0",
            "_model_name": "HTMLModel",
            "_view_count": null,
            "_view_module": "@jupyter-widgets/controls",
            "_view_module_version": "1.5.0",
            "_view_name": "HTMLView",
            "description": "",
            "description_tooltip": null,
            "layout": "IPY_MODEL_54369718486a45f185be5283666932d1",
            "placeholder": "​",
            "style": "IPY_MODEL_209b27da1a72433aa376eb7cf23bf5c0",
            "value": " 20664/0 [00:00&lt;00:00, 88055.63 examples/s]"
          }
        },
        "663d382df1a14d8db448225706ad907e": {
          "model_module": "@jupyter-widgets/base",
          "model_name": "LayoutModel",
          "model_module_version": "1.2.0",
          "state": {
            "_model_module": "@jupyter-widgets/base",
            "_model_module_version": "1.2.0",
            "_model_name": "LayoutModel",
            "_view_count": null,
            "_view_module": "@jupyter-widgets/base",
            "_view_module_version": "1.2.0",
            "_view_name": "LayoutView",
            "align_content": null,
            "align_items": null,
            "align_self": null,
            "border": null,
            "bottom": null,
            "display": null,
            "flex": null,
            "flex_flow": null,
            "grid_area": null,
            "grid_auto_columns": null,
            "grid_auto_flow": null,
            "grid_auto_rows": null,
            "grid_column": null,
            "grid_gap": null,
            "grid_row": null,
            "grid_template_areas": null,
            "grid_template_columns": null,
            "grid_template_rows": null,
            "height": null,
            "justify_content": null,
            "justify_items": null,
            "left": null,
            "margin": null,
            "max_height": null,
            "max_width": null,
            "min_height": null,
            "min_width": null,
            "object_fit": null,
            "object_position": null,
            "order": null,
            "overflow": null,
            "overflow_x": null,
            "overflow_y": null,
            "padding": null,
            "right": null,
            "top": null,
            "visibility": null,
            "width": null
          }
        },
        "2a63835232a74fe88898b662db2093ed": {
          "model_module": "@jupyter-widgets/base",
          "model_name": "LayoutModel",
          "model_module_version": "1.2.0",
          "state": {
            "_model_module": "@jupyter-widgets/base",
            "_model_module_version": "1.2.0",
            "_model_name": "LayoutModel",
            "_view_count": null,
            "_view_module": "@jupyter-widgets/base",
            "_view_module_version": "1.2.0",
            "_view_name": "LayoutView",
            "align_content": null,
            "align_items": null,
            "align_self": null,
            "border": null,
            "bottom": null,
            "display": null,
            "flex": null,
            "flex_flow": null,
            "grid_area": null,
            "grid_auto_columns": null,
            "grid_auto_flow": null,
            "grid_auto_rows": null,
            "grid_column": null,
            "grid_gap": null,
            "grid_row": null,
            "grid_template_areas": null,
            "grid_template_columns": null,
            "grid_template_rows": null,
            "height": null,
            "justify_content": null,
            "justify_items": null,
            "left": null,
            "margin": null,
            "max_height": null,
            "max_width": null,
            "min_height": null,
            "min_width": null,
            "object_fit": null,
            "object_position": null,
            "order": null,
            "overflow": null,
            "overflow_x": null,
            "overflow_y": null,
            "padding": null,
            "right": null,
            "top": null,
            "visibility": null,
            "width": null
          }
        },
        "f1139e85ce6d4136ba29dd7400f1ca80": {
          "model_module": "@jupyter-widgets/controls",
          "model_name": "DescriptionStyleModel",
          "model_module_version": "1.5.0",
          "state": {
            "_model_module": "@jupyter-widgets/controls",
            "_model_module_version": "1.5.0",
            "_model_name": "DescriptionStyleModel",
            "_view_count": null,
            "_view_module": "@jupyter-widgets/base",
            "_view_module_version": "1.2.0",
            "_view_name": "StyleView",
            "description_width": ""
          }
        },
        "5c1ddb612bd24deaae6352783da1845c": {
          "model_module": "@jupyter-widgets/base",
          "model_name": "LayoutModel",
          "model_module_version": "1.2.0",
          "state": {
            "_model_module": "@jupyter-widgets/base",
            "_model_module_version": "1.2.0",
            "_model_name": "LayoutModel",
            "_view_count": null,
            "_view_module": "@jupyter-widgets/base",
            "_view_module_version": "1.2.0",
            "_view_name": "LayoutView",
            "align_content": null,
            "align_items": null,
            "align_self": null,
            "border": null,
            "bottom": null,
            "display": null,
            "flex": null,
            "flex_flow": null,
            "grid_area": null,
            "grid_auto_columns": null,
            "grid_auto_flow": null,
            "grid_auto_rows": null,
            "grid_column": null,
            "grid_gap": null,
            "grid_row": null,
            "grid_template_areas": null,
            "grid_template_columns": null,
            "grid_template_rows": null,
            "height": null,
            "justify_content": null,
            "justify_items": null,
            "left": null,
            "margin": null,
            "max_height": null,
            "max_width": null,
            "min_height": null,
            "min_width": null,
            "object_fit": null,
            "object_position": null,
            "order": null,
            "overflow": null,
            "overflow_x": null,
            "overflow_y": null,
            "padding": null,
            "right": null,
            "top": null,
            "visibility": null,
            "width": "20px"
          }
        },
        "7f76542aabe4446da5673a52463f1892": {
          "model_module": "@jupyter-widgets/controls",
          "model_name": "ProgressStyleModel",
          "model_module_version": "1.5.0",
          "state": {
            "_model_module": "@jupyter-widgets/controls",
            "_model_module_version": "1.5.0",
            "_model_name": "ProgressStyleModel",
            "_view_count": null,
            "_view_module": "@jupyter-widgets/base",
            "_view_module_version": "1.2.0",
            "_view_name": "StyleView",
            "bar_color": null,
            "description_width": ""
          }
        },
        "54369718486a45f185be5283666932d1": {
          "model_module": "@jupyter-widgets/base",
          "model_name": "LayoutModel",
          "model_module_version": "1.2.0",
          "state": {
            "_model_module": "@jupyter-widgets/base",
            "_model_module_version": "1.2.0",
            "_model_name": "LayoutModel",
            "_view_count": null,
            "_view_module": "@jupyter-widgets/base",
            "_view_module_version": "1.2.0",
            "_view_name": "LayoutView",
            "align_content": null,
            "align_items": null,
            "align_self": null,
            "border": null,
            "bottom": null,
            "display": null,
            "flex": null,
            "flex_flow": null,
            "grid_area": null,
            "grid_auto_columns": null,
            "grid_auto_flow": null,
            "grid_auto_rows": null,
            "grid_column": null,
            "grid_gap": null,
            "grid_row": null,
            "grid_template_areas": null,
            "grid_template_columns": null,
            "grid_template_rows": null,
            "height": null,
            "justify_content": null,
            "justify_items": null,
            "left": null,
            "margin": null,
            "max_height": null,
            "max_width": null,
            "min_height": null,
            "min_width": null,
            "object_fit": null,
            "object_position": null,
            "order": null,
            "overflow": null,
            "overflow_x": null,
            "overflow_y": null,
            "padding": null,
            "right": null,
            "top": null,
            "visibility": null,
            "width": null
          }
        },
        "209b27da1a72433aa376eb7cf23bf5c0": {
          "model_module": "@jupyter-widgets/controls",
          "model_name": "DescriptionStyleModel",
          "model_module_version": "1.5.0",
          "state": {
            "_model_module": "@jupyter-widgets/controls",
            "_model_module_version": "1.5.0",
            "_model_name": "DescriptionStyleModel",
            "_view_count": null,
            "_view_module": "@jupyter-widgets/base",
            "_view_module_version": "1.2.0",
            "_view_name": "StyleView",
            "description_width": ""
          }
        }
      }
    }
  },
  "nbformat": 4,
  "nbformat_minor": 0
}