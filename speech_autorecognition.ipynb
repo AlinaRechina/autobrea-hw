{
  "nbformat": 4,
  "nbformat_minor": 0,
  "metadata": {
    "colab": {
      "provenance": [],
      "collapsed_sections": [
        "cBLhKYK0iHqt"
      ]
    },
    "kernelspec": {
      "name": "python3",
      "display_name": "Python 3"
    },
    "language_info": {
      "name": "python"
    }
  },
  "cells": [
    {
      "cell_type": "markdown",
      "source": [
        "## Подготовим текст и звук из видео, а также эталонное прочтение"
      ],
      "metadata": {
        "id": "239Wrs9Ah1nI"
      }
    },
    {
      "cell_type": "code",
      "source": [
        "!pip install --force-reinstall https://github.com/yt-dlp/yt-dlp/archive/master.tar.gz # потому что у них там баг (https://stackoverflow.com/questions/75495800/error-unable-to-extract-uploader-id-youtube-discord-py)"
      ],
      "metadata": {
        "id": "qPaGnw_1nKQ5",
        "colab": {
          "base_uri": "https://localhost:8080/",
          "height": 1000
        },
        "outputId": "138d242c-edb5-4e40-a2c4-6fc5671077b6"
      },
      "execution_count": 44,
      "outputs": [
        {
          "output_type": "stream",
          "name": "stdout",
          "text": [
            "Collecting https://github.com/yt-dlp/yt-dlp/archive/master.tar.gz\n",
            "  Using cached https://github.com/yt-dlp/yt-dlp/archive/master.tar.gz (2.5 MB)\n",
            "  Installing build dependencies ... \u001b[?25l\u001b[?25hdone\n",
            "  Getting requirements to build wheel ... \u001b[?25l\u001b[?25hdone\n",
            "  Installing backend dependencies ... \u001b[?25l\u001b[?25hdone\n",
            "  Preparing metadata (pyproject.toml) ... \u001b[?25l\u001b[?25hdone\n",
            "Collecting mutagen (from yt-dlp==2023.11.16)\n",
            "  Using cached mutagen-1.47.0-py3-none-any.whl (194 kB)\n",
            "Collecting pycryptodomex (from yt-dlp==2023.11.16)\n",
            "  Using cached pycryptodomex-3.19.0-cp35-abi3-manylinux_2_17_x86_64.manylinux2014_x86_64.whl (2.1 MB)\n",
            "Collecting websockets (from yt-dlp==2023.11.16)\n",
            "  Using cached websockets-12.0-cp310-cp310-manylinux_2_5_x86_64.manylinux1_x86_64.manylinux_2_17_x86_64.manylinux2014_x86_64.whl (130 kB)\n",
            "Collecting certifi (from yt-dlp==2023.11.16)\n",
            "  Using cached certifi-2023.11.17-py3-none-any.whl (162 kB)\n",
            "Collecting requests<3,>=2.31.0 (from yt-dlp==2023.11.16)\n",
            "  Using cached requests-2.31.0-py3-none-any.whl (62 kB)\n",
            "Collecting urllib3<3,>=1.26.17 (from yt-dlp==2023.11.16)\n",
            "  Using cached urllib3-2.1.0-py3-none-any.whl (104 kB)\n",
            "Collecting brotli (from yt-dlp==2023.11.16)\n",
            "  Using cached Brotli-1.1.0-cp310-cp310-manylinux_2_5_x86_64.manylinux1_x86_64.manylinux_2_12_x86_64.manylinux2010_x86_64.whl (3.0 MB)\n",
            "Collecting charset-normalizer<4,>=2 (from requests<3,>=2.31.0->yt-dlp==2023.11.16)\n",
            "  Using cached charset_normalizer-3.3.2-cp310-cp310-manylinux_2_17_x86_64.manylinux2014_x86_64.whl (142 kB)\n",
            "Collecting idna<4,>=2.5 (from requests<3,>=2.31.0->yt-dlp==2023.11.16)\n",
            "  Using cached idna-3.6-py3-none-any.whl (61 kB)\n",
            "Building wheels for collected packages: yt-dlp\n",
            "  Building wheel for yt-dlp (pyproject.toml) ... \u001b[?25l\u001b[?25hdone\n",
            "  Created wheel for yt-dlp: filename=yt_dlp-2023.11.16-py2.py3-none-any.whl size=2751589 sha256=1c318a4e05aa202a84e1ff65750bcf71918ca88eff2df51b70c8ca207df666f4\n",
            "  Stored in directory: /tmp/pip-ephem-wheel-cache-qucukt6o/wheels/4c/91/d1/c5369304e2f7afb660bb6eee093af5a7d3c0ea05a3c1e8c797\n",
            "Successfully built yt-dlp\n",
            "Installing collected packages: brotli, websockets, urllib3, pycryptodomex, mutagen, idna, charset-normalizer, certifi, requests, yt-dlp\n",
            "  Attempting uninstall: brotli\n",
            "    Found existing installation: Brotli 1.1.0\n",
            "    Uninstalling Brotli-1.1.0:\n",
            "      Successfully uninstalled Brotli-1.1.0\n",
            "  Attempting uninstall: websockets\n",
            "    Found existing installation: websockets 12.0\n",
            "    Uninstalling websockets-12.0:\n",
            "      Successfully uninstalled websockets-12.0\n",
            "  Attempting uninstall: urllib3\n",
            "    Found existing installation: urllib3 2.1.0\n",
            "    Uninstalling urllib3-2.1.0:\n",
            "      Successfully uninstalled urllib3-2.1.0\n",
            "  Attempting uninstall: pycryptodomex\n",
            "    Found existing installation: pycryptodomex 3.19.0\n",
            "    Uninstalling pycryptodomex-3.19.0:\n",
            "      Successfully uninstalled pycryptodomex-3.19.0\n",
            "  Attempting uninstall: mutagen\n",
            "    Found existing installation: mutagen 1.47.0\n",
            "    Uninstalling mutagen-1.47.0:\n",
            "      Successfully uninstalled mutagen-1.47.0\n",
            "  Attempting uninstall: idna\n",
            "    Found existing installation: idna 3.6\n",
            "    Uninstalling idna-3.6:\n",
            "      Successfully uninstalled idna-3.6\n",
            "  Attempting uninstall: charset-normalizer\n",
            "    Found existing installation: charset-normalizer 3.3.2\n",
            "    Uninstalling charset-normalizer-3.3.2:\n",
            "      Successfully uninstalled charset-normalizer-3.3.2\n",
            "  Attempting uninstall: certifi\n",
            "    Found existing installation: certifi 2023.11.17\n",
            "    Uninstalling certifi-2023.11.17:\n",
            "      Successfully uninstalled certifi-2023.11.17\n",
            "  Attempting uninstall: requests\n",
            "    Found existing installation: requests 2.31.0\n",
            "    Uninstalling requests-2.31.0:\n",
            "      Successfully uninstalled requests-2.31.0\n",
            "  Attempting uninstall: yt-dlp\n",
            "    Found existing installation: yt-dlp 2023.11.16\n",
            "    Uninstalling yt-dlp-2023.11.16:\n",
            "      Successfully uninstalled yt-dlp-2023.11.16\n",
            "\u001b[31mERROR: pip's dependency resolver does not currently take into account all the packages that are installed. This behaviour is the source of the following dependency conflicts.\n",
            "lida 0.0.10 requires fastapi, which is not installed.\n",
            "lida 0.0.10 requires kaleido, which is not installed.\n",
            "lida 0.0.10 requires python-multipart, which is not installed.\n",
            "lida 0.0.10 requires uvicorn, which is not installed.\u001b[0m\u001b[31m\n",
            "\u001b[0mSuccessfully installed brotli-1.1.0 certifi-2023.11.17 charset-normalizer-3.3.2 idna-3.6 mutagen-1.47.0 pycryptodomex-3.19.0 requests-2.31.0 urllib3-2.1.0 websockets-12.0 yt-dlp-2023.11.16\n"
          ]
        },
        {
          "output_type": "display_data",
          "data": {
            "application/vnd.colab-display-data+json": {
              "pip_warning": {
                "packages": [
                  "Cryptodome",
                  "_brotli",
                  "brotli",
                  "certifi",
                  "charset_normalizer",
                  "mutagen",
                  "requests",
                  "websockets",
                  "yt_dlp"
                ]
              }
            }
          },
          "metadata": {}
        }
      ]
    },
    {
      "cell_type": "code",
      "execution_count": 45,
      "metadata": {
        "id": "Ej89AMg6hY2B"
      },
      "outputs": [],
      "source": [
        "import yt_dlp as youtube_dl\n",
        "import urllib\n",
        "import shutil"
      ]
    },
    {
      "cell_type": "code",
      "source": [
        "ydl_opts = {\n",
        "    'format': 'bestaudio/best',\n",
        "    'outtmpl': 'i want to marry him for your money',\n",
        "    'postprocessors': [{\n",
        "        'key': 'FFmpegExtractAudio',\n",
        "        'preferredcodec': 'wav',\n",
        "        'preferredquality': '192',\n",
        "    }],\n",
        "}\n",
        "\n",
        "with youtube_dl.YoutubeDL(ydl_opts) as ydl:\n",
        "    ydl.download(['https://www.youtube.com/watch?v=B5eOcnunhC8&ab_channel=NextLevel'])"
      ],
      "metadata": {
        "colab": {
          "base_uri": "https://localhost:8080/"
        },
        "id": "XALiW50Th1Kj",
        "outputId": "9e50103d-3100-4213-d8a4-86f5adfa092b"
      },
      "execution_count": 46,
      "outputs": [
        {
          "output_type": "stream",
          "name": "stdout",
          "text": [
            "[youtube] Extracting URL: https://www.youtube.com/watch?v=B5eOcnunhC8&ab_channel=NextLevel\n",
            "[youtube] B5eOcnunhC8: Downloading webpage\n",
            "[youtube] B5eOcnunhC8: Downloading ios player API JSON\n",
            "[youtube] B5eOcnunhC8: Downloading android player API JSON\n",
            "[youtube] B5eOcnunhC8: Downloading m3u8 information\n",
            "[info] B5eOcnunhC8: Downloading 1 format(s): 251\n",
            "[download] Destination: i want to marry him for your money\n",
            "[download] 100% of    1.29MiB in 00:00:00 at 9.72MiB/s   \n",
            "[ExtractAudio] Destination: i want to marry him for your money.wav\n",
            "Deleting original file i want to marry him for your money (pass -k to keep)\n"
          ]
        }
      ]
    },
    {
      "cell_type": "code",
      "source": [
        "# что-то это не сработало, возьмём другую библу\n",
        "ydl_opts = {\n",
        "    'write_auto_sub':True,\n",
        "    'skip_download':True,\n",
        "    'output':'marry_him_for_your_money_auto_subtitles.txt'\n",
        "}\n",
        "\n",
        "with youtube_dl.YoutubeDL(ydl_opts) as ydl:\n",
        "    ydl.download(['https://www.youtube.com/watch?v=B5eOcnunhC8&ab_channel=NextLevel'])"
      ],
      "metadata": {
        "colab": {
          "base_uri": "https://localhost:8080/"
        },
        "id": "y2i__NkF1MGf",
        "outputId": "f603ded2-6e2e-4e94-fee8-71b7e0fd36c3"
      },
      "execution_count": 47,
      "outputs": [
        {
          "output_type": "stream",
          "name": "stdout",
          "text": [
            "[youtube] Extracting URL: https://www.youtube.com/watch?v=B5eOcnunhC8&ab_channel=NextLevel\n",
            "[youtube] B5eOcnunhC8: Downloading webpage\n",
            "[youtube] B5eOcnunhC8: Downloading ios player API JSON\n",
            "[youtube] B5eOcnunhC8: Downloading android player API JSON\n",
            "[youtube] B5eOcnunhC8: Downloading m3u8 information\n",
            "[info] B5eOcnunhC8: Downloading 1 format(s): 315+251\n"
          ]
        }
      ]
    },
    {
      "cell_type": "code",
      "source": [
        "!pip install youtube-transcript-api"
      ],
      "metadata": {
        "colab": {
          "base_uri": "https://localhost:8080/"
        },
        "id": "a62XQJ1Th1O5",
        "outputId": "08a53872-acf0-46e5-e0d8-6451524526ac"
      },
      "execution_count": 48,
      "outputs": [
        {
          "output_type": "stream",
          "name": "stdout",
          "text": [
            "Requirement already satisfied: youtube-transcript-api in /usr/local/lib/python3.10/dist-packages (0.6.1)\n",
            "Requirement already satisfied: requests in /usr/local/lib/python3.10/dist-packages (from youtube-transcript-api) (2.31.0)\n",
            "Requirement already satisfied: charset-normalizer<4,>=2 in /usr/local/lib/python3.10/dist-packages (from requests->youtube-transcript-api) (3.3.2)\n",
            "Requirement already satisfied: idna<4,>=2.5 in /usr/local/lib/python3.10/dist-packages (from requests->youtube-transcript-api) (3.6)\n",
            "Requirement already satisfied: urllib3<3,>=1.21.1 in /usr/local/lib/python3.10/dist-packages (from requests->youtube-transcript-api) (2.1.0)\n",
            "Requirement already satisfied: certifi>=2017.4.17 in /usr/local/lib/python3.10/dist-packages (from requests->youtube-transcript-api) (2023.11.17)\n"
          ]
        }
      ]
    },
    {
      "cell_type": "code",
      "source": [
        "from youtube_transcript_api import YouTubeTranscriptApi\n",
        "srt = YouTubeTranscriptApi.get_transcript(\"B5eOcnunhC8?si=3gSCRd_yw9BXjmR2\")\n",
        "full_text = ''\n",
        "for dur in srt:\n",
        "    full_text += dur['text'] + ' '"
      ],
      "metadata": {
        "id": "PSrT6TRE4J1K"
      },
      "execution_count": 49,
      "outputs": []
    },
    {
      "cell_type": "code",
      "source": [
        "print(full_text)"
      ],
      "metadata": {
        "colab": {
          "base_uri": "https://localhost:8080/"
        },
        "id": "qEjBNSko487m",
        "outputId": "1b9e7f85-9284-4b71-98c5-9e1cff585323"
      },
      "execution_count": 50,
      "outputs": [
        {
          "output_type": "stream",
          "name": "stdout",
          "text": [
            "I love her very much I've never had a feeling like this up young lady you don't fool me one bit I'm not trying to but I bet I could though no you might convince this jackass that you love him but you'll never convince me that's too bad for his money no no honestly got the nerve to stand there and expect me to believe that you don't want to marry my son for his money it do you want to marry him for I want to marry him for your money Fair oh Lorelei did you see that's why we have to have his consent silly well at least we're getting down to brass tacks you admit that all your after is money no I don't aren't you funny don't you know that a man being rich is like a girl being pretty you might not marry a girl just because she's pretty but my goodness doesn't it help and if you had a daughter wouldn't you rather she didn't marry a poor man you'd wanted to have the most wonderful things in the world and to be very happy oh why is it wrong for me to want those things well I can see that say they told me you were stupid you don't sound stupid to me I can be smart when it's important \n"
          ]
        }
      ]
    },
    {
      "cell_type": "code",
      "source": [
        "correct_text = '''I love her very much. I've never had a feeling like this...\n",
        "Oh, shut up. Young lady, you don't fool me one bit.\n",
        "I'm not trying to. But I bet I could though.\n",
        "No, you might convince this jackass that you love him, but you'll never convince me.\n",
        "That's too bad. Because I do love him.\n",
        "Certainly, for his money.\n",
        "No, honestly.\n",
        "Have you got the nerve to stand there and expect me to believe that you don't want to marry my son for his money?\n",
        "It's true.\n",
        "Then what do you want to marry him for?\n",
        "I want to marry him for your money.\n",
        "There! Oh, Lorelie...\n",
        "Don't you see that's why we have to have his concent, silly.\n",
        "Well, at least we're getting down to brass tacks. You admit that all you're after is money.\n",
        "No, I don't. Aren't you funny? Don't you know that a man being rich is like a girl being pretty?\n",
        "You might not marry a girl just because she's pretty, but my goodness, doesn't it help?\n",
        "And if you had a daughter, wouldn't you rather she didn't marry a poor man?\n",
        "You'd wanted her to have the most wonderful things in the world and to be very happy.\n",
        "Oh why is it wrong for me to want those things?\n",
        "Well, I can see that... Say, they told me you were stupid! You don't sound stupid to me!\n",
        "I can be smart when it's important.'''"
      ],
      "metadata": {
        "id": "pTOoB4yD-8IW"
      },
      "execution_count": 51,
      "outputs": []
    },
    {
      "cell_type": "markdown",
      "source": [
        "## Распознаем текст\n",
        "\n",
        "Семинар тут: https://colab.research.google.com/github/facebookresearch/fairseq/blob/main/examples/mms/tts/tutorial/MMS_TTS_Inference_Colab.ipynb\n",
        "\n",
        "\n",
        "ДЗ тут:https://github.com/named-entity/hse-nlp/blob/master/4th_year/hw/hw2.md"
      ],
      "metadata": {
        "id": "ne8iLO_Zh9io"
      }
    },
    {
      "cell_type": "markdown",
      "source": [
        "### Whisper\n",
        "\n",
        "https://github.com/openai/whisper"
      ],
      "metadata": {
        "id": "cBLhKYK0iHqt"
      }
    },
    {
      "cell_type": "code",
      "source": [
        "! pip install git+https://github.com/openai/whisper.git\n",
        "! pip install jiwer"
      ],
      "metadata": {
        "id": "HdIwnni_h1Rk",
        "colab": {
          "base_uri": "https://localhost:8080/"
        },
        "outputId": "b3e48a96-3742-44fe-b27c-97f5da2c6ba2"
      },
      "execution_count": 9,
      "outputs": [
        {
          "output_type": "stream",
          "name": "stdout",
          "text": [
            "Installing collected packages: tiktoken, openai-whisper\n",
            "\u001b[31mERROR: pip's dependency resolver does not currently take into account all the packages that are installed. This behaviour is the source of the following dependency conflicts.\n",
            "llmx 0.0.15a0 requires cohere, which is not installed.\n",
            "llmx 0.0.15a0 requires openai, which is not installed.\u001b[0m\u001b[31m\n",
            "\u001b[0mSuccessfully installed openai-whisper-20231117 tiktoken-0.5.2\n",
            "Collecting jiwer\n",
            "  Downloading jiwer-3.0.3-py3-none-any.whl (21 kB)\n",
            "Requirement already satisfied: click<9.0.0,>=8.1.3 in /usr/local/lib/python3.10/dist-packages (from jiwer) (8.1.7)\n",
            "Collecting rapidfuzz<4,>=3 (from jiwer)\n",
            "  Downloading rapidfuzz-3.5.2-cp310-cp310-manylinux_2_17_x86_64.manylinux2014_x86_64.whl (3.3 MB)\n",
            "\u001b[2K     \u001b[90m━━━━━━━━━━━━━━━━━━━━━━━━━━━━━━━━━━━━━━━━\u001b[0m \u001b[32m3.3/3.3 MB\u001b[0m \u001b[31m28.0 MB/s\u001b[0m eta \u001b[36m0:00:00\u001b[0m\n",
            "\u001b[?25hInstalling collected packages: rapidfuzz, jiwer\n",
            "Successfully installed jiwer-3.0.3 rapidfuzz-3.5.2\n"
          ]
        }
      ]
    },
    {
      "cell_type": "code",
      "source": [
        "import whisper\n",
        "import numpy as np"
      ],
      "metadata": {
        "id": "atr4NxShWqlP"
      },
      "execution_count": 13,
      "outputs": []
    },
    {
      "cell_type": "code",
      "source": [
        "model = whisper.load_model(\"base.en\")\n",
        "print(\n",
        "    f\"Model is {'multilingual' if model.is_multilingual else 'English-only'} \"\n",
        "    f\"and has {sum(np.prod(p.shape) for p in model.parameters()):,} parameters.\"\n",
        ")\n",
        "result = model.transcribe(\"/content/i want to marry him for your money.wav\")"
      ],
      "metadata": {
        "colab": {
          "base_uri": "https://localhost:8080/"
        },
        "id": "6eLZu9KZUiZH",
        "outputId": "9a90955f-69a8-48d4-c7d0-a2ac05041d08"
      },
      "execution_count": 36,
      "outputs": [
        {
          "output_type": "stream",
          "name": "stdout",
          "text": [
            "Model is English-only and has 71,825,408 parameters.\n"
          ]
        },
        {
          "output_type": "stream",
          "name": "stderr",
          "text": [
            "/usr/local/lib/python3.10/dist-packages/whisper/transcribe.py:126: UserWarning: FP16 is not supported on CPU; using FP32 instead\n",
            "  warnings.warn(\"FP16 is not supported on CPU; using FP32 instead\")\n"
          ]
        }
      ]
    },
    {
      "cell_type": "code",
      "source": [
        "whisper_text = result[\"text\"]\n",
        "print(whisper_text) # идеально лол"
      ],
      "metadata": {
        "colab": {
          "base_uri": "https://localhost:8080/"
        },
        "id": "J-eGrUrlVaYn",
        "outputId": "810a1036-2f5b-4e94-edf4-d2c5341de063"
      },
      "execution_count": 24,
      "outputs": [
        {
          "output_type": "stream",
          "name": "stdout",
          "text": [
            " I love her very much. I've never had a feeling like this. Shut up. Young lady, you don't fool me one bit. I'm not trying to, but I bet I could, though. No, you might convince this jackass that you love him, but you'll never convince me. That's too bad, because I do love him. Certainly, for his money? No, honestly. Have you got the nerve to stand there and expect me to believe that you don't want to marry my son for his money? It's true. Then what do you want to marry him for? I want to marry him for your money. Fair. Oh, Lorelai. Don't you see? That's why we have to have his consent, silly. Well, at least we're getting down to brass tacks. You admit that all you're after is money. No, I don't. Aren't you funny? Don't you know that a man being rich is like a girl being pretty? You might not marry a girl just because she's pretty. But my goodness, doesn't it help? And if you had a daughter, wouldn't you rather? She didn't marry a poor man. But I was. You'd want her to have the most wonderful things in the world, and to be very happy. Oh, why is it wrong for me to want those things? Well, I can see that, say, they told me you were stupid. You don't sound stupid to me. I can be smart when it's important.\n"
          ]
        }
      ]
    },
    {
      "cell_type": "markdown",
      "source": [
        "## SpeechRecognition"
      ],
      "metadata": {
        "id": "9yBSTsYuUgiR"
      }
    },
    {
      "cell_type": "code",
      "source": [
        "!pip install SpeechRecognition"
      ],
      "metadata": {
        "colab": {
          "base_uri": "https://localhost:8080/"
        },
        "id": "DMAmYzaqUgx2",
        "outputId": "ff6fc53e-d151-4cf4-a7ff-e4de14907f9a"
      },
      "execution_count": 52,
      "outputs": [
        {
          "output_type": "stream",
          "name": "stdout",
          "text": [
            "Requirement already satisfied: SpeechRecognition in /usr/local/lib/python3.10/dist-packages (3.10.1)\n",
            "Requirement already satisfied: requests>=2.26.0 in /usr/local/lib/python3.10/dist-packages (from SpeechRecognition) (2.31.0)\n",
            "Requirement already satisfied: typing-extensions in /usr/local/lib/python3.10/dist-packages (from SpeechRecognition) (4.5.0)\n",
            "Requirement already satisfied: charset-normalizer<4,>=2 in /usr/local/lib/python3.10/dist-packages (from requests>=2.26.0->SpeechRecognition) (3.3.2)\n",
            "Requirement already satisfied: idna<4,>=2.5 in /usr/local/lib/python3.10/dist-packages (from requests>=2.26.0->SpeechRecognition) (3.6)\n",
            "Requirement already satisfied: urllib3<3,>=1.21.1 in /usr/local/lib/python3.10/dist-packages (from requests>=2.26.0->SpeechRecognition) (2.1.0)\n",
            "Requirement already satisfied: certifi>=2017.4.17 in /usr/local/lib/python3.10/dist-packages (from requests>=2.26.0->SpeechRecognition) (2023.11.17)\n"
          ]
        }
      ]
    },
    {
      "cell_type": "code",
      "source": [
        "!pip install PocketSphinx"
      ],
      "metadata": {
        "colab": {
          "base_uri": "https://localhost:8080/"
        },
        "id": "1ywnpVsn28OL",
        "outputId": "fe240b0a-10fc-4e3c-e45b-aff293a47f0d"
      },
      "execution_count": 64,
      "outputs": [
        {
          "output_type": "stream",
          "name": "stdout",
          "text": [
            "Collecting PocketSphinx\n",
            "  Downloading pocketsphinx-5.0.2-cp310-cp310-manylinux_2_17_x86_64.manylinux2014_x86_64.whl (29.2 MB)\n",
            "\u001b[2K     \u001b[90m━━━━━━━━━━━━━━━━━━━━━━━━━━━━━━━━━━━━━━━━\u001b[0m \u001b[32m29.2/29.2 MB\u001b[0m \u001b[31m3.8 MB/s\u001b[0m eta \u001b[36m0:00:00\u001b[0m\n",
            "\u001b[?25hCollecting sounddevice (from PocketSphinx)\n",
            "  Downloading sounddevice-0.4.6-py3-none-any.whl (31 kB)\n",
            "Requirement already satisfied: CFFI>=1.0 in /usr/local/lib/python3.10/dist-packages (from sounddevice->PocketSphinx) (1.16.0)\n",
            "Requirement already satisfied: pycparser in /usr/local/lib/python3.10/dist-packages (from CFFI>=1.0->sounddevice->PocketSphinx) (2.21)\n",
            "Installing collected packages: sounddevice, PocketSphinx\n",
            "Successfully installed PocketSphinx-5.0.2 sounddevice-0.4.6\n"
          ]
        }
      ]
    },
    {
      "cell_type": "code",
      "source": [
        "import speech_recognition as sr"
      ],
      "metadata": {
        "id": "J8MadzYQil5i"
      },
      "execution_count": 54,
      "outputs": []
    },
    {
      "cell_type": "code",
      "source": [
        "r = sr.Recognizer()\n",
        "wav_file = sr.AudioFile('/content/i want to marry him for your money.wav')\n",
        "with wav_file as source:\n",
        "    audio = r.record(source)\n",
        "google_result = r.recognize_google(audio)"
      ],
      "metadata": {
        "id": "XC9Mhr16ivsX"
      },
      "execution_count": 55,
      "outputs": []
    },
    {
      "cell_type": "code",
      "source": [
        "print(google_result)"
      ],
      "metadata": {
        "colab": {
          "base_uri": "https://localhost:8080/"
        },
        "id": "Z0rlkc4BoaQe",
        "outputId": "3e94f0c9-5ffe-4a84-f396-90bfab0a9328"
      },
      "execution_count": 56,
      "outputs": [
        {
          "output_type": "stream",
          "name": "stdout",
          "text": [
            "I love her very much I've never had a feeling like this job young lady you don't fool me one bit I'm not trying to but I bet I could though you might convince this jackass that you love him but you'll never convince me that's too bad because I do love him for his money for you and if you had a daughter to have the most wonderful thing in the world why is it wrong for me to want those things well I can see that say they told me you were stupid you don't sound stupid to me I can be smart when it's important\n"
          ]
        }
      ]
    },
    {
      "cell_type": "code",
      "source": [
        "sphinx_result = r.recognize_sphinx(audio)"
      ],
      "metadata": {
        "id": "nh056Hln2518"
      },
      "execution_count": 67,
      "outputs": []
    },
    {
      "cell_type": "code",
      "source": [
        "print(sphinx_result)"
      ],
      "metadata": {
        "colab": {
          "base_uri": "https://localhost:8080/"
        },
        "id": "06DHm-LpxZRz",
        "outputId": "3aa96574-edae-47a6-eee0-e3095c25071f"
      },
      "execution_count": 68,
      "outputs": [
        {
          "output_type": "stream",
          "name": "stdout",
          "text": [
            "i love her very much i've never had a feeling anxious to young lady you don't fool me one bit and then trying to haiti have clean no you would convince this object as to to remember joe never convince me that a man because i do mean certainly for his moderate no constant argue that the marriage then they expect me to believe that you don't wanna marry my show abrasion on it gets to them what do wanna marry him full time lincoln and youthful yan he there it cold war lions hit in time we had twins can see him see any one of the spring getting down to brass tacks you admit that all your letters lay no i don't want you find don't you know the a and b. which is like a guilty plea you might not be negative because she's pretty and tonight treatments doesn't inhale it if you had on a windshield and she didn't nary a poor name what i wished you'd wanna can the most wonderful thing unaware of and i mean i had the whole why hang on for me to want those states where i can show you that taipei they told me your stupid you know or so or stupid to be taking the sniping at him going\n"
          ]
        }
      ]
    },
    {
      "cell_type": "markdown",
      "source": [
        "# Считаем качество\n",
        "![image.png](data:image/png;base64,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)"
      ],
      "metadata": {
        "id": "Cpw3nGsDh5Fr"
      }
    },
    {
      "cell_type": "code",
      "source": [
        "!pip install jiwer"
      ],
      "metadata": {
        "colab": {
          "base_uri": "https://localhost:8080/"
        },
        "id": "uGcrBDPfh5sY",
        "outputId": "01db389a-9a85-455d-85b5-deb5403d7404"
      },
      "execution_count": 69,
      "outputs": [
        {
          "output_type": "stream",
          "name": "stdout",
          "text": [
            "Requirement already satisfied: jiwer in /usr/local/lib/python3.10/dist-packages (3.0.3)\n",
            "Requirement already satisfied: click<9.0.0,>=8.1.3 in /usr/local/lib/python3.10/dist-packages (from jiwer) (8.1.7)\n",
            "Requirement already satisfied: rapidfuzz<4,>=3 in /usr/local/lib/python3.10/dist-packages (from jiwer) (3.5.2)\n"
          ]
        }
      ]
    },
    {
      "cell_type": "code",
      "source": [
        "!pip install contractions"
      ],
      "metadata": {
        "colab": {
          "base_uri": "https://localhost:8080/"
        },
        "id": "Apo8R9AqVv9E",
        "outputId": "02ed70c7-759b-44de-cdc0-cf124e6bd7dc"
      },
      "execution_count": 81,
      "outputs": [
        {
          "output_type": "stream",
          "name": "stdout",
          "text": [
            "Collecting contractions\n",
            "  Downloading contractions-0.1.73-py2.py3-none-any.whl (8.7 kB)\n",
            "Collecting textsearch>=0.0.21 (from contractions)\n",
            "  Downloading textsearch-0.0.24-py2.py3-none-any.whl (7.6 kB)\n",
            "Collecting anyascii (from textsearch>=0.0.21->contractions)\n",
            "  Downloading anyascii-0.3.2-py3-none-any.whl (289 kB)\n",
            "\u001b[2K     \u001b[90m━━━━━━━━━━━━━━━━━━━━━━━━━━━━━━━━━━━━━━━━\u001b[0m \u001b[32m289.9/289.9 kB\u001b[0m \u001b[31m4.4 MB/s\u001b[0m eta \u001b[36m0:00:00\u001b[0m\n",
            "\u001b[?25hCollecting pyahocorasick (from textsearch>=0.0.21->contractions)\n",
            "  Downloading pyahocorasick-2.0.0-cp310-cp310-manylinux_2_5_x86_64.manylinux1_x86_64.manylinux_2_12_x86_64.manylinux2010_x86_64.whl (110 kB)\n",
            "\u001b[2K     \u001b[90m━━━━━━━━━━━━━━━━━━━━━━━━━━━━━━━━━━━━━━━━\u001b[0m \u001b[32m110.8/110.8 kB\u001b[0m \u001b[31m4.7 MB/s\u001b[0m eta \u001b[36m0:00:00\u001b[0m\n",
            "\u001b[?25hInstalling collected packages: pyahocorasick, anyascii, textsearch, contractions\n",
            "Successfully installed anyascii-0.3.2 contractions-0.1.73 pyahocorasick-2.0.0 textsearch-0.0.24\n"
          ]
        }
      ]
    },
    {
      "cell_type": "code",
      "source": [
        "from jiwer import wer\n",
        "import contractions"
      ],
      "metadata": {
        "id": "yVmgBsDLh522"
      },
      "execution_count": 82,
      "outputs": []
    },
    {
      "cell_type": "code",
      "source": [
        "# напишем обрабатывалку, чтобы удалять знаки препинания и приводить всё к нижнему регистру\n",
        "def cleaner(text):\n",
        "    text = text.replace('\\n', ' ')\n",
        "    text = text.replace('.', '')\n",
        "    text = text.replace(',', '')\n",
        "    text = text.replace('!', '')\n",
        "    text = text.replace('?', '')\n",
        "\n",
        "    # это нужно, чтобы не спорить, было там you are или you're\n",
        "    # потому что это не всегда даже носителю слышно\n",
        "    text_with_full_forms = []\n",
        "    for word in text.lower().split(' '):\n",
        "        text_with_full_forms.append(contractions.fix(word))\n",
        "\n",
        "    return ' '.join(text_with_full_forms)"
      ],
      "metadata": {
        "id": "Dr8pptxRSytv"
      },
      "execution_count": 83,
      "outputs": []
    },
    {
      "cell_type": "code",
      "source": [
        "print(wer(cleaner(correct_text), cleaner(whisper_text)))"
      ],
      "metadata": {
        "colab": {
          "base_uri": "https://localhost:8080/"
        },
        "id": "fcyAqs3_Sq3n",
        "outputId": "8eac1621-8727-40f1-9659-090d32c2490d"
      },
      "execution_count": 84,
      "outputs": [
        {
          "output_type": "stream",
          "name": "stdout",
          "text": [
            "0.030534351145038167\n"
          ]
        }
      ]
    },
    {
      "cell_type": "code",
      "source": [
        "print(wer(cleaner(correct_text), cleaner(google_result)))"
      ],
      "metadata": {
        "colab": {
          "base_uri": "https://localhost:8080/"
        },
        "id": "P6o6AxufT7cX",
        "outputId": "ebb0c1da-3873-410c-f605-35fe96bb2279"
      },
      "execution_count": 85,
      "outputs": [
        {
          "output_type": "stream",
          "name": "stdout",
          "text": [
            "0.5687022900763359\n"
          ]
        }
      ]
    },
    {
      "cell_type": "code",
      "source": [
        "print(wer(cleaner(correct_text), cleaner(sphinx_result)))"
      ],
      "metadata": {
        "colab": {
          "base_uri": "https://localhost:8080/"
        },
        "id": "lqjyBUTdUCNy",
        "outputId": "2f597584-4d81-41e3-9cdf-5f3e3949109d"
      },
      "execution_count": 86,
      "outputs": [
        {
          "output_type": "stream",
          "name": "stdout",
          "text": [
            "0.5610687022900763\n"
          ]
        }
      ]
    },
    {
      "cell_type": "markdown",
      "source": [
        "Whisper идеален))))"
      ],
      "metadata": {
        "id": "cXfTvh2YUdjG"
      }
    }
  ]
}